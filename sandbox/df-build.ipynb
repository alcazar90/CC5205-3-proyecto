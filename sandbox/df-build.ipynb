{
 "cells": [
  {
   "cell_type": "code",
   "execution_count": 31,
   "metadata": {},
   "outputs": [],
   "source": [
    "import pandas as pd\n",
    "import numpy as np\n",
    "import glob\n",
    "import json\n",
    "\n",
    "from tqdm.notebook import tqdm"
   ]
  },
  {
   "cell_type": "markdown",
   "metadata": {},
   "source": [
    "## DF Raw\n",
    "\n",
    "Archivos descargados desde `https://www.kaggle.com/adityak80/spotify-millions-playlist?select=spotify_million_playlist_dataset_challenge`"
   ]
  },
  {
   "cell_type": "code",
   "execution_count": 37,
   "metadata": {},
   "outputs": [],
   "source": [
    "archivos = glob.glob(\n",
    "    '/media/giani/Gianicosas/spotify/data/*.json'\n",
    ")\n",
    "\n",
    "sample_size = 2000"
   ]
  },
  {
   "cell_type": "code",
   "execution_count": 38,
   "metadata": {},
   "outputs": [],
   "source": [
    "def leer_json(ruta):\n",
    "    json_data = {}\n",
    "    \n",
    "    with open(ruta) as f:\n",
    "        json_data = json.load(f)\n",
    "        \n",
    "    return json_data.get('playlists')"
   ]
  },
  {
   "cell_type": "markdown",
   "metadata": {},
   "source": [
    "De cada archivo `json`, se toman muestras al azar (según valor de `sample_size`)"
   ]
  },
  {
   "cell_type": "code",
   "execution_count": 39,
   "metadata": {},
   "outputs": [
    {
     "data": {
      "application/vnd.jupyter.widget-view+json": {
       "model_id": "480d8ff78db64f22b9bc69ace3a0511c",
       "version_major": 2,
       "version_minor": 0
      },
      "text/plain": [
       "  0%|          | 0/1000 [00:00<?, ?it/s]"
      ]
     },
     "metadata": {},
     "output_type": "display_data"
    }
   ],
   "source": [
    "df_spotify = pd.concat([\n",
    "    pd.DataFrame(leer_json(f)).sample(n=int(sample_size / 1000), random_state=42)\n",
    "    for f in tqdm(archivos, total=len(archivos))\n",
    "]).reset_index(drop=True)"
   ]
  },
  {
   "cell_type": "code",
   "execution_count": 40,
   "metadata": {},
   "outputs": [
    {
     "name": "stdout",
     "output_type": "stream",
     "text": [
      "(2000, 12)\n"
     ]
    },
    {
     "data": {
      "text/html": [
       "<div>\n",
       "<style scoped>\n",
       "    .dataframe tbody tr th:only-of-type {\n",
       "        vertical-align: middle;\n",
       "    }\n",
       "\n",
       "    .dataframe tbody tr th {\n",
       "        vertical-align: top;\n",
       "    }\n",
       "\n",
       "    .dataframe thead th {\n",
       "        text-align: right;\n",
       "    }\n",
       "</style>\n",
       "<table border=\"1\" class=\"dataframe\">\n",
       "  <thead>\n",
       "    <tr style=\"text-align: right;\">\n",
       "      <th></th>\n",
       "      <th>name</th>\n",
       "      <th>collaborative</th>\n",
       "      <th>pid</th>\n",
       "      <th>modified_at</th>\n",
       "      <th>num_tracks</th>\n",
       "      <th>num_albums</th>\n",
       "      <th>num_followers</th>\n",
       "      <th>tracks</th>\n",
       "      <th>num_edits</th>\n",
       "      <th>duration_ms</th>\n",
       "      <th>num_artists</th>\n",
       "      <th>description</th>\n",
       "    </tr>\n",
       "  </thead>\n",
       "  <tbody>\n",
       "    <tr>\n",
       "      <th>0</th>\n",
       "      <td>music</td>\n",
       "      <td>false</td>\n",
       "      <td>521</td>\n",
       "      <td>1506643200</td>\n",
       "      <td>127</td>\n",
       "      <td>108</td>\n",
       "      <td>1</td>\n",
       "      <td>[{'pos': 0, 'artist_name': 'Charli XCX', 'trac...</td>\n",
       "      <td>45</td>\n",
       "      <td>27364349</td>\n",
       "      <td>85</td>\n",
       "      <td>NaN</td>\n",
       "    </tr>\n",
       "    <tr>\n",
       "      <th>1</th>\n",
       "      <td>fuego</td>\n",
       "      <td>false</td>\n",
       "      <td>737</td>\n",
       "      <td>1509062400</td>\n",
       "      <td>35</td>\n",
       "      <td>29</td>\n",
       "      <td>1</td>\n",
       "      <td>[{'pos': 0, 'artist_name': 'Dropout', 'track_u...</td>\n",
       "      <td>17</td>\n",
       "      <td>7650968</td>\n",
       "      <td>26</td>\n",
       "      <td>NaN</td>\n",
       "    </tr>\n",
       "    <tr>\n",
       "      <th>2</th>\n",
       "      <td>yoga</td>\n",
       "      <td>false</td>\n",
       "      <td>1521</td>\n",
       "      <td>1506470400</td>\n",
       "      <td>32</td>\n",
       "      <td>31</td>\n",
       "      <td>1</td>\n",
       "      <td>[{'pos': 0, 'artist_name': 'Gorillaz', 'track_...</td>\n",
       "      <td>3</td>\n",
       "      <td>7031323</td>\n",
       "      <td>29</td>\n",
       "      <td>NaN</td>\n",
       "    </tr>\n",
       "    <tr>\n",
       "      <th>3</th>\n",
       "      <td>yaaas</td>\n",
       "      <td>false</td>\n",
       "      <td>1737</td>\n",
       "      <td>1490313600</td>\n",
       "      <td>44</td>\n",
       "      <td>32</td>\n",
       "      <td>2</td>\n",
       "      <td>[{'pos': 0, 'artist_name': 'Gallant', 'track_u...</td>\n",
       "      <td>11</td>\n",
       "      <td>11124040</td>\n",
       "      <td>27</td>\n",
       "      <td>NaN</td>\n",
       "    </tr>\n",
       "    <tr>\n",
       "      <th>4</th>\n",
       "      <td>Gym Time</td>\n",
       "      <td>false</td>\n",
       "      <td>10521</td>\n",
       "      <td>1406764800</td>\n",
       "      <td>82</td>\n",
       "      <td>60</td>\n",
       "      <td>1</td>\n",
       "      <td>[{'pos': 0, 'artist_name': 'OutKast', 'track_u...</td>\n",
       "      <td>27</td>\n",
       "      <td>21092031</td>\n",
       "      <td>47</td>\n",
       "      <td>NaN</td>\n",
       "    </tr>\n",
       "  </tbody>\n",
       "</table>\n",
       "</div>"
      ],
      "text/plain": [
       "       name collaborative    pid  modified_at  num_tracks  num_albums  \\\n",
       "0     music         false    521   1506643200         127         108   \n",
       "1     fuego         false    737   1509062400          35          29   \n",
       "2     yoga          false   1521   1506470400          32          31   \n",
       "3     yaaas         false   1737   1490313600          44          32   \n",
       "4  Gym Time         false  10521   1406764800          82          60   \n",
       "\n",
       "   num_followers                                             tracks  \\\n",
       "0              1  [{'pos': 0, 'artist_name': 'Charli XCX', 'trac...   \n",
       "1              1  [{'pos': 0, 'artist_name': 'Dropout', 'track_u...   \n",
       "2              1  [{'pos': 0, 'artist_name': 'Gorillaz', 'track_...   \n",
       "3              2  [{'pos': 0, 'artist_name': 'Gallant', 'track_u...   \n",
       "4              1  [{'pos': 0, 'artist_name': 'OutKast', 'track_u...   \n",
       "\n",
       "   num_edits  duration_ms  num_artists description  \n",
       "0         45     27364349           85         NaN  \n",
       "1         17      7650968           26         NaN  \n",
       "2          3      7031323           29         NaN  \n",
       "3         11     11124040           27         NaN  \n",
       "4         27     21092031           47         NaN  "
      ]
     },
     "execution_count": 40,
     "metadata": {},
     "output_type": "execute_result"
    }
   ],
   "source": [
    "print(df_spotify.shape)\n",
    "df_spotify.head()"
   ]
  },
  {
   "cell_type": "markdown",
   "metadata": {},
   "source": [
    "## Expansión de filas\n",
    "\n",
    "Se expande la columna `tracks` de forma tal que se genera una fila por cada canción dentro de cada lista\n"
   ]
  },
  {
   "cell_type": "code",
   "execution_count": 41,
   "metadata": {},
   "outputs": [
    {
     "data": {
      "text/plain": [
       "(131680, 12)"
      ]
     },
     "execution_count": 41,
     "metadata": {},
     "output_type": "execute_result"
    }
   ],
   "source": [
    "df_explode = df_spotify.explode('tracks').reset_index(drop=True)\n",
    "\n",
    "df_explode.shape"
   ]
  },
  {
   "cell_type": "code",
   "execution_count": 42,
   "metadata": {},
   "outputs": [
    {
     "data": {
      "text/html": [
       "<div>\n",
       "<style scoped>\n",
       "    .dataframe tbody tr th:only-of-type {\n",
       "        vertical-align: middle;\n",
       "    }\n",
       "\n",
       "    .dataframe tbody tr th {\n",
       "        vertical-align: top;\n",
       "    }\n",
       "\n",
       "    .dataframe thead th {\n",
       "        text-align: right;\n",
       "    }\n",
       "</style>\n",
       "<table border=\"1\" class=\"dataframe\">\n",
       "  <thead>\n",
       "    <tr style=\"text-align: right;\">\n",
       "      <th></th>\n",
       "      <th>name</th>\n",
       "      <th>collaborative</th>\n",
       "      <th>pid</th>\n",
       "      <th>modified_at</th>\n",
       "      <th>num_tracks</th>\n",
       "      <th>num_albums</th>\n",
       "      <th>num_followers</th>\n",
       "      <th>tracks</th>\n",
       "      <th>num_edits</th>\n",
       "      <th>duration_ms</th>\n",
       "      <th>num_artists</th>\n",
       "      <th>description</th>\n",
       "    </tr>\n",
       "  </thead>\n",
       "  <tbody>\n",
       "    <tr>\n",
       "      <th>0</th>\n",
       "      <td>music</td>\n",
       "      <td>false</td>\n",
       "      <td>521</td>\n",
       "      <td>1506643200</td>\n",
       "      <td>127</td>\n",
       "      <td>108</td>\n",
       "      <td>1</td>\n",
       "      <td>{'pos': 0, 'artist_name': 'Charli XCX', 'track...</td>\n",
       "      <td>45</td>\n",
       "      <td>27364349</td>\n",
       "      <td>85</td>\n",
       "      <td>NaN</td>\n",
       "    </tr>\n",
       "    <tr>\n",
       "      <th>1</th>\n",
       "      <td>music</td>\n",
       "      <td>false</td>\n",
       "      <td>521</td>\n",
       "      <td>1506643200</td>\n",
       "      <td>127</td>\n",
       "      <td>108</td>\n",
       "      <td>1</td>\n",
       "      <td>{'pos': 1, 'artist_name': 'The Chainsmokers', ...</td>\n",
       "      <td>45</td>\n",
       "      <td>27364349</td>\n",
       "      <td>85</td>\n",
       "      <td>NaN</td>\n",
       "    </tr>\n",
       "    <tr>\n",
       "      <th>2</th>\n",
       "      <td>music</td>\n",
       "      <td>false</td>\n",
       "      <td>521</td>\n",
       "      <td>1506643200</td>\n",
       "      <td>127</td>\n",
       "      <td>108</td>\n",
       "      <td>1</td>\n",
       "      <td>{'pos': 2, 'artist_name': 'MAX', 'track_uri': ...</td>\n",
       "      <td>45</td>\n",
       "      <td>27364349</td>\n",
       "      <td>85</td>\n",
       "      <td>NaN</td>\n",
       "    </tr>\n",
       "    <tr>\n",
       "      <th>3</th>\n",
       "      <td>music</td>\n",
       "      <td>false</td>\n",
       "      <td>521</td>\n",
       "      <td>1506643200</td>\n",
       "      <td>127</td>\n",
       "      <td>108</td>\n",
       "      <td>1</td>\n",
       "      <td>{'pos': 3, 'artist_name': 'Post Malone', 'trac...</td>\n",
       "      <td>45</td>\n",
       "      <td>27364349</td>\n",
       "      <td>85</td>\n",
       "      <td>NaN</td>\n",
       "    </tr>\n",
       "    <tr>\n",
       "      <th>4</th>\n",
       "      <td>music</td>\n",
       "      <td>false</td>\n",
       "      <td>521</td>\n",
       "      <td>1506643200</td>\n",
       "      <td>127</td>\n",
       "      <td>108</td>\n",
       "      <td>1</td>\n",
       "      <td>{'pos': 4, 'artist_name': 'AJR', 'track_uri': ...</td>\n",
       "      <td>45</td>\n",
       "      <td>27364349</td>\n",
       "      <td>85</td>\n",
       "      <td>NaN</td>\n",
       "    </tr>\n",
       "  </tbody>\n",
       "</table>\n",
       "</div>"
      ],
      "text/plain": [
       "    name collaborative  pid  modified_at  num_tracks  num_albums  \\\n",
       "0  music         false  521   1506643200         127         108   \n",
       "1  music         false  521   1506643200         127         108   \n",
       "2  music         false  521   1506643200         127         108   \n",
       "3  music         false  521   1506643200         127         108   \n",
       "4  music         false  521   1506643200         127         108   \n",
       "\n",
       "   num_followers                                             tracks  \\\n",
       "0              1  {'pos': 0, 'artist_name': 'Charli XCX', 'track...   \n",
       "1              1  {'pos': 1, 'artist_name': 'The Chainsmokers', ...   \n",
       "2              1  {'pos': 2, 'artist_name': 'MAX', 'track_uri': ...   \n",
       "3              1  {'pos': 3, 'artist_name': 'Post Malone', 'trac...   \n",
       "4              1  {'pos': 4, 'artist_name': 'AJR', 'track_uri': ...   \n",
       "\n",
       "   num_edits  duration_ms  num_artists description  \n",
       "0         45     27364349           85         NaN  \n",
       "1         45     27364349           85         NaN  \n",
       "2         45     27364349           85         NaN  \n",
       "3         45     27364349           85         NaN  \n",
       "4         45     27364349           85         NaN  "
      ]
     },
     "execution_count": 42,
     "metadata": {},
     "output_type": "execute_result"
    }
   ],
   "source": [
    "df_explode.head()"
   ]
  },
  {
   "cell_type": "code",
   "execution_count": 43,
   "metadata": {},
   "outputs": [
    {
     "data": {
      "text/plain": [
       "{'pos': 0,\n",
       " 'artist_name': 'Charli XCX',\n",
       " 'track_uri': 'spotify:track:0y8Wf6ltWpGCpgqVa21QNX',\n",
       " 'artist_uri': 'spotify:artist:25uiPmTg16RbhZWAqwLBy5',\n",
       " 'track_name': 'After The Afterparty (feat. Lil Yachty)',\n",
       " 'album_uri': 'spotify:album:4Txd0wc4WAgnoxXx0SLAlw',\n",
       " 'duration_ms': 219480,\n",
       " 'album_name': 'After The Afterparty (feat. Lil Yachty)'}"
      ]
     },
     "execution_count": 43,
     "metadata": {},
     "output_type": "execute_result"
    }
   ],
   "source": [
    "df_explode['tracks'][0]"
   ]
  },
  {
   "cell_type": "markdown",
   "metadata": {},
   "source": [
    "## Expansión de columnas\n",
    "\n",
    "Se crean columnas a partir de los atributos dentro de cada track"
   ]
  },
  {
   "cell_type": "code",
   "execution_count": 44,
   "metadata": {},
   "outputs": [],
   "source": [
    "def get_track_detail(t):\n",
    "    return (t.get('pos'), t.get('artist_name'), t.get('track_uri'), t.get('artist_uri'), t.get('track_name'),\n",
    "             t.get('album_uri'), t.get('duration_ms'), t.get('album_name'))"
   ]
  },
  {
   "cell_type": "code",
   "execution_count": 45,
   "metadata": {},
   "outputs": [
    {
     "data": {
      "application/vnd.jupyter.widget-view+json": {
       "model_id": "d7fcee020ebf47dfb287d9d2874c0d69",
       "version_major": 2,
       "version_minor": 0
      },
      "text/plain": [
       "  0%|          | 0/2 [00:00<?, ?it/s]"
      ]
     },
     "metadata": {},
     "output_type": "display_data"
    }
   ],
   "source": [
    "rangos = list(range(0, df_explode.shape[0], 100000))\n",
    "new_cols = [\n",
    "    'pos', 'artist_name', 'track_uri', 'artist_uri', 'track_name', 'album_uri', 'duration_ms', 'album_name'\n",
    "]\n",
    "\n",
    "for i, r in tqdm(enumerate(rangos), total=len(rangos)):\n",
    "\n",
    "    if i < len(rangos) - 1:\n",
    "        df_explode.loc[r:rangos[i+1], new_cols] = [\n",
    "            get_track_detail(t)\n",
    "            for t in df_explode.loc[r:rangos[i+1], 'tracks']\n",
    "        ]\n",
    "        \n",
    "    else:\n",
    "        df_explode.loc[r:, new_cols] = [\n",
    "            get_track_detail(t)\n",
    "            for t in df_explode.loc[r:, 'tracks']\n",
    "        ]"
   ]
  },
  {
   "cell_type": "markdown",
   "metadata": {},
   "source": [
    "## Set Final"
   ]
  },
  {
   "cell_type": "code",
   "execution_count": 46,
   "metadata": {},
   "outputs": [
    {
     "data": {
      "text/html": [
       "<div>\n",
       "<style scoped>\n",
       "    .dataframe tbody tr th:only-of-type {\n",
       "        vertical-align: middle;\n",
       "    }\n",
       "\n",
       "    .dataframe tbody tr th {\n",
       "        vertical-align: top;\n",
       "    }\n",
       "\n",
       "    .dataframe thead th {\n",
       "        text-align: right;\n",
       "    }\n",
       "</style>\n",
       "<table border=\"1\" class=\"dataframe\">\n",
       "  <thead>\n",
       "    <tr style=\"text-align: right;\">\n",
       "      <th></th>\n",
       "      <th>name</th>\n",
       "      <th>collaborative</th>\n",
       "      <th>pid</th>\n",
       "      <th>modified_at</th>\n",
       "      <th>num_tracks</th>\n",
       "      <th>num_albums</th>\n",
       "      <th>num_followers</th>\n",
       "      <th>tracks</th>\n",
       "      <th>num_edits</th>\n",
       "      <th>duration_ms</th>\n",
       "      <th>num_artists</th>\n",
       "      <th>description</th>\n",
       "      <th>pos</th>\n",
       "      <th>artist_name</th>\n",
       "      <th>track_uri</th>\n",
       "      <th>artist_uri</th>\n",
       "      <th>track_name</th>\n",
       "      <th>album_uri</th>\n",
       "      <th>album_name</th>\n",
       "    </tr>\n",
       "  </thead>\n",
       "  <tbody>\n",
       "    <tr>\n",
       "      <th>0</th>\n",
       "      <td>music</td>\n",
       "      <td>false</td>\n",
       "      <td>521</td>\n",
       "      <td>1506643200</td>\n",
       "      <td>127</td>\n",
       "      <td>108</td>\n",
       "      <td>1</td>\n",
       "      <td>{'pos': 0, 'artist_name': 'Charli XCX', 'track...</td>\n",
       "      <td>45</td>\n",
       "      <td>219480</td>\n",
       "      <td>85</td>\n",
       "      <td>NaN</td>\n",
       "      <td>0.0</td>\n",
       "      <td>Charli XCX</td>\n",
       "      <td>spotify:track:0y8Wf6ltWpGCpgqVa21QNX</td>\n",
       "      <td>spotify:artist:25uiPmTg16RbhZWAqwLBy5</td>\n",
       "      <td>After The Afterparty (feat. Lil Yachty)</td>\n",
       "      <td>spotify:album:4Txd0wc4WAgnoxXx0SLAlw</td>\n",
       "      <td>After The Afterparty (feat. Lil Yachty)</td>\n",
       "    </tr>\n",
       "    <tr>\n",
       "      <th>1</th>\n",
       "      <td>music</td>\n",
       "      <td>false</td>\n",
       "      <td>521</td>\n",
       "      <td>1506643200</td>\n",
       "      <td>127</td>\n",
       "      <td>108</td>\n",
       "      <td>1</td>\n",
       "      <td>{'pos': 1, 'artist_name': 'The Chainsmokers', ...</td>\n",
       "      <td>45</td>\n",
       "      <td>247160</td>\n",
       "      <td>85</td>\n",
       "      <td>NaN</td>\n",
       "      <td>1.0</td>\n",
       "      <td>The Chainsmokers</td>\n",
       "      <td>spotify:track:6RUKPb4LETWmmr3iAEQktW</td>\n",
       "      <td>spotify:artist:69GGBxA162lTqCwzJG5jLp</td>\n",
       "      <td>Something Just Like This</td>\n",
       "      <td>spotify:album:4JPguzRps3kuWDD5GS6oXr</td>\n",
       "      <td>Memories...Do Not Open</td>\n",
       "    </tr>\n",
       "    <tr>\n",
       "      <th>2</th>\n",
       "      <td>music</td>\n",
       "      <td>false</td>\n",
       "      <td>521</td>\n",
       "      <td>1506643200</td>\n",
       "      <td>127</td>\n",
       "      <td>108</td>\n",
       "      <td>1</td>\n",
       "      <td>{'pos': 2, 'artist_name': 'MAX', 'track_uri': ...</td>\n",
       "      <td>45</td>\n",
       "      <td>223846</td>\n",
       "      <td>85</td>\n",
       "      <td>NaN</td>\n",
       "      <td>2.0</td>\n",
       "      <td>MAX</td>\n",
       "      <td>spotify:track:1sYSP7gKa5kdKIfhANfori</td>\n",
       "      <td>spotify:artist:1bqxdqvUtPWZri43cKHac8</td>\n",
       "      <td>Lights Down Low</td>\n",
       "      <td>spotify:album:2qmysBdftCYXRjYHTVK3qo</td>\n",
       "      <td>Hell's Kitchen Angel</td>\n",
       "    </tr>\n",
       "    <tr>\n",
       "      <th>3</th>\n",
       "      <td>music</td>\n",
       "      <td>false</td>\n",
       "      <td>521</td>\n",
       "      <td>1506643200</td>\n",
       "      <td>127</td>\n",
       "      <td>108</td>\n",
       "      <td>1</td>\n",
       "      <td>{'pos': 3, 'artist_name': 'Post Malone', 'trac...</td>\n",
       "      <td>45</td>\n",
       "      <td>220293</td>\n",
       "      <td>85</td>\n",
       "      <td>NaN</td>\n",
       "      <td>3.0</td>\n",
       "      <td>Post Malone</td>\n",
       "      <td>spotify:track:3a1lNhkSLSkpJE4MSHpDu9</td>\n",
       "      <td>spotify:artist:246dkjvS1zLTtiykXe5h60</td>\n",
       "      <td>Congratulations</td>\n",
       "      <td>spotify:album:5s0rmjP8XOPhP6HhqOhuyC</td>\n",
       "      <td>Stoney</td>\n",
       "    </tr>\n",
       "    <tr>\n",
       "      <th>4</th>\n",
       "      <td>music</td>\n",
       "      <td>false</td>\n",
       "      <td>521</td>\n",
       "      <td>1506643200</td>\n",
       "      <td>127</td>\n",
       "      <td>108</td>\n",
       "      <td>1</td>\n",
       "      <td>{'pos': 4, 'artist_name': 'AJR', 'track_uri': ...</td>\n",
       "      <td>45</td>\n",
       "      <td>201160</td>\n",
       "      <td>85</td>\n",
       "      <td>NaN</td>\n",
       "      <td>4.0</td>\n",
       "      <td>AJR</td>\n",
       "      <td>spotify:track:3E2Zh20GDCR9B1EYjfXWyv</td>\n",
       "      <td>spotify:artist:6s22t5Y3prQHyaHWUN1R1C</td>\n",
       "      <td>Weak</td>\n",
       "      <td>spotify:album:7LACXphpLTluKLFqHIZ1Qq</td>\n",
       "      <td>The Click</td>\n",
       "    </tr>\n",
       "  </tbody>\n",
       "</table>\n",
       "</div>"
      ],
      "text/plain": [
       "    name collaborative  pid  modified_at  num_tracks  num_albums  \\\n",
       "0  music         false  521   1506643200         127         108   \n",
       "1  music         false  521   1506643200         127         108   \n",
       "2  music         false  521   1506643200         127         108   \n",
       "3  music         false  521   1506643200         127         108   \n",
       "4  music         false  521   1506643200         127         108   \n",
       "\n",
       "   num_followers                                             tracks  \\\n",
       "0              1  {'pos': 0, 'artist_name': 'Charli XCX', 'track...   \n",
       "1              1  {'pos': 1, 'artist_name': 'The Chainsmokers', ...   \n",
       "2              1  {'pos': 2, 'artist_name': 'MAX', 'track_uri': ...   \n",
       "3              1  {'pos': 3, 'artist_name': 'Post Malone', 'trac...   \n",
       "4              1  {'pos': 4, 'artist_name': 'AJR', 'track_uri': ...   \n",
       "\n",
       "   num_edits  duration_ms  num_artists description  pos       artist_name  \\\n",
       "0         45       219480           85         NaN  0.0        Charli XCX   \n",
       "1         45       247160           85         NaN  1.0  The Chainsmokers   \n",
       "2         45       223846           85         NaN  2.0               MAX   \n",
       "3         45       220293           85         NaN  3.0       Post Malone   \n",
       "4         45       201160           85         NaN  4.0               AJR   \n",
       "\n",
       "                              track_uri  \\\n",
       "0  spotify:track:0y8Wf6ltWpGCpgqVa21QNX   \n",
       "1  spotify:track:6RUKPb4LETWmmr3iAEQktW   \n",
       "2  spotify:track:1sYSP7gKa5kdKIfhANfori   \n",
       "3  spotify:track:3a1lNhkSLSkpJE4MSHpDu9   \n",
       "4  spotify:track:3E2Zh20GDCR9B1EYjfXWyv   \n",
       "\n",
       "                              artist_uri  \\\n",
       "0  spotify:artist:25uiPmTg16RbhZWAqwLBy5   \n",
       "1  spotify:artist:69GGBxA162lTqCwzJG5jLp   \n",
       "2  spotify:artist:1bqxdqvUtPWZri43cKHac8   \n",
       "3  spotify:artist:246dkjvS1zLTtiykXe5h60   \n",
       "4  spotify:artist:6s22t5Y3prQHyaHWUN1R1C   \n",
       "\n",
       "                                track_name  \\\n",
       "0  After The Afterparty (feat. Lil Yachty)   \n",
       "1                 Something Just Like This   \n",
       "2                          Lights Down Low   \n",
       "3                          Congratulations   \n",
       "4                                     Weak   \n",
       "\n",
       "                              album_uri  \\\n",
       "0  spotify:album:4Txd0wc4WAgnoxXx0SLAlw   \n",
       "1  spotify:album:4JPguzRps3kuWDD5GS6oXr   \n",
       "2  spotify:album:2qmysBdftCYXRjYHTVK3qo   \n",
       "3  spotify:album:5s0rmjP8XOPhP6HhqOhuyC   \n",
       "4  spotify:album:7LACXphpLTluKLFqHIZ1Qq   \n",
       "\n",
       "                                album_name  \n",
       "0  After The Afterparty (feat. Lil Yachty)  \n",
       "1                   Memories...Do Not Open  \n",
       "2                     Hell's Kitchen Angel  \n",
       "3                                   Stoney  \n",
       "4                                The Click  "
      ]
     },
     "execution_count": 46,
     "metadata": {},
     "output_type": "execute_result"
    }
   ],
   "source": [
    "df_explode.head()"
   ]
  },
  {
   "cell_type": "code",
   "execution_count": 47,
   "metadata": {},
   "outputs": [
    {
     "data": {
      "text/plain": [
       "(131680, 19)"
      ]
     },
     "execution_count": 47,
     "metadata": {},
     "output_type": "execute_result"
    }
   ],
   "source": [
    "df_explode.shape"
   ]
  },
  {
   "cell_type": "code",
   "execution_count": 48,
   "metadata": {},
   "outputs": [
    {
     "data": {
      "text/plain": [
       "name                  0\n",
       "collaborative         0\n",
       "pid                   0\n",
       "modified_at           0\n",
       "num_tracks            0\n",
       "num_albums            0\n",
       "num_followers         0\n",
       "tracks                0\n",
       "num_edits             0\n",
       "duration_ms           0\n",
       "num_artists           0\n",
       "description      129607\n",
       "pos                   0\n",
       "artist_name           0\n",
       "track_uri             0\n",
       "artist_uri            0\n",
       "track_name            0\n",
       "album_uri             0\n",
       "album_name            0\n",
       "dtype: int64"
      ]
     },
     "execution_count": 48,
     "metadata": {},
     "output_type": "execute_result"
    }
   ],
   "source": [
    "df_explode.isna().sum()"
   ]
  },
  {
   "cell_type": "markdown",
   "metadata": {},
   "source": [
    "## Serialización"
   ]
  },
  {
   "cell_type": "code",
   "execution_count": 49,
   "metadata": {},
   "outputs": [],
   "source": [
    "df_explode.drop(columns=['tracks']).to_csv(\n",
    "    f'../data/{sample_size}_spotify_sample.csv.gz',\n",
    "    compression='gzip',\n",
    "    index=False\n",
    ")"
   ]
  },
  {
   "cell_type": "code",
   "execution_count": null,
   "metadata": {},
   "outputs": [],
   "source": []
  }
 ],
 "metadata": {
  "hide_input": false,
  "kernelspec": {
   "display_name": "Python 3",
   "language": "python",
   "name": "python3"
  },
  "language_info": {
   "codemirror_mode": {
    "name": "ipython",
    "version": 3
   },
   "file_extension": ".py",
   "mimetype": "text/x-python",
   "name": "python",
   "nbconvert_exporter": "python",
   "pygments_lexer": "ipython3",
   "version": "3.7.7"
  }
 },
 "nbformat": 4,
 "nbformat_minor": 4
}
