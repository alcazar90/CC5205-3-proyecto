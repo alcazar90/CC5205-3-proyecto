{
 "cells": [
  {
   "cell_type": "markdown",
   "id": "03c1ae4e",
   "metadata": {},
   "source": [
    "# Pipeline de Validación"
   ]
  },
  {
   "cell_type": "markdown",
   "id": "361229ad",
   "metadata": {},
   "source": [
    "Cargamos las tablas de validación desde el github. Estas contienen track_features y playlists de las 50 playlists con más canciones del dataset de 2000 playlists. Ya se encuentran limpiadas (ambas tablas sólo contienen info de canciones de menos de 15 minutos y sin valores nulos)."
   ]
  },
  {
   "cell_type": "code",
   "execution_count": 2,
   "id": "00739476",
   "metadata": {},
   "outputs": [],
   "source": [
    "# Módulos\n",
    "import pandas as pd\n",
    "import numpy as np\n",
    "from scipy.spatial import distance_matrix\n",
    "from sklearn.metrics.pairwise import cosine_similarity\n",
    "import matplotlib.pyplot as plt\n",
    "from sklearn.preprocessing import PolynomialFeatures\n",
    "from sklearn.linear_model import LogisticRegression\n",
    "import os\n",
    "import torch\n",
    "import torchvision\n",
    "from torch import nn\n",
    "from torch.autograd import Variable\n",
    "from torch.utils.data import DataLoader\n",
    "from torch.utils.data import Dataset\n",
    "\n",
    "from sklearn.preprocessing import StandardScaler\n",
    "\n",
    "import warnings\n",
    "warnings.filterwarnings(\"ignore\")\n",
    "\n",
    "plt.style.use(\"ggplot\")"
   ]
  },
  {
   "cell_type": "code",
   "execution_count": 36,
   "id": "abf88b7e",
   "metadata": {
    "scrolled": true
   },
   "outputs": [
    {
     "data": {
      "text/html": [
       "<div>\n",
       "<style scoped>\n",
       "    .dataframe tbody tr th:only-of-type {\n",
       "        vertical-align: middle;\n",
       "    }\n",
       "\n",
       "    .dataframe tbody tr th {\n",
       "        vertical-align: top;\n",
       "    }\n",
       "\n",
       "    .dataframe thead th {\n",
       "        text-align: right;\n",
       "    }\n",
       "</style>\n",
       "<table border=\"1\" class=\"dataframe\">\n",
       "  <thead>\n",
       "    <tr style=\"text-align: right;\">\n",
       "      <th></th>\n",
       "      <th>uri</th>\n",
       "      <th>danceability</th>\n",
       "      <th>energy</th>\n",
       "      <th>key</th>\n",
       "      <th>loudness</th>\n",
       "      <th>mode</th>\n",
       "      <th>speechiness</th>\n",
       "      <th>acousticness</th>\n",
       "      <th>instrumentalness</th>\n",
       "      <th>liveness</th>\n",
       "      <th>valence</th>\n",
       "      <th>tempo</th>\n",
       "      <th>type</th>\n",
       "      <th>id</th>\n",
       "      <th>track_href</th>\n",
       "      <th>analysis_url</th>\n",
       "      <th>duration_ms</th>\n",
       "      <th>time_signature</th>\n",
       "    </tr>\n",
       "  </thead>\n",
       "  <tbody>\n",
       "    <tr>\n",
       "      <th>0</th>\n",
       "      <td>spotify:track:3RCT90rX7F5rSwMwUU4Pz6</td>\n",
       "      <td>0.616</td>\n",
       "      <td>0.850</td>\n",
       "      <td>5</td>\n",
       "      <td>-5.419</td>\n",
       "      <td>0</td>\n",
       "      <td>0.0580</td>\n",
       "      <td>0.00216</td>\n",
       "      <td>0.0667</td>\n",
       "      <td>0.181</td>\n",
       "      <td>0.470</td>\n",
       "      <td>142.841</td>\n",
       "      <td>audio_features</td>\n",
       "      <td>3RCT90rX7F5rSwMwUU4Pz6</td>\n",
       "      <td>https://api.spotify.com/v1/tracks/3RCT90rX7F5r...</td>\n",
       "      <td>https://api.spotify.com/v1/audio-analysis/3RCT...</td>\n",
       "      <td>219560</td>\n",
       "      <td>4</td>\n",
       "    </tr>\n",
       "    <tr>\n",
       "      <th>1</th>\n",
       "      <td>spotify:track:2t5GyUfFoZg3E8ak3i7dVP</td>\n",
       "      <td>0.301</td>\n",
       "      <td>0.353</td>\n",
       "      <td>4</td>\n",
       "      <td>-15.588</td>\n",
       "      <td>0</td>\n",
       "      <td>0.0467</td>\n",
       "      <td>0.77800</td>\n",
       "      <td>0.4890</td>\n",
       "      <td>0.406</td>\n",
       "      <td>0.189</td>\n",
       "      <td>134.588</td>\n",
       "      <td>audio_features</td>\n",
       "      <td>2t5GyUfFoZg3E8ak3i7dVP</td>\n",
       "      <td>https://api.spotify.com/v1/tracks/2t5GyUfFoZg3...</td>\n",
       "      <td>https://api.spotify.com/v1/audio-analysis/2t5G...</td>\n",
       "      <td>621107</td>\n",
       "      <td>3</td>\n",
       "    </tr>\n",
       "  </tbody>\n",
       "</table>\n",
       "</div>"
      ],
      "text/plain": [
       "                                    uri  danceability  energy  key  loudness  \\\n",
       "0  spotify:track:3RCT90rX7F5rSwMwUU4Pz6         0.616   0.850    5    -5.419   \n",
       "1  spotify:track:2t5GyUfFoZg3E8ak3i7dVP         0.301   0.353    4   -15.588   \n",
       "\n",
       "   mode  speechiness  acousticness  instrumentalness  liveness  valence  \\\n",
       "0     0       0.0580       0.00216            0.0667     0.181    0.470   \n",
       "1     0       0.0467       0.77800            0.4890     0.406    0.189   \n",
       "\n",
       "     tempo            type                      id  \\\n",
       "0  142.841  audio_features  3RCT90rX7F5rSwMwUU4Pz6   \n",
       "1  134.588  audio_features  2t5GyUfFoZg3E8ak3i7dVP   \n",
       "\n",
       "                                          track_href  \\\n",
       "0  https://api.spotify.com/v1/tracks/3RCT90rX7F5r...   \n",
       "1  https://api.spotify.com/v1/tracks/2t5GyUfFoZg3...   \n",
       "\n",
       "                                        analysis_url  duration_ms  \\\n",
       "0  https://api.spotify.com/v1/audio-analysis/3RCT...       219560   \n",
       "1  https://api.spotify.com/v1/audio-analysis/2t5G...       621107   \n",
       "\n",
       "   time_signature  \n",
       "0               4  \n",
       "1               3  "
      ]
     },
     "execution_count": 36,
     "metadata": {},
     "output_type": "execute_result"
    }
   ],
   "source": [
    "playlists_val = pd.read_csv('https://github.com/alcazar90/CC5205-3-proyecto/raw/main/data/validacion/50_playlists_validation.csv')\n",
    "tracks_val = pd.read_csv('https://github.com/alcazar90/CC5205-3-proyecto/raw/main/data/validacion/50_tracks_validation.csv')\n",
    "artist_info = pd.read_csv('https://github.com/alcazar90/CC5205-3-proyecto/raw/main/data/artist/2000_artist_sample.csv.gz')\n",
    "\n",
    "# Se genera set de pids (playlist id) únicos\n",
    "pids = list(set(playlists_val[\"pid\"]))\n",
    "\n",
    "cols=tracks_val.columns\n",
    "tracks_val.columns=[col[15:] if col[:15]==\"audio_features.\" else col for col in cols]\n",
    "tracks_val = tracks_val.drop(columns=[\"Unnamed: 0\"])\n",
    "tracks_val.head(n=2)"
   ]
  },
  {
   "cell_type": "markdown",
   "id": "ef096021",
   "metadata": {},
   "source": [
    "`var_names` para obtener los features que nos sirven y `tracks_info` para obtener información de una canción dada una `uri`"
   ]
  },
  {
   "cell_type": "code",
   "execution_count": 5,
   "id": "4144aa54",
   "metadata": {},
   "outputs": [],
   "source": [
    "var_names=[\"danceability\", \"energy\", \"key\", \"loudness\", \"mode\", \"speechiness\", \"acousticness\", \"instrumentalness\", \"liveness\", \"valence\", \"tempo\", \"duration_ms\", \"time_signature\"]\n",
    "tracks_info = playlists_val.drop_duplicates(subset=[\"track_uri\"]).set_index(\"track_uri\")[[\"track_name\", \"artist_name\"]].loc[tracks_val[\"uri\"]]"
   ]
  },
  {
   "cell_type": "markdown",
   "id": "877426c9",
   "metadata": {},
   "source": [
    "Definir clases para cada recomendador y así poder evaluarlos. Colocarlas en el espacio y formato del siguiente \n",
    "_template_:\n",
    "\n",
    "```python\n",
    "#Colocar acá las clases de sus clasificadores.\n",
    "#Pueden o no tener init o train, pero deben tener una función recommend_list\n",
    "class RecommenderX:\n",
    "    def __init__(self):\n",
    "        pass\n",
    "    #Puede no tener train, dependiendo de cómo funcione. Pero debe utilizar las canciones dentro del dataset de validación.\n",
    "    def train(self, tracks_df, playlists_df):\n",
    "        pass\n",
    "    #Esta función DEBE tomar como input un dataframe de canciones.\n",
    "    #Debe tambien tomar el argumento \"number\" para setear el número de recomendaciones\n",
    "    def recommend_list(self, canciones_df, number=100, **kwargs):\n",
    "        #DEBE retornar una lista de uris de las canciones output \n",
    "        return None\n",
    "```"
   ]
  },
  {
   "cell_type": "markdown",
   "id": "f3fd5a7a",
   "metadata": {},
   "source": [
    "Calculamos la métrica en los datos de validación. Para una lista dada, se eligen aleatoreamente 20 canciones que pertenezcan a la lista y se obtienen N-20 recomendaciones, donde N es la cantidad de canciones de la lista (las listas del dataset de validación tienen entre 210-375 canciones). Luego, evalúa qué porcentaje de las N-20 canciones output pertenecen a la lista original. Repite este proceso. Se grafica el histograma de desempeño del recomendador."
   ]
  },
  {
   "cell_type": "code",
   "execution_count": 71,
   "id": "40e1cff8",
   "metadata": {},
   "outputs": [],
   "source": [
    "# Funciones\n",
    "\n",
    "np.random.seed(1991)\n",
    "\n",
    "def validar_lista(playlists_set, input_pid, input_track_uris, recomendador, n=20):\n",
    "    input_df=tracks_val.set_index(\"uri\").loc[np.random.choice(input_track_uris, n)]\n",
    "    output_uris= recomendador.recommend_list(input_df, number=len(input_track_uris)-n)\n",
    "    output_pid= playlists_set.set_index(\"track_uri\").loc[output_uris][\"pid\"]\n",
    "    return sum(output_pid==input_pid)*100.0/(len(input_track_uris)-n)\n",
    "\n",
    "def validar_recomendador(playlists_set, pids, recomendador):\n",
    "    total_playlists = len(pids)\n",
    "    porcentajes=np.zeros(total_playlists)\n",
    "    \n",
    "    for i, pid in enumerate(pids):\n",
    "        input_uris= list(set(playlists_set[playlists_set[\"pid\"]==pid][\"track_uri\"]))\n",
    "        porcentajes[i] = validar_lista(playlists_set, pid, input_uris, recomendador)\n",
    "        if (i+1)%5==0:\n",
    "            print(f\"Generando recomendaciones Playlist {i + 1} de {total_playlists}. % Recomendaciones correctas: {round(porcentajes[i], 2)}\")\n",
    "    \n",
    "    media_porc_rec = np.mean(porcentajes)\n",
    "    plt.figure(figsize=(10, 5))\n",
    "    _, bins, _ = plt.hist(porcentajes, bins=11)\n",
    "    plt.axvline(media_porc_rec, color=\"dodgerblue\", label=f\"% Recomendación promedio: {round(media_porc_rec, 2)}\")\n",
    "    plt.xticks(bins)\n",
    "    plt.title(f\"Cantidad de % de canciones recomendados correctamente {type(recomendador_1).__name__}\")\n",
    "    plt.ylabel(\"Cantidad\")\n",
    "    plt.xlabel(\"% Recomendado correctamente\")\n",
    "    plt.legend()\n",
    "    \n",
    "    return media_porc_rec "
   ]
  },
  {
   "cell_type": "markdown",
   "id": "536bd0b3",
   "metadata": {},
   "source": [
    "## Sistema de Recomendación 1: Matriz de próximidad"
   ]
  },
  {
   "cell_type": "code",
   "execution_count": 72,
   "id": "7e3969b0",
   "metadata": {},
   "outputs": [],
   "source": [
    "class Recommender1:\n",
    "    def __init__(self):\n",
    "        self.proximity_matrix=None\n",
    "        self.obs_labels=None\n",
    "        self.N_nearest=None\n",
    "        self.artist=None\n",
    "        self.pid_id=None\n",
    "        self.avg_features_by_pid=None\n",
    "        \n",
    "    def fit(self, X, y, artist):\n",
    "        \"\"\"Almacena la matriz de proximidad y guarda los PID en self.obs_labels\"\"\"\n",
    "        self.avg_features_by_pid = X\n",
    "        self.obs_labels = y\n",
    "        self.proximity_matrix = distance_matrix(X, X)\n",
    "        self.artist = artist\n",
    "        \n",
    "    def refit(self):\n",
    "        \"\"\"Actualiza la matriz de distancia en base a self.avg_features_by_pid\"\"\"\n",
    "        self.proximity_matrix = distance_matrix(self.avg_features_by_pid, self.avg_features_by_pid)\n",
    "        \n",
    "    def recommend_list(self, canciones_df, number=2, N=50, **kwargs):\n",
    "        \"\"\"\n",
    "           Recibe un set de canciones sin PID con sus track_features (canciones_df).\n",
    "           Se recomputa self.proximity_matrix agregando el nuevo set de canciones\n",
    "           como PID \"pivote\". Se deja reservado el PID 0 para este set de canciones.\n",
    "\n",
    "               - canciones_df: dataframe con una lista de canciones\n",
    "               - number: número de canciones requeridas para recomendar\n",
    "               - N: número de playlist cercanas para ir a buscar candidatos de canciones\n",
    "        \"\"\"\n",
    "        # Preproceso para computar el vector de características promedio\n",
    "        canciones_df = \\\n",
    "                canciones_df.reset_index() \\\n",
    "                [['danceability', 'energy', 'key', 'loudness', 'mode', 'speechiness',\n",
    "                  'acousticness', 'instrumentalness', 'liveness', 'valence', 'tempo']]\n",
    "\n",
    "        track_set = pd.concat([pd.DataFrame({'PID': np.zeros(canciones_df.shape[0], 'int32')}),\n",
    "                               canciones_df], axis=1)\n",
    "\n",
    "        # Se computa el vector de características promedio del set de canciones recibido\n",
    "        track_set = track_set.groupby('PID').mean().reset_index()\n",
    "        \n",
    "        # Concatenar al principio del atributo self.avg_features_by_pid y self.obs_labels\n",
    "        self.avg_features_by_pid = np.r_[track_set.iloc[:, 1:], self.avg_features_by_pid]\n",
    "        self.obs_labels = np.r_[0, self.obs_labels]\n",
    "\n",
    "        # Actualizar matriz de distancia\n",
    "        self.refit()\n",
    "\n",
    "        # Actualizar listas mas cercanas (siempre es el PID en la posición 0)\n",
    "        nearest_index = np.argsort(self.proximity_matrix[0, :])[:N+1][1:]\n",
    "        self.N_nearest = self.obs_labels[nearest_index]\n",
    "\n",
    "        # Se cambia el atributo pid_id la cual es la lista objetivo para buscar las recomendaciones\n",
    "        self.pid_id = 0\n",
    "\n",
    "        # Entregar recomendaciones\n",
    "        return self.get_recommendations(num_tracks=number)\n",
    "    \n",
    "    def get_recommendations(self, num_tracks=20):\n",
    "        \"\"\"Dado un track de canciones arbitarias, se utiliza por el método\n",
    "           recommend_given_track_set\n",
    "        \"\"\" \n",
    "        recommended_songs_list = self.artist[self.artist.pid.isin(self.N_nearest)].copy()\n",
    "        recommended_songs_list = recommended_songs_list.drop_duplicates(subset=['artist_uri'])\n",
    "\n",
    "        # Seleccionar solo los features de las canciones\n",
    "        features_columns = ['danceability', 'energy', 'key', 'loudness', 'mode', \n",
    "         'speechiness', 'acousticness', 'instrumentalness', \n",
    "         'liveness', 'valence', 'tempo']\n",
    "\n",
    "        # Obtenemos las canciones candidatas     \n",
    "        recommended_songs_list['similarity'] = np.dot(recommended_songs_list[features_columns].to_numpy(), \n",
    "                                                      self.avg_features_by_pid[0, :].reshape(11, 1))\n",
    "        recommended_songs_list = recommended_songs_list.sort_values(by=['similarity'], ascending=True)\n",
    "\n",
    "        # Se eliminan los duplicados.\n",
    "        recommended_songs_list = recommended_songs_list.drop_duplicates(subset=['artist_uri'])\n",
    "\n",
    "        # Se retorna el número de canciones, 2: track_uri\n",
    "        return recommended_songs_list.iloc[:num_tracks, 2]"
   ]
  },
  {
   "cell_type": "markdown",
   "id": "e1f81c37",
   "metadata": {},
   "source": [
    "El modelo requiere memorizar el vector de características promedio de cada lista en el set de entrenamiento.\n",
    "Por lo tanto, se debe cruzar la tabla con la información de las listas con los _track features_ de cada una \n",
    "de las canciones que contienen las _playlists_, para luego agregarlas en un vector promedio de _track features_ por lista."
   ]
  },
  {
   "cell_type": "code",
   "execution_count": 73,
   "id": "33bfc622",
   "metadata": {},
   "outputs": [],
   "source": [
    "avg_features_by_pid = \\\n",
    "        playlists_val \\\n",
    "            .merge(tracks_val, left_on='track_uri', right_on='uri', how='inner') \\\n",
    "            [['pid','danceability', 'energy', 'key', 'loudness', 'mode', 'speechiness',\n",
    "              'acousticness', 'instrumentalness', 'liveness', 'valence', 'tempo']] \\\n",
    "            .groupby('pid') \\\n",
    "            .mean() \\\n",
    "            .reset_index()"
   ]
  },
  {
   "cell_type": "code",
   "execution_count": 74,
   "id": "3e35af94",
   "metadata": {},
   "outputs": [],
   "source": [
    "features_by_pid_plus_artist = \\\n",
    "    playlists_val \\\n",
    "    .merge(tracks_val, left_on='track_uri', right_on='uri', how='inner') \\\n",
    "    [['pid','artist_uri', 'track_uri', 'danceability', 'energy', 'key', 'loudness', 'mode', 'speechiness',\n",
    "      'acousticness', 'instrumentalness', 'liveness', 'valence', 'tempo']] \\\n",
    "    .drop_duplicates(subset=['artist_uri']) \\\n",
    "    .merge(artist_info[['artists.uri', 'artists.popularity']], left_on='artist_uri', right_on='artists.uri', how='left') \\\n",
    "    .drop(['artists.uri'], axis=1)"
   ]
  },
  {
   "cell_type": "code",
   "execution_count": 75,
   "id": "51363283",
   "metadata": {},
   "outputs": [],
   "source": [
    "recomendador_1 = Recommender1()\n",
    "recomendador_1.fit(avg_features_by_pid.iloc[:, 1:].to_numpy(), \n",
    "                   avg_features_by_pid.iloc[:, 0].to_numpy(),\n",
    "                   features_by_pid_plus_artist)"
   ]
  },
  {
   "cell_type": "code",
   "execution_count": 76,
   "id": "c43ea3d9",
   "metadata": {},
   "outputs": [
    {
     "name": "stdout",
     "output_type": "stream",
     "text": [
      "Generando recomendaciones Playlist 5 de 50. % Recomendaciones correctas: 0.0\n",
      "Generando recomendaciones Playlist 10 de 50. % Recomendaciones correctas: 1.55\n",
      "Generando recomendaciones Playlist 15 de 50. % Recomendaciones correctas: 8.61\n",
      "Generando recomendaciones Playlist 20 de 50. % Recomendaciones correctas: 2.88\n",
      "Generando recomendaciones Playlist 25 de 50. % Recomendaciones correctas: 0.95\n",
      "Generando recomendaciones Playlist 30 de 50. % Recomendaciones correctas: 1.05\n",
      "Generando recomendaciones Playlist 35 de 50. % Recomendaciones correctas: 6.58\n",
      "Generando recomendaciones Playlist 40 de 50. % Recomendaciones correctas: 5.79\n",
      "Generando recomendaciones Playlist 45 de 50. % Recomendaciones correctas: 2.59\n",
      "Generando recomendaciones Playlist 50 de 50. % Recomendaciones correctas: 3.29\n",
      "Eficiencia promedio Recomendador 1: 2.94 %\n"
     ]
    },
    {
     "data": {
      "image/png": "[encoded data removed]",
      "text/plain": [
       "<Figure size 720x360 with 1 Axes>"
      ]
     },
     "metadata": {},
     "output_type": "display_data"
    }
   ],
   "source": [
    "np.random.seed(1991)\n",
    "eficiencia_1=validar_recomendador(playlists_val, pids, recomendador_1)\n",
    "print(\"Eficiencia promedio Recomendador 1:\", round(eficiencia_1, 2),\"%\")"
   ]
  },
  {
   "cell_type": "markdown",
   "id": "6a696c56",
   "metadata": {},
   "source": [
    "## Sistema de Recomendación 2: Multi-label logistic regression"
   ]
  },
  {
   "cell_type": "code",
   "execution_count": 77,
   "id": "d8aa5f8c",
   "metadata": {},
   "outputs": [],
   "source": [
    "class Recommender2:\n",
    "    def __init__(self):\n",
    "        pass\n",
    "    \n",
    "    def train(self, tracks_df, playlists_df):\n",
    "        self.tracks_df, self.playlists_df = tracks_df, playlists_df\n",
    "        playlist_ids=list(set(playlists_df[\"pid\"]))\n",
    "        self.X_ori=np.asarray(tracks_df[var_names])\n",
    "        self.X=(self.X_ori-np.tile(np.mean(self.X_ori, axis=0), (self.X_ori.shape[0], 1)))/np.tile(np.std(self.X_ori, axis=0), (self.X_ori.shape[0], 1))\n",
    "        self.X_t=PolynomialFeatures(1).fit_transform(self.X)\n",
    "        self.W=np.zeros(0)\n",
    "        total=len(playlist_ids)\n",
    "        self.lists=np.zeros(shape=(len(self.X), total))-1\n",
    "        for playlist_i in range(total):\n",
    "            print(playlist_i) if (playlist_i % (total/5))==0 else None\n",
    "            this_playlist=playlists_df[playlists_df[\"pid\"]==playlist_ids[playlist_i]]\n",
    "            y=1*tracks_df[\"uri\"].isin(this_playlist[\"track_uri\"])\n",
    "            if(sum(y))>0:\n",
    "                self.lists[y==1, playlist_i]=playlist_i\n",
    "                clf=LogisticRegression(fit_intercept=False)\n",
    "                clf.fit(self.X_t, y)\n",
    "                self.W=np.append(self.W, clf.coef_)\n",
    "        self.lists=np.asarray(self.lists)\n",
    "        self.W=self.W.reshape(-1, clf.coef_.size)\n",
    "        ret=np.exp(self.X_t @ self.W.T-10)\n",
    "        self.probas=ret/np.tile(np.apply_along_axis(sum, 1, ret), (self.W.T.shape[1],1)).T\n",
    "        \n",
    "    def recommend_list(self, canciones_df, suavizado=1000, number=100, exclude_same=True):\n",
    "        canciones=np.asarray(canciones_df[var_names])\n",
    "        canciones=np.asarray(canciones).reshape(-1, 13)\n",
    "        canciones=(canciones-np.tile(np.mean(self.X_ori, axis=0), (canciones.shape[0], 1)))/np.tile(np.std(self.X_ori, axis=0), (canciones.shape[0], 1))\n",
    "        canciones_t=PolynomialFeatures(1).fit_transform(canciones)\n",
    "        matmult=np.exp(canciones_t @ self.W.T-10)\n",
    "        probas_canciones=matmult/np.tile(np.apply_along_axis(sum, 1, matmult), (self.W.T.shape[1],1)).T\n",
    "        puntajes=np.zeros(len(self.X))\n",
    "        not_in_input=np.ones(len(self.X))\n",
    "        for this_proba in probas_canciones:\n",
    "            distancia_proba=np.asarray([np.linalg.norm(this_proba-proba) for proba in self.probas])\n",
    "            not_in_input=not_in_input*(distancia_proba>1e-15)*1 if exclude_same else not_in_input\n",
    "            order=np.argsort(np.argsort(distancia_proba))\n",
    "            puntajes+=np.exp(-order*len(canciones)/suavizado)\n",
    "        puntajes=puntajes*not_in_input if exclude_same else puntajes\n",
    "        final_order=np.argsort(-puntajes)\n",
    "        y_recom=np.zeros(len(self.X))\n",
    "        y_recom[final_order[:number]]=1\n",
    "        return self.tracks_df.iloc[final_order][:number][\"uri\"]"
   ]
  },
  {
   "cell_type": "code",
   "execution_count": 78,
   "id": "40e05110",
   "metadata": {},
   "outputs": [
    {
     "name": "stdout",
     "output_type": "stream",
     "text": [
      "0\n",
      "10\n",
      "20\n",
      "30\n",
      "40\n"
     ]
    }
   ],
   "source": [
    "recomendador_2=Recommender2()\n",
    "recomendador_2.train(tracks_val, playlists_val)"
   ]
  },
  {
   "cell_type": "code",
   "execution_count": 80,
   "id": "72e66713",
   "metadata": {},
   "outputs": [
    {
     "name": "stdout",
     "output_type": "stream",
     "text": [
      "Generando recomendaciones Playlist 5 de 50. % Recomendaciones correctas: 88.07\n",
      "Generando recomendaciones Playlist 10 de 50. % Recomendaciones correctas: 7.73\n",
      "Generando recomendaciones Playlist 15 de 50. % Recomendaciones correctas: 21.53\n",
      "Generando recomendaciones Playlist 20 de 50. % Recomendaciones correctas: 22.6\n",
      "Generando recomendaciones Playlist 25 de 50. % Recomendaciones correctas: 4.29\n",
      "Generando recomendaciones Playlist 30 de 50. % Recomendaciones correctas: 4.21\n",
      "Generando recomendaciones Playlist 35 de 50. % Recomendaciones correctas: 2.19\n",
      "Generando recomendaciones Playlist 40 de 50. % Recomendaciones correctas: 21.05\n",
      "Generando recomendaciones Playlist 45 de 50. % Recomendaciones correctas: 12.44\n",
      "Generando recomendaciones Playlist 50 de 50. % Recomendaciones correctas: 13.15\n",
      "Eficiencia recomendador 2: 14.426956134405861 %\n"
     ]
    },
    {
     "data": {
      "image/png": "[encoded data removed]",
      "text/plain": [
       "<Figure size 720x360 with 1 Axes>"
      ]
     },
     "metadata": {},
     "output_type": "display_data"
    }
   ],
   "source": [
    "np.random.seed(1991)\n",
    "eficiencia_2=validar_recomendador(playlists_val, pids, recomendador_2)\n",
    "print(\"Eficiencia recomendador 2:\", eficiencia_2,\"%\")"
   ]
  },
  {
   "cell_type": "markdown",
   "id": "1de20fb7",
   "metadata": {},
   "source": [
    "## Sistema de Recomendación 3: Autoencoder"
   ]
  },
  {
   "cell_type": "code",
   "execution_count": 87,
   "id": "9a781f5b",
   "metadata": {},
   "outputs": [],
   "source": [
    "# Se crea la clase autoencoder.\n",
    "class Autoencoder(nn.Module):\n",
    "    def __init__(self):\n",
    "        super(Autoencoder, self).__init__()\n",
    "        self.encoder = nn.Sequential(\n",
    "            nn.Linear(11, 10),\n",
    "            nn.ReLU(),\n",
    "            nn.Linear(10, 8),\n",
    "            nn.ReLU(),\n",
    "            nn.Linear(8, 6),\n",
    "            nn.ReLU(),\n",
    "            nn.Linear(6, 4),\n",
    "            nn.ReLU(),\n",
    "            nn.Linear(4, 2))\n",
    "        self.decoder = nn.Sequential(\n",
    "            nn.Linear(2, 4),\n",
    "            nn.ReLU(),\n",
    "            nn.Linear(4, 6),\n",
    "            nn.ReLU(),\n",
    "            nn.Linear(6, 8),\n",
    "            nn.ReLU(),\n",
    "            nn.Linear(8, 10),\n",
    "            nn.ReLU(),\n",
    "            nn.Linear(10, 11))\n",
    "        \n",
    "    def predict(self, data):\n",
    "        return self.encoder(data)\n",
    "\n",
    "    def forward(self, x):\n",
    "        encoder = self.encoder(x)\n",
    "        decoder = self.decoder(encoder)\n",
    "        return decoder "
   ]
  },
  {
   "cell_type": "code",
   "execution_count": 88,
   "id": "d27737b7",
   "metadata": {},
   "outputs": [],
   "source": [
    "# Se crea la clase GenerateDataset para leer los datos.\n",
    "class GenerateDataset(Dataset):\n",
    "    def __init__(self, numpy_array):\n",
    "        self.numpy_array = numpy_array\n",
    "\n",
    "    def __len__(self):\n",
    "        return len(self.numpy_array)\n",
    "\n",
    "    def __getitem__(self, idx):\n",
    "        data = self.numpy_array[idx]\n",
    "        x = np.isnan(data)\n",
    "        data[x] = 0\n",
    "        return data"
   ]
  },
  {
   "cell_type": "code",
   "execution_count": 89,
   "id": "cca86716",
   "metadata": {},
   "outputs": [],
   "source": [
    "class Recommender3:\n",
    "    def __init__(self, path=\"../data/models/modelo_50e_256b_decay.pth\"):\n",
    "        self.device = \"cuda:0\" if torch.cuda.is_available() else \"cpu\"\n",
    "        self.model = Autoencoder().to(self.device)\n",
    "        self.model.load_state_dict(torch.load(path))\n",
    "        self.data = None\n",
    "        self.processed_data = []\n",
    "        self.processed_data_df = None\n",
    "        self.scaler = StandardScaler()\n",
    "        \n",
    "    def load_data(self, tracks_val):\n",
    "        self.scaler.fit(tracks_val.iloc[:, 2:-6])\n",
    "        tracks_val_np = self.scaler.transform(tracks_val.iloc[:, 2:-6])\n",
    "        self.data = DataLoader(GenerateDataset(tracks_val_np.astype('f')),\n",
    "                    batch_size=1, shuffle=False)\n",
    "        \n",
    "        for data in self.data:\n",
    "            data = data.to(self.device)\n",
    "            self.processed_data.append(self.model.predict(data).detach().cpu().numpy()[0])\n",
    "        \n",
    "        self.processed_data_df = pd.DataFrame(self.processed_data, columns=['comp_1','comp_2'])\n",
    "        self.processed_data_df = self.processed_data_df.assign(uri=tracks_val['uri'])\n",
    "    \n",
    "    def recommend_list(self, canciones_df, number=100, **kwargs):\n",
    "        \"\"\"\n",
    "            Esta función DEBE tomar como input un dataframe de canciones.\n",
    "            Debe tambien tomar el argumento \"number\" para setear el número de recomendaciones\n",
    "        \"\"\"\n",
    "        canciones_np = self.scaler.transform(canciones_df[var_names[:-2]])\n",
    "        canciones_dl = DataLoader(GenerateDataset(canciones_np.astype('f')),\n",
    "                    batch_size=1, shuffle=False)\n",
    "        \n",
    "        data_inference = []\n",
    "        for data in canciones_dl:\n",
    "            data = data.to(self.device)\n",
    "            data_inference.append(self.model.predict(data).detach().cpu().numpy()[0])\n",
    "        \n",
    "        data_inference_df = pd.DataFrame(data_inference, columns=['comp_1','comp_2'])\n",
    "        canciones_df = canciones_df.reset_index()\n",
    "        data_inference_df = data_inference_df.assign(uri=canciones_df[\"uri\"])\n",
    "        \n",
    "        # inferencia\n",
    "        recommendations = []\n",
    "        amount = int(number/canciones_df.shape[0]) + 5\n",
    "        for i in range(canciones_df.shape[0]):\n",
    "            # Se toma la primera playlist/cancion y se pasa a tensor.\n",
    "            playlist_input = torch.tensor(data_inference_df.iloc[i:i+1,:2].to_numpy())\n",
    "            \n",
    "            # processed_data_df son las canciones procesadas por .encoder (espacio latente).\n",
    "            dataset_latente = torch.tensor(self.processed_data_df.iloc[:,:2].to_numpy())\n",
    "\n",
    "            # Se buscan las canciones mas cercanas a la playlist/cancion de input.\n",
    "            result_cdist = torch.cdist(playlist_input, dataset_latente, p=2)\n",
    "\n",
    "            # Se ordenan los valores.\n",
    "            result_cdist_sort = [x.item() for x in np.argsort(result_cdist)[0]][:amount]\n",
    "            recommendations.extend(result_cdist_sort)\n",
    "            \n",
    "        return self.processed_data_df.iloc[recommendations[1:number+1], 2]"
   ]
  },
  {
   "cell_type": "code",
   "execution_count": 90,
   "id": "0811fd42",
   "metadata": {},
   "outputs": [
    {
     "ename": "RuntimeError",
     "evalue": "Attempting to deserialize object on a CUDA device but torch.cuda.is_available() is False. If you are running on a CPU-only machine, please use torch.load with map_location=torch.device('cpu') to map your storages to the CPU.",
     "output_type": "error",
     "traceback": [
      "\u001b[0;31m---------------------------------------------------------------------------\u001b[0m",
      "\u001b[0;31mRuntimeError\u001b[0m                              Traceback (most recent call last)",
      "Input \u001b[0;32mIn [90]\u001b[0m, in \u001b[0;36m<cell line: 1>\u001b[0;34m()\u001b[0m\n\u001b[0;32m----> 1\u001b[0m recomendador_3 \u001b[38;5;241m=\u001b[39m \u001b[43mRecommender3\u001b[49m\u001b[43m(\u001b[49m\u001b[43m)\u001b[49m\n\u001b[1;32m      2\u001b[0m recomendador_3\u001b[38;5;241m.\u001b[39mload_data(tracks_val)\n",
      "Input \u001b[0;32mIn [89]\u001b[0m, in \u001b[0;36mRecommender3.__init__\u001b[0;34m(self, path)\u001b[0m\n\u001b[1;32m      3\u001b[0m \u001b[38;5;28mself\u001b[39m\u001b[38;5;241m.\u001b[39mdevice \u001b[38;5;241m=\u001b[39m \u001b[38;5;124m\"\u001b[39m\u001b[38;5;124mcuda:0\u001b[39m\u001b[38;5;124m\"\u001b[39m \u001b[38;5;28;01mif\u001b[39;00m torch\u001b[38;5;241m.\u001b[39mcuda\u001b[38;5;241m.\u001b[39mis_available() \u001b[38;5;28;01melse\u001b[39;00m \u001b[38;5;124m\"\u001b[39m\u001b[38;5;124mcpu\u001b[39m\u001b[38;5;124m\"\u001b[39m\n\u001b[1;32m      4\u001b[0m \u001b[38;5;28mself\u001b[39m\u001b[38;5;241m.\u001b[39mmodel \u001b[38;5;241m=\u001b[39m Autoencoder()\u001b[38;5;241m.\u001b[39mto(\u001b[38;5;28mself\u001b[39m\u001b[38;5;241m.\u001b[39mdevice)\n\u001b[0;32m----> 5\u001b[0m \u001b[38;5;28mself\u001b[39m\u001b[38;5;241m.\u001b[39mmodel\u001b[38;5;241m.\u001b[39mload_state_dict(\u001b[43mtorch\u001b[49m\u001b[38;5;241;43m.\u001b[39;49m\u001b[43mload\u001b[49m\u001b[43m(\u001b[49m\u001b[43mpath\u001b[49m\u001b[43m)\u001b[49m)\n\u001b[1;32m      6\u001b[0m \u001b[38;5;28mself\u001b[39m\u001b[38;5;241m.\u001b[39mdata \u001b[38;5;241m=\u001b[39m \u001b[38;5;28;01mNone\u001b[39;00m\n\u001b[1;32m      7\u001b[0m \u001b[38;5;28mself\u001b[39m\u001b[38;5;241m.\u001b[39mprocessed_data \u001b[38;5;241m=\u001b[39m []\n",
      "File \u001b[0;32m~/anaconda3/lib/python3.9/site-packages/torch/serialization.py:712\u001b[0m, in \u001b[0;36mload\u001b[0;34m(f, map_location, pickle_module, **pickle_load_args)\u001b[0m\n\u001b[1;32m    710\u001b[0m             opened_file\u001b[38;5;241m.\u001b[39mseek(orig_position)\n\u001b[1;32m    711\u001b[0m             \u001b[38;5;28;01mreturn\u001b[39;00m torch\u001b[38;5;241m.\u001b[39mjit\u001b[38;5;241m.\u001b[39mload(opened_file)\n\u001b[0;32m--> 712\u001b[0m         \u001b[38;5;28;01mreturn\u001b[39;00m \u001b[43m_load\u001b[49m\u001b[43m(\u001b[49m\u001b[43mopened_zipfile\u001b[49m\u001b[43m,\u001b[49m\u001b[43m \u001b[49m\u001b[43mmap_location\u001b[49m\u001b[43m,\u001b[49m\u001b[43m \u001b[49m\u001b[43mpickle_module\u001b[49m\u001b[43m,\u001b[49m\u001b[43m \u001b[49m\u001b[38;5;241;43m*\u001b[39;49m\u001b[38;5;241;43m*\u001b[39;49m\u001b[43mpickle_load_args\u001b[49m\u001b[43m)\u001b[49m\n\u001b[1;32m    713\u001b[0m \u001b[38;5;28;01mreturn\u001b[39;00m _legacy_load(opened_file, map_location, pickle_module, \u001b[38;5;241m*\u001b[39m\u001b[38;5;241m*\u001b[39mpickle_load_args)\n",
      "File \u001b[0;32m~/anaconda3/lib/python3.9/site-packages/torch/serialization.py:1046\u001b[0m, in \u001b[0;36m_load\u001b[0;34m(zip_file, map_location, pickle_module, pickle_file, **pickle_load_args)\u001b[0m\n\u001b[1;32m   1044\u001b[0m unpickler \u001b[38;5;241m=\u001b[39m UnpicklerWrapper(data_file, \u001b[38;5;241m*\u001b[39m\u001b[38;5;241m*\u001b[39mpickle_load_args)\n\u001b[1;32m   1045\u001b[0m unpickler\u001b[38;5;241m.\u001b[39mpersistent_load \u001b[38;5;241m=\u001b[39m persistent_load\n\u001b[0;32m-> 1046\u001b[0m result \u001b[38;5;241m=\u001b[39m \u001b[43munpickler\u001b[49m\u001b[38;5;241;43m.\u001b[39;49m\u001b[43mload\u001b[49m\u001b[43m(\u001b[49m\u001b[43m)\u001b[49m\n\u001b[1;32m   1048\u001b[0m torch\u001b[38;5;241m.\u001b[39m_utils\u001b[38;5;241m.\u001b[39m_validate_loaded_sparse_tensors()\n\u001b[1;32m   1050\u001b[0m \u001b[38;5;28;01mreturn\u001b[39;00m result\n",
      "File \u001b[0;32m~/anaconda3/lib/python3.9/site-packages/torch/serialization.py:1016\u001b[0m, in \u001b[0;36m_load.<locals>.persistent_load\u001b[0;34m(saved_id)\u001b[0m\n\u001b[1;32m   1014\u001b[0m \u001b[38;5;28;01mif\u001b[39;00m key \u001b[38;5;129;01mnot\u001b[39;00m \u001b[38;5;129;01min\u001b[39;00m loaded_storages:\n\u001b[1;32m   1015\u001b[0m     nbytes \u001b[38;5;241m=\u001b[39m numel \u001b[38;5;241m*\u001b[39m torch\u001b[38;5;241m.\u001b[39m_utils\u001b[38;5;241m.\u001b[39m_element_size(dtype)\n\u001b[0;32m-> 1016\u001b[0m     \u001b[43mload_tensor\u001b[49m\u001b[43m(\u001b[49m\u001b[43mdtype\u001b[49m\u001b[43m,\u001b[49m\u001b[43m \u001b[49m\u001b[43mnbytes\u001b[49m\u001b[43m,\u001b[49m\u001b[43m \u001b[49m\u001b[43mkey\u001b[49m\u001b[43m,\u001b[49m\u001b[43m \u001b[49m\u001b[43m_maybe_decode_ascii\u001b[49m\u001b[43m(\u001b[49m\u001b[43mlocation\u001b[49m\u001b[43m)\u001b[49m\u001b[43m)\u001b[49m\n\u001b[1;32m   1018\u001b[0m \u001b[38;5;28;01mreturn\u001b[39;00m loaded_storages[key]\n",
      "File \u001b[0;32m~/anaconda3/lib/python3.9/site-packages/torch/serialization.py:1001\u001b[0m, in \u001b[0;36m_load.<locals>.load_tensor\u001b[0;34m(dtype, numel, key, location)\u001b[0m\n\u001b[1;32m    997\u001b[0m storage \u001b[38;5;241m=\u001b[39m zip_file\u001b[38;5;241m.\u001b[39mget_storage_from_record(name, numel, torch\u001b[38;5;241m.\u001b[39m_UntypedStorage)\u001b[38;5;241m.\u001b[39mstorage()\u001b[38;5;241m.\u001b[39m_untyped()\n\u001b[1;32m    998\u001b[0m \u001b[38;5;66;03m# TODO: Once we decide to break serialization FC, we can\u001b[39;00m\n\u001b[1;32m    999\u001b[0m \u001b[38;5;66;03m# stop wrapping with _TypedStorage\u001b[39;00m\n\u001b[1;32m   1000\u001b[0m loaded_storages[key] \u001b[38;5;241m=\u001b[39m torch\u001b[38;5;241m.\u001b[39mstorage\u001b[38;5;241m.\u001b[39m_TypedStorage(\n\u001b[0;32m-> 1001\u001b[0m     wrap_storage\u001b[38;5;241m=\u001b[39m\u001b[43mrestore_location\u001b[49m\u001b[43m(\u001b[49m\u001b[43mstorage\u001b[49m\u001b[43m,\u001b[49m\u001b[43m \u001b[49m\u001b[43mlocation\u001b[49m\u001b[43m)\u001b[49m,\n\u001b[1;32m   1002\u001b[0m     dtype\u001b[38;5;241m=\u001b[39mdtype)\n",
      "File \u001b[0;32m~/anaconda3/lib/python3.9/site-packages/torch/serialization.py:176\u001b[0m, in \u001b[0;36mdefault_restore_location\u001b[0;34m(storage, location)\u001b[0m\n\u001b[1;32m    174\u001b[0m \u001b[38;5;28;01mdef\u001b[39;00m \u001b[38;5;21mdefault_restore_location\u001b[39m(storage, location):\n\u001b[1;32m    175\u001b[0m     \u001b[38;5;28;01mfor\u001b[39;00m _, _, fn \u001b[38;5;129;01min\u001b[39;00m _package_registry:\n\u001b[0;32m--> 176\u001b[0m         result \u001b[38;5;241m=\u001b[39m \u001b[43mfn\u001b[49m\u001b[43m(\u001b[49m\u001b[43mstorage\u001b[49m\u001b[43m,\u001b[49m\u001b[43m \u001b[49m\u001b[43mlocation\u001b[49m\u001b[43m)\u001b[49m\n\u001b[1;32m    177\u001b[0m         \u001b[38;5;28;01mif\u001b[39;00m result \u001b[38;5;129;01mis\u001b[39;00m \u001b[38;5;129;01mnot\u001b[39;00m \u001b[38;5;28;01mNone\u001b[39;00m:\n\u001b[1;32m    178\u001b[0m             \u001b[38;5;28;01mreturn\u001b[39;00m result\n",
      "File \u001b[0;32m~/anaconda3/lib/python3.9/site-packages/torch/serialization.py:152\u001b[0m, in \u001b[0;36m_cuda_deserialize\u001b[0;34m(obj, location)\u001b[0m\n\u001b[1;32m    150\u001b[0m \u001b[38;5;28;01mdef\u001b[39;00m \u001b[38;5;21m_cuda_deserialize\u001b[39m(obj, location):\n\u001b[1;32m    151\u001b[0m     \u001b[38;5;28;01mif\u001b[39;00m location\u001b[38;5;241m.\u001b[39mstartswith(\u001b[38;5;124m'\u001b[39m\u001b[38;5;124mcuda\u001b[39m\u001b[38;5;124m'\u001b[39m):\n\u001b[0;32m--> 152\u001b[0m         device \u001b[38;5;241m=\u001b[39m \u001b[43mvalidate_cuda_device\u001b[49m\u001b[43m(\u001b[49m\u001b[43mlocation\u001b[49m\u001b[43m)\u001b[49m\n\u001b[1;32m    153\u001b[0m         \u001b[38;5;28;01mif\u001b[39;00m \u001b[38;5;28mgetattr\u001b[39m(obj, \u001b[38;5;124m\"\u001b[39m\u001b[38;5;124m_torch_load_uninitialized\u001b[39m\u001b[38;5;124m\"\u001b[39m, \u001b[38;5;28;01mFalse\u001b[39;00m):\n\u001b[1;32m    154\u001b[0m             storage_type \u001b[38;5;241m=\u001b[39m \u001b[38;5;28mgetattr\u001b[39m(torch\u001b[38;5;241m.\u001b[39mcuda, \u001b[38;5;28mtype\u001b[39m(obj)\u001b[38;5;241m.\u001b[39m\u001b[38;5;18m__name__\u001b[39m)\n",
      "File \u001b[0;32m~/anaconda3/lib/python3.9/site-packages/torch/serialization.py:136\u001b[0m, in \u001b[0;36mvalidate_cuda_device\u001b[0;34m(location)\u001b[0m\n\u001b[1;32m    133\u001b[0m device \u001b[38;5;241m=\u001b[39m torch\u001b[38;5;241m.\u001b[39mcuda\u001b[38;5;241m.\u001b[39m_utils\u001b[38;5;241m.\u001b[39m_get_device_index(location, \u001b[38;5;28;01mTrue\u001b[39;00m)\n\u001b[1;32m    135\u001b[0m \u001b[38;5;28;01mif\u001b[39;00m \u001b[38;5;129;01mnot\u001b[39;00m torch\u001b[38;5;241m.\u001b[39mcuda\u001b[38;5;241m.\u001b[39mis_available():\n\u001b[0;32m--> 136\u001b[0m     \u001b[38;5;28;01mraise\u001b[39;00m \u001b[38;5;167;01mRuntimeError\u001b[39;00m(\u001b[38;5;124m'\u001b[39m\u001b[38;5;124mAttempting to deserialize object on a CUDA \u001b[39m\u001b[38;5;124m'\u001b[39m\n\u001b[1;32m    137\u001b[0m                        \u001b[38;5;124m'\u001b[39m\u001b[38;5;124mdevice but torch.cuda.is_available() is False. \u001b[39m\u001b[38;5;124m'\u001b[39m\n\u001b[1;32m    138\u001b[0m                        \u001b[38;5;124m'\u001b[39m\u001b[38;5;124mIf you are running on a CPU-only machine, \u001b[39m\u001b[38;5;124m'\u001b[39m\n\u001b[1;32m    139\u001b[0m                        \u001b[38;5;124m'\u001b[39m\u001b[38;5;124mplease use torch.load with map_location=torch.device(\u001b[39m\u001b[38;5;130;01m\\'\u001b[39;00m\u001b[38;5;124mcpu\u001b[39m\u001b[38;5;130;01m\\'\u001b[39;00m\u001b[38;5;124m) \u001b[39m\u001b[38;5;124m'\u001b[39m\n\u001b[1;32m    140\u001b[0m                        \u001b[38;5;124m'\u001b[39m\u001b[38;5;124mto map your storages to the CPU.\u001b[39m\u001b[38;5;124m'\u001b[39m)\n\u001b[1;32m    141\u001b[0m device_count \u001b[38;5;241m=\u001b[39m torch\u001b[38;5;241m.\u001b[39mcuda\u001b[38;5;241m.\u001b[39mdevice_count()\n\u001b[1;32m    142\u001b[0m \u001b[38;5;28;01mif\u001b[39;00m device \u001b[38;5;241m>\u001b[39m\u001b[38;5;241m=\u001b[39m device_count:\n",
      "\u001b[0;31mRuntimeError\u001b[0m: Attempting to deserialize object on a CUDA device but torch.cuda.is_available() is False. If you are running on a CPU-only machine, please use torch.load with map_location=torch.device('cpu') to map your storages to the CPU."
     ]
    }
   ],
   "source": [
    "recomendador_3 = Recommender3()\n",
    "recomendador_3.load_data(tracks_val)"
   ]
  },
  {
   "cell_type": "code",
   "execution_count": 17,
   "id": "224a1240",
   "metadata": {
    "scrolled": true
   },
   "outputs": [
    {
     "name": "stdout",
     "output_type": "stream",
     "text": [
      "5 de 50\n",
      "10 de 50\n",
      "15 de 50\n",
      "20 de 50\n",
      "25 de 50\n",
      "30 de 50\n",
      "35 de 50\n",
      "40 de 50\n",
      "45 de 50\n",
      "50 de 50\n",
      "Eficiencia recomendador 3: 13.600943728801527 %\n"
     ]
    },
    {
     "data": {
      "image/png": "[encoded data removed]",
      "text/plain": [
       "<Figure size 432x288 with 1 Axes>"
      ]
     },
     "metadata": {
      "needs_background": "light"
     },
     "output_type": "display_data"
    }
   ],
   "source": [
    "np.random.seed(1991)\n",
    "eficiencia_3 = validar_recomendador(playlists_val, pids, recomendador_3)\n",
    "print(\"Eficiencia recomendador 3:\", eficiencia_3,\"%\")"
   ]
  }
 ],
 "metadata": {
  "kernelspec": {
   "display_name": "Python 3 (ipykernel)",
   "language": "python",
   "name": "python3"
  },
  "language_info": {
   "codemirror_mode": {
    "name": "ipython",
    "version": 3
   },
   "file_extension": ".py",
   "mimetype": "text/x-python",
   "name": "python",
   "nbconvert_exporter": "python",
   "pygments_lexer": "ipython3",
   "version": "3.9.12"
  }
 },
 "nbformat": 4,
 "nbformat_minor": 5
}
