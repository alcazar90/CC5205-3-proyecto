{
 "cells": [
  {
   "cell_type": "markdown",
   "id": "b0b3309f",
   "metadata": {},
   "source": [
    "# Modelo final ponderado\n",
    "\n",
    "Para generar un sólo recomendador, se propone ponderar los 3 sistemas generados en uno sólo. Para esto, el modelo final genera recomendaciones con cada uno de los 3 tipos de modelos y luego mezcla estas recomendaciones eligiendo aleatoreamente según ciertas probabilidades asociadas a cada modelo. \n",
    "\n",
    "Adicionalmente, se crea la función \"Feedback\" que actualiza las probabilidades asociadas a cada recomendador para ajustarse más a las preferencias del usuario. De esta manera, si al usuario le gustan más las recomendaciones de un cierto modelo de recomendación, aumentará la probabilidad de que se elijan recomendaciones de ese modelo."
   ]
  },
  {
   "cell_type": "code",
   "execution_count": 1,
   "id": "00739476",
   "metadata": {},
   "outputs": [],
   "source": [
    "import pandas as pd\n",
    "import numpy as np\n",
    "\n",
    "from recommenders import validar_lista, validar_recomendador, Recommender1, Recommender2, Recommender3, RecommenderMean"
   ]
  },
  {
   "cell_type": "markdown",
   "id": "16890065",
   "metadata": {},
   "source": [
    "Se carga y pre procesa los datos"
   ]
  },
  {
   "cell_type": "code",
   "execution_count": 2,
   "id": "fd245e9a",
   "metadata": {},
   "outputs": [],
   "source": [
    "playlists_val = pd.read_csv('https://github.com/alcazar90/CC5205-3-proyecto/raw/main/data/validacion/50_playlists_validation.csv')\n",
    "tracks_val = pd.read_csv('https://github.com/alcazar90/CC5205-3-proyecto/raw/main/data/validacion/50_tracks_validation.csv')\n",
    "artist_info = pd.read_csv('https://github.com/alcazar90/CC5205-3-proyecto/raw/main/data/artist/2000_artist_sample.csv.gz')\n",
    "\n",
    "# Se genera set de pids (playlist id) únicos\n",
    "pids = list(set(playlists_val[\"pid\"]))\n",
    "\n",
    "cols=tracks_val.columns\n",
    "tracks_val.columns=[col[15:] if col[:15]==\"audio_features.\" else col for col in cols]\n",
    "tracks_val = tracks_val.drop(columns=[\"Unnamed: 0\"])\n",
    "\n",
    "var_names=[\"danceability\", \"energy\", \"key\", \"loudness\", \"mode\", \"speechiness\", \"acousticness\", \"instrumentalness\", \"liveness\", \"valence\", \"tempo\", \"duration_ms\", \"time_signature\"]\n",
    "tracks_info = playlists_val.drop_duplicates(subset=[\"track_uri\"]).set_index(\"track_uri\")[[\"track_name\", \"artist_name\"]].loc[tracks_val[\"uri\"]]"
   ]
  },
  {
   "cell_type": "markdown",
   "id": "f323e8d7",
   "metadata": {},
   "source": [
    "Se crean las 3 instancias para cada modelo"
   ]
  },
  {
   "cell_type": "code",
   "execution_count": 3,
   "id": "bcfdec12",
   "metadata": {},
   "outputs": [
    {
     "name": "stdout",
     "output_type": "stream",
     "text": [
      "0\n",
      "10\n",
      "20\n",
      "30\n",
      "40\n"
     ]
    }
   ],
   "source": [
    "# Recommender1\n",
    "avg_features_by_pid = \\\n",
    "        playlists_val \\\n",
    "            .merge(tracks_val, left_on='track_uri', right_on='uri', how='inner') \\\n",
    "            [['pid','danceability', 'energy', 'key', 'loudness', 'mode', 'speechiness',\n",
    "              'acousticness', 'instrumentalness', 'liveness', 'valence', 'tempo']] \\\n",
    "            .groupby('pid') \\\n",
    "            .mean() \\\n",
    "            .reset_index()\n",
    "\n",
    "features_by_pid_plus_artist = \\\n",
    "    playlists_val \\\n",
    "    .merge(tracks_val, left_on='track_uri', right_on='uri', how='inner') \\\n",
    "    [['pid','artist_uri', 'track_uri', 'danceability', 'energy', 'key', 'loudness', 'mode', 'speechiness',\n",
    "      'acousticness', 'instrumentalness', 'liveness', 'valence', 'tempo']] \\\n",
    "    .drop_duplicates(subset=['artist_uri']) \\\n",
    "    .merge(artist_info[['artists.uri', 'artists.popularity']], left_on='artist_uri', right_on='artists.uri', how='left') \\\n",
    "    .drop(['artists.uri'], axis=1)\n",
    "\n",
    "recomendador_1 = Recommender1(avg_features_by_pid)\n",
    "recomendador_1.fit(avg_features_by_pid.iloc[:, 1:].to_numpy(), \n",
    "                   avg_features_by_pid.iloc[:, 0].to_numpy(),\n",
    "                   features_by_pid_plus_artist)\n",
    "\n",
    "# Recommender2\n",
    "recomendador_2=Recommender2(var_names)\n",
    "recomendador_2.train(tracks_val, playlists_val)\n",
    "\n",
    "# Recommender3\n",
    "recomendador_3 = Recommender3(var_names)\n",
    "recomendador_3.load_data(tracks_val)"
   ]
  },
  {
   "cell_type": "markdown",
   "id": "d181d234",
   "metadata": {},
   "source": [
    "Cargamos una lista de prueba para ver las recomendaciones del modelo ponderado"
   ]
  },
  {
   "cell_type": "code",
   "execution_count": 4,
   "id": "1e779326",
   "metadata": {},
   "outputs": [],
   "source": [
    "test=pd.read_csv(\"../data/10_canciones_features_azar.csv\")"
   ]
  },
  {
   "cell_type": "markdown",
   "id": "0991cd29",
   "metadata": {},
   "source": [
    "Creamos el modelo ponderado dandoles los 3 modelos recomendadores creados anteriormente. Utilizaremos los porcentajes de eficiencia obtenidos en validación para obtener los pesos iniciales asociados a los modelos. De esta manera, el recomendador ponderado inicialmente tendrá más probabilidades de elegir recomendaciones de los modelos que mayor puntaje tuvieron en validación. Con el paso del tiempo, estos puntajes podrían cambiar si el usuario tiene más preferencia por las recomendaciones de un mismo recomendador."
   ]
  },
  {
   "cell_type": "code",
   "execution_count": 12,
   "id": "2fef65c8",
   "metadata": {},
   "outputs": [
    {
     "data": {
      "text/html": [
       "<div>\n",
       "<style scoped>\n",
       "    .dataframe tbody tr th:only-of-type {\n",
       "        vertical-align: middle;\n",
       "    }\n",
       "\n",
       "    .dataframe tbody tr th {\n",
       "        vertical-align: top;\n",
       "    }\n",
       "\n",
       "    .dataframe thead th {\n",
       "        text-align: right;\n",
       "    }\n",
       "</style>\n",
       "<table border=\"1\" class=\"dataframe\">\n",
       "  <thead>\n",
       "    <tr style=\"text-align: right;\">\n",
       "      <th></th>\n",
       "      <th>track_name</th>\n",
       "      <th>artist_name</th>\n",
       "    </tr>\n",
       "    <tr>\n",
       "      <th>track_uri</th>\n",
       "      <th></th>\n",
       "      <th></th>\n",
       "    </tr>\n",
       "  </thead>\n",
       "  <tbody>\n",
       "    <tr>\n",
       "      <th>spotify:track:0J6mQxEZnlRt9ymzFntA6z</th>\n",
       "      <td>Livin' On A Prayer</td>\n",
       "      <td>Bon Jovi</td>\n",
       "    </tr>\n",
       "    <tr>\n",
       "      <th>spotify:track:5CjwXdq5Z73Va0XCPFG5Aq</th>\n",
       "      <td>The Good Life</td>\n",
       "      <td>Weezer</td>\n",
       "    </tr>\n",
       "    <tr>\n",
       "      <th>spotify:track:29BmtsadNYhlWDKpqyAnVr</th>\n",
       "      <td>Why God Made Love Songs - Single Version</td>\n",
       "      <td>Joel Crouse</td>\n",
       "    </tr>\n",
       "    <tr>\n",
       "      <th>spotify:track:7pEjMcUwSQ8E6dzi3AiWHu</th>\n",
       "      <td>Hard to Be Cool</td>\n",
       "      <td>Joe Nichols</td>\n",
       "    </tr>\n",
       "    <tr>\n",
       "      <th>spotify:track:0LN0ASTtcGIbNTnjSHG6eO</th>\n",
       "      <td>Pour Some Sugar On Me (2012)</td>\n",
       "      <td>Def Leppard</td>\n",
       "    </tr>\n",
       "    <tr>\n",
       "      <th>spotify:track:23B2mTKFIHLE9qoLGMMtYW</th>\n",
       "      <td>Born Again Tomorrow</td>\n",
       "      <td>Bon Jovi</td>\n",
       "    </tr>\n",
       "    <tr>\n",
       "      <th>spotify:track:3EY7mzKglmxJw21WGUYPLB</th>\n",
       "      <td>Sister Jack</td>\n",
       "      <td>Spoon</td>\n",
       "    </tr>\n",
       "    <tr>\n",
       "      <th>spotify:track:756CJtQRFSxEx9jV4P9hpA</th>\n",
       "      <td>I Believe In A Thing Called Love</td>\n",
       "      <td>The Darkness</td>\n",
       "    </tr>\n",
       "    <tr>\n",
       "      <th>spotify:track:71DDK14XVxkXLmG3AVi1BP</th>\n",
       "      <td>Storm Warning</td>\n",
       "      <td>Hunter Hayes</td>\n",
       "    </tr>\n",
       "    <tr>\n",
       "      <th>spotify:track:3YA509E9ki7a3Ic9cf25Vt</th>\n",
       "      <td>Broken Record</td>\n",
       "      <td>Alex Ebert</td>\n",
       "    </tr>\n",
       "    <tr>\n",
       "      <th>spotify:track:3qHzSBZ4gVVZZmV3XB089s</th>\n",
       "      <td>Naked</td>\n",
       "      <td>X Ambassadors</td>\n",
       "    </tr>\n",
       "    <tr>\n",
       "      <th>spotify:track:2V8KvnD5LVeeDChMWEkSzC</th>\n",
       "      <td>Nothin' But A Good Time - 2006 - Remaster</td>\n",
       "      <td>Poison</td>\n",
       "    </tr>\n",
       "    <tr>\n",
       "      <th>spotify:track:5Eph6Vs0PftspPXZqlVN2y</th>\n",
       "      <td>She Thinks She Needs Me</td>\n",
       "      <td>Andy Griggs</td>\n",
       "    </tr>\n",
       "    <tr>\n",
       "      <th>spotify:track:4iLPK8QnOvqm0Azbsk2GDn</th>\n",
       "      <td>Don't It</td>\n",
       "      <td>Billy Currington</td>\n",
       "    </tr>\n",
       "    <tr>\n",
       "      <th>spotify:track:27GaJQZLpalF6LRtIxXCaU</th>\n",
       "      <td>Pomatter Pie</td>\n",
       "      <td>The Waitress Band</td>\n",
       "    </tr>\n",
       "    <tr>\n",
       "      <th>spotify:track:4DMKwE2E2iYDKY01C335Uw</th>\n",
       "      <td>Carry on Wayward Son</td>\n",
       "      <td>Kansas</td>\n",
       "    </tr>\n",
       "    <tr>\n",
       "      <th>spotify:track:5JgNsYcjcSk4bYiZjYE7tL</th>\n",
       "      <td>Love Me Like You Mean It</td>\n",
       "      <td>Kelsea Ballerini</td>\n",
       "    </tr>\n",
       "    <tr>\n",
       "      <th>spotify:track:5iXuX70Sxp6sKdumBcQQW7</th>\n",
       "      <td>Katie Queen Of Tennessee</td>\n",
       "      <td>The Apache Relay</td>\n",
       "    </tr>\n",
       "    <tr>\n",
       "      <th>spotify:track:3fqwjXwUGN6vbzIwvyFMhx</th>\n",
       "      <td>Tennessee Whiskey</td>\n",
       "      <td>Chris Stapleton</td>\n",
       "    </tr>\n",
       "    <tr>\n",
       "      <th>spotify:track:0ct6r3EGTcMLPtrXHDvVjc</th>\n",
       "      <td>The Nights</td>\n",
       "      <td>Avicii</td>\n",
       "    </tr>\n",
       "  </tbody>\n",
       "</table>\n",
       "</div>"
      ],
      "text/plain": [
       "                                                                     track_name  \\\n",
       "track_uri                                                                         \n",
       "spotify:track:0J6mQxEZnlRt9ymzFntA6z                         Livin' On A Prayer   \n",
       "spotify:track:5CjwXdq5Z73Va0XCPFG5Aq                              The Good Life   \n",
       "spotify:track:29BmtsadNYhlWDKpqyAnVr   Why God Made Love Songs - Single Version   \n",
       "spotify:track:7pEjMcUwSQ8E6dzi3AiWHu                            Hard to Be Cool   \n",
       "spotify:track:0LN0ASTtcGIbNTnjSHG6eO               Pour Some Sugar On Me (2012)   \n",
       "spotify:track:23B2mTKFIHLE9qoLGMMtYW                        Born Again Tomorrow   \n",
       "spotify:track:3EY7mzKglmxJw21WGUYPLB                                Sister Jack   \n",
       "spotify:track:756CJtQRFSxEx9jV4P9hpA           I Believe In A Thing Called Love   \n",
       "spotify:track:71DDK14XVxkXLmG3AVi1BP                              Storm Warning   \n",
       "spotify:track:3YA509E9ki7a3Ic9cf25Vt                              Broken Record   \n",
       "spotify:track:3qHzSBZ4gVVZZmV3XB089s                                      Naked   \n",
       "spotify:track:2V8KvnD5LVeeDChMWEkSzC  Nothin' But A Good Time - 2006 - Remaster   \n",
       "spotify:track:5Eph6Vs0PftspPXZqlVN2y                    She Thinks She Needs Me   \n",
       "spotify:track:4iLPK8QnOvqm0Azbsk2GDn                                   Don't It   \n",
       "spotify:track:27GaJQZLpalF6LRtIxXCaU                               Pomatter Pie   \n",
       "spotify:track:4DMKwE2E2iYDKY01C335Uw                       Carry on Wayward Son   \n",
       "spotify:track:5JgNsYcjcSk4bYiZjYE7tL                   Love Me Like You Mean It   \n",
       "spotify:track:5iXuX70Sxp6sKdumBcQQW7                   Katie Queen Of Tennessee   \n",
       "spotify:track:3fqwjXwUGN6vbzIwvyFMhx                          Tennessee Whiskey   \n",
       "spotify:track:0ct6r3EGTcMLPtrXHDvVjc                                 The Nights   \n",
       "\n",
       "                                            artist_name  \n",
       "track_uri                                                \n",
       "spotify:track:0J6mQxEZnlRt9ymzFntA6z           Bon Jovi  \n",
       "spotify:track:5CjwXdq5Z73Va0XCPFG5Aq             Weezer  \n",
       "spotify:track:29BmtsadNYhlWDKpqyAnVr        Joel Crouse  \n",
       "spotify:track:7pEjMcUwSQ8E6dzi3AiWHu        Joe Nichols  \n",
       "spotify:track:0LN0ASTtcGIbNTnjSHG6eO        Def Leppard  \n",
       "spotify:track:23B2mTKFIHLE9qoLGMMtYW           Bon Jovi  \n",
       "spotify:track:3EY7mzKglmxJw21WGUYPLB              Spoon  \n",
       "spotify:track:756CJtQRFSxEx9jV4P9hpA       The Darkness  \n",
       "spotify:track:71DDK14XVxkXLmG3AVi1BP       Hunter Hayes  \n",
       "spotify:track:3YA509E9ki7a3Ic9cf25Vt         Alex Ebert  \n",
       "spotify:track:3qHzSBZ4gVVZZmV3XB089s      X Ambassadors  \n",
       "spotify:track:2V8KvnD5LVeeDChMWEkSzC             Poison  \n",
       "spotify:track:5Eph6Vs0PftspPXZqlVN2y        Andy Griggs  \n",
       "spotify:track:4iLPK8QnOvqm0Azbsk2GDn   Billy Currington  \n",
       "spotify:track:27GaJQZLpalF6LRtIxXCaU  The Waitress Band  \n",
       "spotify:track:4DMKwE2E2iYDKY01C335Uw             Kansas  \n",
       "spotify:track:5JgNsYcjcSk4bYiZjYE7tL   Kelsea Ballerini  \n",
       "spotify:track:5iXuX70Sxp6sKdumBcQQW7   The Apache Relay  \n",
       "spotify:track:3fqwjXwUGN6vbzIwvyFMhx    Chris Stapleton  \n",
       "spotify:track:0ct6r3EGTcMLPtrXHDvVjc             Avicii  "
      ]
     },
     "execution_count": 12,
     "metadata": {},
     "output_type": "execute_result"
    }
   ],
   "source": [
    "np.random.seed(1991)\n",
    "rec_promedio=RecommenderMean([recomendador_1, recomendador_2, recomendador_3], [2.1, 15.5, 13.6])\n",
    "tracks_info.loc[rec_promedio.recommend_list(test, number=20)]"
   ]
  },
  {
   "cell_type": "markdown",
   "id": "97a4f7da",
   "metadata": {},
   "source": [
    "# Validación\n",
    "\n",
    "Realizamos la validación del recomendador ponderado con el mismo método que para cada recomendador anteriormente. Vemos que, en promedio, la eficiencia del recomendador ponderado es un punto intermedio entre las eficiencias de cada recomendador por separado."
   ]
  },
  {
   "cell_type": "code",
   "execution_count": 6,
   "id": "4337ca50",
   "metadata": {},
   "outputs": [
    {
     "name": "stdout",
     "output_type": "stream",
     "text": [
      "Generando recomendaciones Playlist 5 de 50. % Recomendaciones correctas: 62.84\n",
      "Generando recomendaciones Playlist 10 de 50. % Recomendaciones correctas: 7.22\n",
      "Generando recomendaciones Playlist 15 de 50. % Recomendaciones correctas: 15.31\n",
      "Generando recomendaciones Playlist 20 de 50. % Recomendaciones correctas: 14.42\n",
      "Generando recomendaciones Playlist 25 de 50. % Recomendaciones correctas: 4.76\n",
      "Generando recomendaciones Playlist 30 de 50. % Recomendaciones correctas: 4.21\n",
      "Generando recomendaciones Playlist 35 de 50. % Recomendaciones correctas: 3.95\n",
      "Generando recomendaciones Playlist 40 de 50. % Recomendaciones correctas: 12.11\n",
      "Generando recomendaciones Playlist 45 de 50. % Recomendaciones correctas: 2.59\n",
      "Generando recomendaciones Playlist 50 de 50. % Recomendaciones correctas: 14.08\n",
      "Eficiencia recomendador 3: 12.37105471349387 %\n"
     ]
    },
    {
     "data": {
      "image/png": "[encoded data removed]",
      "text/plain": [
       "<Figure size 720x360 with 1 Axes>"
      ]
     },
     "metadata": {
      "needs_background": "light"
     },
     "output_type": "display_data"
    }
   ],
   "source": [
    "np.random.seed(1991)\n",
    "eficiencia_pond = validar_recomendador(playlists_val, tracks_val, pids, rec_promedio)\n",
    "print(\"Eficiencia recomendador 3:\", eficiencia_pond,\"%\")"
   ]
  },
  {
   "cell_type": "markdown",
   "id": "8807744a",
   "metadata": {},
   "source": [
    "# Feedback\n",
    "\n",
    "Por la validación del recomendador ponderado parecería a simple vista que sería preferible elegir el recomendador 2 o 3 en vez del ponderado. Sin embargo, una ventaja de tener el ponderado es que el mismo usuario puede elegir el algoritmo que más desee y así tener un recomendador personalizado a sus preferencias. Alta eficiencia de predicción de canciones de la misma playlist no implica necesariamente que el modelo da mejores recomendaciones, ya que algunos usuarios pueden preferir canciones según otros atributos.\n",
    "\n",
    "A continuación mostraremos como funciona el algoritmo de feedback del recomendador promedio. Supongamos que al usuario le gustaron las siguientes canciones:\n",
    "- The Good Life - Weezer\n",
    "- Sister Jack - Spoon\n",
    "- Don't It - Billy Currington\n",
    "\n",
    "Las 3 canciones pertenecen al recomendador 2. Realizamos el feedback y observamos como cambian las probabilidades de elegir canciones y y también las recomendaciones en sí. Primero vemos los pesos de cada recomendador antes del feedback."
   ]
  },
  {
   "cell_type": "code",
   "execution_count": 9,
   "id": "64830516",
   "metadata": {},
   "outputs": [
    {
     "name": "stdout",
     "output_type": "stream",
     "text": [
      "Recomendador 0 probabilidad: 0.0673076923076923\n",
      "Recomendador 1 probabilidad: 0.49679487179487175\n",
      "Recomendador 2 probabilidad: 0.43589743589743585\n"
     ]
    }
   ],
   "source": [
    "[print(\"Recomendador\", i,\"probabilidad:\", prob) for i, prob in enumerate(rec_promedio.probs)]; pass"
   ]
  },
  {
   "cell_type": "markdown",
   "id": "47a02c86",
   "metadata": {},
   "source": [
    "Luego realizamos el feedback utilizando los **track_uri** de las canciones seleccionadas."
   ]
  },
  {
   "cell_type": "code",
   "execution_count": 13,
   "id": "b9639296",
   "metadata": {},
   "outputs": [
    {
     "name": "stdout",
     "output_type": "stream",
     "text": [
      "Thanks for your feedback!\n",
      "Thanks for your feedback!\n",
      "Thanks for your feedback!\n"
     ]
    }
   ],
   "source": [
    "rec_promedio.feedback(\"spotify:track:5CjwXdq5Z73Va0XCPFG5Aq\" ,lr=0.05)\n",
    "rec_promedio.feedback(\"spotify:track:3EY7mzKglmxJw21WGUYPLB\" ,lr=0.05)\n",
    "rec_promedio.feedback(\"spotify:track:4iLPK8QnOvqm0Azbsk2GDn\" ,lr=0.05)"
   ]
  },
  {
   "cell_type": "markdown",
   "id": "8cded956",
   "metadata": {},
   "source": [
    "El factor $lr$ corresponde a que tan relevante es el feedback dado. EL feedback puede ser simplemente escuchar la recomendación, escucharla completa, ponerle \"me gusta\", etc. Cada una de estas acciones tiene una relevancia distinta en determinar si al usuario le gustó la canción. Vemos como quedaron las probabilidades de cada lista."
   ]
  },
  {
   "cell_type": "code",
   "execution_count": 14,
   "id": "5e3509f5",
   "metadata": {},
   "outputs": [
    {
     "name": "stdout",
     "output_type": "stream",
     "text": [
      "Recomendador 0 probabilidad: 0.05770793269230768\n",
      "Recomendador 1 probabilidad: 0.5685645032051282\n",
      "Recomendador 2 probabilidad: 0.373727564102564\n"
     ]
    }
   ],
   "source": [
    "[print(\"Recomendador\", i,\"probabilidad:\", prob) for i, prob in enumerate(rec_promedio.probs)]; pass"
   ]
  },
  {
   "cell_type": "markdown",
   "id": "66743f93",
   "metadata": {},
   "source": [
    "Se observa un aumento en la probabilidad del recomendador 2. Exploramos si hubo cambios en las recomendaciones."
   ]
  },
  {
   "cell_type": "code",
   "execution_count": 15,
   "id": "97a0c7bc",
   "metadata": {},
   "outputs": [
    {
     "data": {
      "text/html": [
       "<div>\n",
       "<style scoped>\n",
       "    .dataframe tbody tr th:only-of-type {\n",
       "        vertical-align: middle;\n",
       "    }\n",
       "\n",
       "    .dataframe tbody tr th {\n",
       "        vertical-align: top;\n",
       "    }\n",
       "\n",
       "    .dataframe thead th {\n",
       "        text-align: right;\n",
       "    }\n",
       "</style>\n",
       "<table border=\"1\" class=\"dataframe\">\n",
       "  <thead>\n",
       "    <tr style=\"text-align: right;\">\n",
       "      <th></th>\n",
       "      <th>track_name</th>\n",
       "      <th>artist_name</th>\n",
       "    </tr>\n",
       "    <tr>\n",
       "      <th>track_uri</th>\n",
       "      <th></th>\n",
       "      <th></th>\n",
       "    </tr>\n",
       "  </thead>\n",
       "  <tbody>\n",
       "    <tr>\n",
       "      <th>spotify:track:0J6mQxEZnlRt9ymzFntA6z</th>\n",
       "      <td>Livin' On A Prayer</td>\n",
       "      <td>Bon Jovi</td>\n",
       "    </tr>\n",
       "    <tr>\n",
       "      <th>spotify:track:5CjwXdq5Z73Va0XCPFG5Aq</th>\n",
       "      <td>The Good Life</td>\n",
       "      <td>Weezer</td>\n",
       "    </tr>\n",
       "    <tr>\n",
       "      <th>spotify:track:29BmtsadNYhlWDKpqyAnVr</th>\n",
       "      <td>Why God Made Love Songs - Single Version</td>\n",
       "      <td>Joel Crouse</td>\n",
       "    </tr>\n",
       "    <tr>\n",
       "      <th>spotify:track:7pEjMcUwSQ8E6dzi3AiWHu</th>\n",
       "      <td>Hard to Be Cool</td>\n",
       "      <td>Joe Nichols</td>\n",
       "    </tr>\n",
       "    <tr>\n",
       "      <th>spotify:track:0LN0ASTtcGIbNTnjSHG6eO</th>\n",
       "      <td>Pour Some Sugar On Me (2012)</td>\n",
       "      <td>Def Leppard</td>\n",
       "    </tr>\n",
       "    <tr>\n",
       "      <th>spotify:track:23B2mTKFIHLE9qoLGMMtYW</th>\n",
       "      <td>Born Again Tomorrow</td>\n",
       "      <td>Bon Jovi</td>\n",
       "    </tr>\n",
       "    <tr>\n",
       "      <th>spotify:track:3EY7mzKglmxJw21WGUYPLB</th>\n",
       "      <td>Sister Jack</td>\n",
       "      <td>Spoon</td>\n",
       "    </tr>\n",
       "    <tr>\n",
       "      <th>spotify:track:756CJtQRFSxEx9jV4P9hpA</th>\n",
       "      <td>I Believe In A Thing Called Love</td>\n",
       "      <td>The Darkness</td>\n",
       "    </tr>\n",
       "    <tr>\n",
       "      <th>spotify:track:71DDK14XVxkXLmG3AVi1BP</th>\n",
       "      <td>Storm Warning</td>\n",
       "      <td>Hunter Hayes</td>\n",
       "    </tr>\n",
       "    <tr>\n",
       "      <th>spotify:track:3YA509E9ki7a3Ic9cf25Vt</th>\n",
       "      <td>Broken Record</td>\n",
       "      <td>Alex Ebert</td>\n",
       "    </tr>\n",
       "    <tr>\n",
       "      <th>spotify:track:3qHzSBZ4gVVZZmV3XB089s</th>\n",
       "      <td>Naked</td>\n",
       "      <td>X Ambassadors</td>\n",
       "    </tr>\n",
       "    <tr>\n",
       "      <th>spotify:track:2V8KvnD5LVeeDChMWEkSzC</th>\n",
       "      <td>Nothin' But A Good Time - 2006 - Remaster</td>\n",
       "      <td>Poison</td>\n",
       "    </tr>\n",
       "    <tr>\n",
       "      <th>spotify:track:5Eph6Vs0PftspPXZqlVN2y</th>\n",
       "      <td>She Thinks She Needs Me</td>\n",
       "      <td>Andy Griggs</td>\n",
       "    </tr>\n",
       "    <tr>\n",
       "      <th>spotify:track:4iLPK8QnOvqm0Azbsk2GDn</th>\n",
       "      <td>Don't It</td>\n",
       "      <td>Billy Currington</td>\n",
       "    </tr>\n",
       "    <tr>\n",
       "      <th>spotify:track:27GaJQZLpalF6LRtIxXCaU</th>\n",
       "      <td>Pomatter Pie</td>\n",
       "      <td>The Waitress Band</td>\n",
       "    </tr>\n",
       "    <tr>\n",
       "      <th>spotify:track:4DMKwE2E2iYDKY01C335Uw</th>\n",
       "      <td>Carry on Wayward Son</td>\n",
       "      <td>Kansas</td>\n",
       "    </tr>\n",
       "    <tr>\n",
       "      <th>spotify:track:5JgNsYcjcSk4bYiZjYE7tL</th>\n",
       "      <td>Love Me Like You Mean It</td>\n",
       "      <td>Kelsea Ballerini</td>\n",
       "    </tr>\n",
       "    <tr>\n",
       "      <th>spotify:track:5iXuX70Sxp6sKdumBcQQW7</th>\n",
       "      <td>Katie Queen Of Tennessee</td>\n",
       "      <td>The Apache Relay</td>\n",
       "    </tr>\n",
       "    <tr>\n",
       "      <th>spotify:track:0ct6r3EGTcMLPtrXHDvVjc</th>\n",
       "      <td>The Nights</td>\n",
       "      <td>Avicii</td>\n",
       "    </tr>\n",
       "    <tr>\n",
       "      <th>spotify:track:07mKNZh1IbiERVivfJP5gB</th>\n",
       "      <td>Smile</td>\n",
       "      <td>The Vamps</td>\n",
       "    </tr>\n",
       "  </tbody>\n",
       "</table>\n",
       "</div>"
      ],
      "text/plain": [
       "                                                                     track_name  \\\n",
       "track_uri                                                                         \n",
       "spotify:track:0J6mQxEZnlRt9ymzFntA6z                         Livin' On A Prayer   \n",
       "spotify:track:5CjwXdq5Z73Va0XCPFG5Aq                              The Good Life   \n",
       "spotify:track:29BmtsadNYhlWDKpqyAnVr   Why God Made Love Songs - Single Version   \n",
       "spotify:track:7pEjMcUwSQ8E6dzi3AiWHu                            Hard to Be Cool   \n",
       "spotify:track:0LN0ASTtcGIbNTnjSHG6eO               Pour Some Sugar On Me (2012)   \n",
       "spotify:track:23B2mTKFIHLE9qoLGMMtYW                        Born Again Tomorrow   \n",
       "spotify:track:3EY7mzKglmxJw21WGUYPLB                                Sister Jack   \n",
       "spotify:track:756CJtQRFSxEx9jV4P9hpA           I Believe In A Thing Called Love   \n",
       "spotify:track:71DDK14XVxkXLmG3AVi1BP                              Storm Warning   \n",
       "spotify:track:3YA509E9ki7a3Ic9cf25Vt                              Broken Record   \n",
       "spotify:track:3qHzSBZ4gVVZZmV3XB089s                                      Naked   \n",
       "spotify:track:2V8KvnD5LVeeDChMWEkSzC  Nothin' But A Good Time - 2006 - Remaster   \n",
       "spotify:track:5Eph6Vs0PftspPXZqlVN2y                    She Thinks She Needs Me   \n",
       "spotify:track:4iLPK8QnOvqm0Azbsk2GDn                                   Don't It   \n",
       "spotify:track:27GaJQZLpalF6LRtIxXCaU                               Pomatter Pie   \n",
       "spotify:track:4DMKwE2E2iYDKY01C335Uw                       Carry on Wayward Son   \n",
       "spotify:track:5JgNsYcjcSk4bYiZjYE7tL                   Love Me Like You Mean It   \n",
       "spotify:track:5iXuX70Sxp6sKdumBcQQW7                   Katie Queen Of Tennessee   \n",
       "spotify:track:0ct6r3EGTcMLPtrXHDvVjc                                 The Nights   \n",
       "spotify:track:07mKNZh1IbiERVivfJP5gB                                      Smile   \n",
       "\n",
       "                                            artist_name  \n",
       "track_uri                                                \n",
       "spotify:track:0J6mQxEZnlRt9ymzFntA6z           Bon Jovi  \n",
       "spotify:track:5CjwXdq5Z73Va0XCPFG5Aq             Weezer  \n",
       "spotify:track:29BmtsadNYhlWDKpqyAnVr        Joel Crouse  \n",
       "spotify:track:7pEjMcUwSQ8E6dzi3AiWHu        Joe Nichols  \n",
       "spotify:track:0LN0ASTtcGIbNTnjSHG6eO        Def Leppard  \n",
       "spotify:track:23B2mTKFIHLE9qoLGMMtYW           Bon Jovi  \n",
       "spotify:track:3EY7mzKglmxJw21WGUYPLB              Spoon  \n",
       "spotify:track:756CJtQRFSxEx9jV4P9hpA       The Darkness  \n",
       "spotify:track:71DDK14XVxkXLmG3AVi1BP       Hunter Hayes  \n",
       "spotify:track:3YA509E9ki7a3Ic9cf25Vt         Alex Ebert  \n",
       "spotify:track:3qHzSBZ4gVVZZmV3XB089s      X Ambassadors  \n",
       "spotify:track:2V8KvnD5LVeeDChMWEkSzC             Poison  \n",
       "spotify:track:5Eph6Vs0PftspPXZqlVN2y        Andy Griggs  \n",
       "spotify:track:4iLPK8QnOvqm0Azbsk2GDn   Billy Currington  \n",
       "spotify:track:27GaJQZLpalF6LRtIxXCaU  The Waitress Band  \n",
       "spotify:track:4DMKwE2E2iYDKY01C335Uw             Kansas  \n",
       "spotify:track:5JgNsYcjcSk4bYiZjYE7tL   Kelsea Ballerini  \n",
       "spotify:track:5iXuX70Sxp6sKdumBcQQW7   The Apache Relay  \n",
       "spotify:track:0ct6r3EGTcMLPtrXHDvVjc             Avicii  \n",
       "spotify:track:07mKNZh1IbiERVivfJP5gB          The Vamps  "
      ]
     },
     "execution_count": 15,
     "metadata": {},
     "output_type": "execute_result"
    }
   ],
   "source": [
    "np.random.seed(1991)\n",
    "tracks_info.loc[rec_promedio.recommend_list(test, number=20)]"
   ]
  },
  {
   "cell_type": "markdown",
   "id": "2135b835",
   "metadata": {},
   "source": [
    "Se observa que ahora \"The Nights\" se ubica una posición más arriba, remplazando a \"Tennessee Whiskey\"."
   ]
  },
  {
   "cell_type": "markdown",
   "id": "ddfc3574",
   "metadata": {},
   "source": [
    "### Anexo: Algoritmo de feedback\n",
    "\n",
    "Para implementar el algoritmo de actualización de pesos ponderados, se buscó una fórmula $\\phi$ de la forma:\n",
    "\n",
    "$$\\phi(P, i)=P*$$\n",
    "\n",
    "Donde $P$ es el vector de probabilidades asociadas a los recomendadores, de la forma $\\{P_1, ... , P_n\\}$ con $n=$ cantidad de recomendadores, $P*$ el vector de probabilidades luego de dar un feedback, e $i\\in\\{1, ... , n\\}$ el recomendador al cual se le dió feedback positivo.\n",
    "\n",
    "Se buscó que $\\phi$ cumpliera que si $i$ es una variable aleatorea categórica con distribución $P$, entonces $\\mathbb{E}(\\phi(P, i))=P$. Es decir, que si se eligen canciones aleatoreamente sin ningún sesgo, entonces en promedio $P$ no cambie, o oscile aleatoreamente. En otras palabras, el feedback sólo tiene efecto real si se elige un recomendador con una predilección real.\n",
    "\n",
    "El $\\phi$ que cumple esto es $\\phi(P, i)=(1-\\eta)\\cdot P+\\eta\\cdot Q$ donde el vector $Q$ cumple $Q_j=[1_{j=i}]$ y $\\eta\\in[0,1]$. \n",
    "\n",
    "Mostramos acá 1000 feedbacks aleatoreos con $\\eta=0.001$. Cada serie representa la probabilidad asociada a un recomendador ficticio, en un esquema con 5 recomendadores con probabilidades iniciales desde un 2% a un 55%. Observamos que, dado que no hay sesgo, las probabilidades se mantienen relativamente estables, con variaciones aleatoreas."
   ]
  },
  {
   "cell_type": "code",
   "execution_count": 19,
   "id": "e7d5d7fd",
   "metadata": {
    "scrolled": false
   },
   "outputs": [
    {
     "data": {
      "image/png": "[encoded data removed]",
      "text/plain": [
       "<Figure size 1008x432 with 2 Axes>"
      ]
     },
     "metadata": {
      "needs_background": "light"
     },
     "output_type": "display_data"
    }
   ],
   "source": [
    "import matplotlib.pyplot as plt\n",
    "\n",
    "probs_ori=np.asarray([0.02, 0.05, 0.13, 0.25, 0.55])\n",
    "probs=np.asarray([0.02, 0.05, 0.13, 0.25, 0.55])\n",
    "\n",
    "all_probs=np.asarray([probs])\n",
    "for i in range(1000):\n",
    "    choice=np.zeros(probs.shape)\n",
    "    choice[np.random.choice(range(len(probs)), p=probs)]=1\n",
    "    probs=probs*0.999+choice*0.001\n",
    "    all_probs=np.concatenate((all_probs, probs.reshape(1, -1)))\n",
    "\n",
    "fig, axes= plt.subplots(1,2, figsize=(14,6))\n",
    "axes[0].plot(all_probs)\n",
    "axes[1].plot(np.log(all_probs))\n",
    "\n",
    "axes[0].set_xlabel(\"Iteración\")\n",
    "axes[1].set_xlabel(\"Iteración\")\n",
    "axes[0].set_ylabel(\"Probabilidad\")\n",
    "axes[1].set_ylabel(\"Log-Probabilidad\")\n",
    "\n",
    "plt.show()"
   ]
  }
 ],
 "metadata": {
  "kernelspec": {
   "display_name": "Python 3 (ipykernel)",
   "language": "python",
   "name": "python3"
  },
  "language_info": {
   "codemirror_mode": {
    "name": "ipython",
    "version": 3
   },
   "file_extension": ".py",
   "mimetype": "text/x-python",
   "name": "python",
   "nbconvert_exporter": "python",
   "pygments_lexer": "ipython3",
   "version": "3.9.12"
  }
 },
 "nbformat": 4,
 "nbformat_minor": 5
}
