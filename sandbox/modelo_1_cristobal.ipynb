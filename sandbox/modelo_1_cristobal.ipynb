{
 "cells": [
  {
   "cell_type": "markdown",
   "metadata": {
    "id": "l026vSvmhaop"
   },
   "source": [
    "<h1 style=\"font-weight:normal\" align=\"center\">\n",
    "  &nbsp;Yet Another Spotify Song Recommender 🎵&nbsp;<br>\n",
    "  <a href=\"https://github.com/alcazar90/CC5205-3-proyecto\"><img src=\"https://play-lh.googleusercontent.com/PCpXdqvUWfCW1mXhH1Y_98yBpgsWxuTSTofy3NGMo9yBTATDyzVkqU580bfSln50bFU\" alt=\"Spotify\" border=\"0\" width=\"25\" height=\"25\"></a>\n",
    "</h1>\n",
    "\n",
    "Integrantes: \n",
    "\n",
    "* Cristóbal Alcázar\n",
    "* Felipe Callpa\n",
    "* Diego Cortez\n",
    "* Gianina Salomó\n",
    "* Christopher Stears"
   ]
  },
  {
   "cell_type": "code",
   "execution_count": 2,
   "metadata": {
    "id": "Iv83zXMfcDYg"
   },
   "outputs": [],
   "source": [
    "import pandas as pd\n",
    "import numpy as np\n",
    "import matplotlib.pyplot as plt\n",
    "import seaborn as sns\n",
    "\n",
    "# Nueva\n",
    "from sklearn.metrics.pairwise import cosine_similarity"
   ]
  },
  {
   "cell_type": "code",
   "execution_count": 3,
   "metadata": {
    "colab": {
     "base_uri": "https://localhost:8080/"
    },
    "id": "OG4NwTsncOMN",
    "outputId": "40316d4d-5ab2-4670-d7df-69f133f1efbe"
   },
   "outputs": [
    {
     "name": "stderr",
     "output_type": "stream",
     "text": [
      "/tmp/ipykernel_44450/1671611853.py:1: DtypeWarning: Columns (10) have mixed types. Specify dtype option on import or set low_memory=False.\n",
      "  playlists = pd.read_csv('https://github.com/alcazar90/CC5205-3-proyecto/raw/main/data/2000_spotify_sample.csv.gz')\n"
     ]
    }
   ],
   "source": [
    "playlists = pd.read_csv('https://github.com/alcazar90/CC5205-3-proyecto/raw/main/data/2000_spotify_sample.csv.gz')"
   ]
  },
  {
   "cell_type": "code",
   "execution_count": 22,
   "metadata": {
    "id": "R9dDAFqbeSlQ",
    "scrolled": true
   },
   "outputs": [
    {
     "data": {
      "text/html": [
       "<div>\n",
       "<style scoped>\n",
       "    .dataframe tbody tr th:only-of-type {\n",
       "        vertical-align: middle;\n",
       "    }\n",
       "\n",
       "    .dataframe tbody tr th {\n",
       "        vertical-align: top;\n",
       "    }\n",
       "\n",
       "    .dataframe thead th {\n",
       "        text-align: right;\n",
       "    }\n",
       "</style>\n",
       "<table border=\"1\" class=\"dataframe\">\n",
       "  <thead>\n",
       "    <tr style=\"text-align: right;\">\n",
       "      <th></th>\n",
       "      <th>audio_features.danceability</th>\n",
       "      <th>audio_features.energy</th>\n",
       "      <th>audio_features.key</th>\n",
       "      <th>audio_features.loudness</th>\n",
       "      <th>audio_features.mode</th>\n",
       "      <th>audio_features.speechiness</th>\n",
       "      <th>audio_features.acousticness</th>\n",
       "      <th>audio_features.instrumentalness</th>\n",
       "      <th>audio_features.liveness</th>\n",
       "      <th>audio_features.valence</th>\n",
       "      <th>audio_features.tempo</th>\n",
       "      <th>audio_features.type</th>\n",
       "      <th>audio_features.id</th>\n",
       "      <th>audio_features.uri</th>\n",
       "      <th>audio_features.track_href</th>\n",
       "      <th>audio_features.analysis_url</th>\n",
       "      <th>audio_features.duration_ms</th>\n",
       "      <th>audio_features.time_signature</th>\n",
       "    </tr>\n",
       "  </thead>\n",
       "  <tbody>\n",
       "    <tr>\n",
       "      <th>0</th>\n",
       "      <td>0.628</td>\n",
       "      <td>0.8700</td>\n",
       "      <td>5</td>\n",
       "      <td>-5.752</td>\n",
       "      <td>0</td>\n",
       "      <td>0.1080</td>\n",
       "      <td>0.01970</td>\n",
       "      <td>0.000000</td>\n",
       "      <td>0.1180</td>\n",
       "      <td>0.8500</td>\n",
       "      <td>170.686</td>\n",
       "      <td>audio_features</td>\n",
       "      <td>5QxbGa4K41SPmY8zeyRs67</td>\n",
       "      <td>spotify:track:5QxbGa4K41SPmY8zeyRs67</td>\n",
       "      <td>https://api.spotify.com/v1/tracks/5QxbGa4K41SP...</td>\n",
       "      <td>https://api.spotify.com/v1/audio-analysis/5Qxb...</td>\n",
       "      <td>227747</td>\n",
       "      <td>4</td>\n",
       "    </tr>\n",
       "    <tr>\n",
       "      <th>1</th>\n",
       "      <td>0.303</td>\n",
       "      <td>0.4010</td>\n",
       "      <td>2</td>\n",
       "      <td>-13.932</td>\n",
       "      <td>1</td>\n",
       "      <td>0.0375</td>\n",
       "      <td>0.02280</td>\n",
       "      <td>0.768000</td>\n",
       "      <td>0.1130</td>\n",
       "      <td>0.0974</td>\n",
       "      <td>155.822</td>\n",
       "      <td>audio_features</td>\n",
       "      <td>4y0Lt1KOuyhKGkGKFZjSlS</td>\n",
       "      <td>spotify:track:4y0Lt1KOuyhKGkGKFZjSlS</td>\n",
       "      <td>https://api.spotify.com/v1/tracks/4y0Lt1KOuyhK...</td>\n",
       "      <td>https://api.spotify.com/v1/audio-analysis/4y0L...</td>\n",
       "      <td>205333</td>\n",
       "      <td>4</td>\n",
       "    </tr>\n",
       "    <tr>\n",
       "      <th>2</th>\n",
       "      <td>0.830</td>\n",
       "      <td>0.5080</td>\n",
       "      <td>5</td>\n",
       "      <td>-6.070</td>\n",
       "      <td>1</td>\n",
       "      <td>0.0613</td>\n",
       "      <td>0.02910</td>\n",
       "      <td>0.000000</td>\n",
       "      <td>0.2400</td>\n",
       "      <td>0.7970</td>\n",
       "      <td>95.051</td>\n",
       "      <td>audio_features</td>\n",
       "      <td>265yhmmWClZfBmgNPzwOMP</td>\n",
       "      <td>spotify:track:265yhmmWClZfBmgNPzwOMP</td>\n",
       "      <td>https://api.spotify.com/v1/tracks/265yhmmWClZf...</td>\n",
       "      <td>https://api.spotify.com/v1/audio-analysis/265y...</td>\n",
       "      <td>195740</td>\n",
       "      <td>4</td>\n",
       "    </tr>\n",
       "    <tr>\n",
       "      <th>3</th>\n",
       "      <td>0.907</td>\n",
       "      <td>0.4650</td>\n",
       "      <td>5</td>\n",
       "      <td>-7.123</td>\n",
       "      <td>0</td>\n",
       "      <td>0.2880</td>\n",
       "      <td>0.01750</td>\n",
       "      <td>0.000015</td>\n",
       "      <td>0.1170</td>\n",
       "      <td>0.1880</td>\n",
       "      <td>141.957</td>\n",
       "      <td>audio_features</td>\n",
       "      <td>4ibj6HRTdzkfvlDgxSXxCp</td>\n",
       "      <td>spotify:track:4ibj6HRTdzkfvlDgxSXxCp</td>\n",
       "      <td>https://api.spotify.com/v1/tracks/4ibj6HRTdzkf...</td>\n",
       "      <td>https://api.spotify.com/v1/audio-analysis/4ibj...</td>\n",
       "      <td>211692</td>\n",
       "      <td>4</td>\n",
       "    </tr>\n",
       "    <tr>\n",
       "      <th>4</th>\n",
       "      <td>0.296</td>\n",
       "      <td>0.8520</td>\n",
       "      <td>4</td>\n",
       "      <td>-5.095</td>\n",
       "      <td>1</td>\n",
       "      <td>0.0439</td>\n",
       "      <td>0.00113</td>\n",
       "      <td>0.678000</td>\n",
       "      <td>0.1410</td>\n",
       "      <td>0.5840</td>\n",
       "      <td>160.119</td>\n",
       "      <td>audio_features</td>\n",
       "      <td>6ZJyUCbGB4FFIuI8jiuafp</td>\n",
       "      <td>spotify:track:6ZJyUCbGB4FFIuI8jiuafp</td>\n",
       "      <td>https://api.spotify.com/v1/tracks/6ZJyUCbGB4FF...</td>\n",
       "      <td>https://api.spotify.com/v1/audio-analysis/6ZJy...</td>\n",
       "      <td>307050</td>\n",
       "      <td>4</td>\n",
       "    </tr>\n",
       "    <tr>\n",
       "      <th>...</th>\n",
       "      <td>...</td>\n",
       "      <td>...</td>\n",
       "      <td>...</td>\n",
       "      <td>...</td>\n",
       "      <td>...</td>\n",
       "      <td>...</td>\n",
       "      <td>...</td>\n",
       "      <td>...</td>\n",
       "      <td>...</td>\n",
       "      <td>...</td>\n",
       "      <td>...</td>\n",
       "      <td>...</td>\n",
       "      <td>...</td>\n",
       "      <td>...</td>\n",
       "      <td>...</td>\n",
       "      <td>...</td>\n",
       "      <td>...</td>\n",
       "      <td>...</td>\n",
       "    </tr>\n",
       "    <tr>\n",
       "      <th>57621</th>\n",
       "      <td>0.604</td>\n",
       "      <td>0.2540</td>\n",
       "      <td>0</td>\n",
       "      <td>-12.659</td>\n",
       "      <td>1</td>\n",
       "      <td>0.0263</td>\n",
       "      <td>0.80000</td>\n",
       "      <td>0.045300</td>\n",
       "      <td>0.1200</td>\n",
       "      <td>0.2750</td>\n",
       "      <td>93.869</td>\n",
       "      <td>audio_features</td>\n",
       "      <td>1P4nMPtBDRWoCtycNXe43e</td>\n",
       "      <td>spotify:track:1P4nMPtBDRWoCtycNXe43e</td>\n",
       "      <td>https://api.spotify.com/v1/tracks/1P4nMPtBDRWo...</td>\n",
       "      <td>https://api.spotify.com/v1/audio-analysis/1P4n...</td>\n",
       "      <td>191893</td>\n",
       "      <td>3</td>\n",
       "    </tr>\n",
       "    <tr>\n",
       "      <th>57622</th>\n",
       "      <td>0.168</td>\n",
       "      <td>0.0279</td>\n",
       "      <td>0</td>\n",
       "      <td>-27.720</td>\n",
       "      <td>1</td>\n",
       "      <td>0.0472</td>\n",
       "      <td>0.97100</td>\n",
       "      <td>0.983000</td>\n",
       "      <td>0.0636</td>\n",
       "      <td>0.0339</td>\n",
       "      <td>63.076</td>\n",
       "      <td>audio_features</td>\n",
       "      <td>7aQVdAAfLbrut46qytrex3</td>\n",
       "      <td>spotify:track:7aQVdAAfLbrut46qytrex3</td>\n",
       "      <td>https://api.spotify.com/v1/tracks/7aQVdAAfLbru...</td>\n",
       "      <td>https://api.spotify.com/v1/audio-analysis/7aQV...</td>\n",
       "      <td>135413</td>\n",
       "      <td>4</td>\n",
       "    </tr>\n",
       "    <tr>\n",
       "      <th>57623</th>\n",
       "      <td>0.430</td>\n",
       "      <td>0.4250</td>\n",
       "      <td>2</td>\n",
       "      <td>-8.526</td>\n",
       "      <td>1</td>\n",
       "      <td>0.0307</td>\n",
       "      <td>0.74800</td>\n",
       "      <td>0.000502</td>\n",
       "      <td>0.1590</td>\n",
       "      <td>0.4160</td>\n",
       "      <td>145.230</td>\n",
       "      <td>audio_features</td>\n",
       "      <td>7BDQBKhg7XNX6WcHPZ1a0J</td>\n",
       "      <td>spotify:track:7BDQBKhg7XNX6WcHPZ1a0J</td>\n",
       "      <td>https://api.spotify.com/v1/tracks/7BDQBKhg7XNX...</td>\n",
       "      <td>https://api.spotify.com/v1/audio-analysis/7BDQ...</td>\n",
       "      <td>246173</td>\n",
       "      <td>4</td>\n",
       "    </tr>\n",
       "    <tr>\n",
       "      <th>57624</th>\n",
       "      <td>0.150</td>\n",
       "      <td>0.0554</td>\n",
       "      <td>4</td>\n",
       "      <td>-21.015</td>\n",
       "      <td>1</td>\n",
       "      <td>0.0417</td>\n",
       "      <td>0.86700</td>\n",
       "      <td>0.942000</td>\n",
       "      <td>0.1080</td>\n",
       "      <td>0.0325</td>\n",
       "      <td>138.057</td>\n",
       "      <td>audio_features</td>\n",
       "      <td>0WQ6xcKJJf8Jg9DxroD73U</td>\n",
       "      <td>spotify:track:0WQ6xcKJJf8Jg9DxroD73U</td>\n",
       "      <td>https://api.spotify.com/v1/tracks/0WQ6xcKJJf8J...</td>\n",
       "      <td>https://api.spotify.com/v1/audio-analysis/0WQ6...</td>\n",
       "      <td>228733</td>\n",
       "      <td>4</td>\n",
       "    </tr>\n",
       "    <tr>\n",
       "      <th>57625</th>\n",
       "      <td>0.707</td>\n",
       "      <td>0.7140</td>\n",
       "      <td>2</td>\n",
       "      <td>-6.542</td>\n",
       "      <td>0</td>\n",
       "      <td>0.0814</td>\n",
       "      <td>0.32800</td>\n",
       "      <td>0.000000</td>\n",
       "      <td>0.1570</td>\n",
       "      <td>0.3460</td>\n",
       "      <td>108.100</td>\n",
       "      <td>audio_features</td>\n",
       "      <td>7DrfGD4NPjngZAvsKBS4tC</td>\n",
       "      <td>spotify:track:7DrfGD4NPjngZAvsKBS4tC</td>\n",
       "      <td>https://api.spotify.com/v1/tracks/7DrfGD4NPjng...</td>\n",
       "      <td>https://api.spotify.com/v1/audio-analysis/7Drf...</td>\n",
       "      <td>201080</td>\n",
       "      <td>4</td>\n",
       "    </tr>\n",
       "  </tbody>\n",
       "</table>\n",
       "<p>57626 rows × 18 columns</p>\n",
       "</div>"
      ],
      "text/plain": [
       "       audio_features.danceability  audio_features.energy  audio_features.key  \\\n",
       "0                            0.628                 0.8700                   5   \n",
       "1                            0.303                 0.4010                   2   \n",
       "2                            0.830                 0.5080                   5   \n",
       "3                            0.907                 0.4650                   5   \n",
       "4                            0.296                 0.8520                   4   \n",
       "...                            ...                    ...                 ...   \n",
       "57621                        0.604                 0.2540                   0   \n",
       "57622                        0.168                 0.0279                   0   \n",
       "57623                        0.430                 0.4250                   2   \n",
       "57624                        0.150                 0.0554                   4   \n",
       "57625                        0.707                 0.7140                   2   \n",
       "\n",
       "       audio_features.loudness  audio_features.mode  \\\n",
       "0                       -5.752                    0   \n",
       "1                      -13.932                    1   \n",
       "2                       -6.070                    1   \n",
       "3                       -7.123                    0   \n",
       "4                       -5.095                    1   \n",
       "...                        ...                  ...   \n",
       "57621                  -12.659                    1   \n",
       "57622                  -27.720                    1   \n",
       "57623                   -8.526                    1   \n",
       "57624                  -21.015                    1   \n",
       "57625                   -6.542                    0   \n",
       "\n",
       "       audio_features.speechiness  audio_features.acousticness  \\\n",
       "0                          0.1080                      0.01970   \n",
       "1                          0.0375                      0.02280   \n",
       "2                          0.0613                      0.02910   \n",
       "3                          0.2880                      0.01750   \n",
       "4                          0.0439                      0.00113   \n",
       "...                           ...                          ...   \n",
       "57621                      0.0263                      0.80000   \n",
       "57622                      0.0472                      0.97100   \n",
       "57623                      0.0307                      0.74800   \n",
       "57624                      0.0417                      0.86700   \n",
       "57625                      0.0814                      0.32800   \n",
       "\n",
       "       audio_features.instrumentalness  audio_features.liveness  \\\n",
       "0                             0.000000                   0.1180   \n",
       "1                             0.768000                   0.1130   \n",
       "2                             0.000000                   0.2400   \n",
       "3                             0.000015                   0.1170   \n",
       "4                             0.678000                   0.1410   \n",
       "...                                ...                      ...   \n",
       "57621                         0.045300                   0.1200   \n",
       "57622                         0.983000                   0.0636   \n",
       "57623                         0.000502                   0.1590   \n",
       "57624                         0.942000                   0.1080   \n",
       "57625                         0.000000                   0.1570   \n",
       "\n",
       "       audio_features.valence  audio_features.tempo audio_features.type  \\\n",
       "0                      0.8500               170.686      audio_features   \n",
       "1                      0.0974               155.822      audio_features   \n",
       "2                      0.7970                95.051      audio_features   \n",
       "3                      0.1880               141.957      audio_features   \n",
       "4                      0.5840               160.119      audio_features   \n",
       "...                       ...                   ...                 ...   \n",
       "57621                  0.2750                93.869      audio_features   \n",
       "57622                  0.0339                63.076      audio_features   \n",
       "57623                  0.4160               145.230      audio_features   \n",
       "57624                  0.0325               138.057      audio_features   \n",
       "57625                  0.3460               108.100      audio_features   \n",
       "\n",
       "            audio_features.id                    audio_features.uri  \\\n",
       "0      5QxbGa4K41SPmY8zeyRs67  spotify:track:5QxbGa4K41SPmY8zeyRs67   \n",
       "1      4y0Lt1KOuyhKGkGKFZjSlS  spotify:track:4y0Lt1KOuyhKGkGKFZjSlS   \n",
       "2      265yhmmWClZfBmgNPzwOMP  spotify:track:265yhmmWClZfBmgNPzwOMP   \n",
       "3      4ibj6HRTdzkfvlDgxSXxCp  spotify:track:4ibj6HRTdzkfvlDgxSXxCp   \n",
       "4      6ZJyUCbGB4FFIuI8jiuafp  spotify:track:6ZJyUCbGB4FFIuI8jiuafp   \n",
       "...                       ...                                   ...   \n",
       "57621  1P4nMPtBDRWoCtycNXe43e  spotify:track:1P4nMPtBDRWoCtycNXe43e   \n",
       "57622  7aQVdAAfLbrut46qytrex3  spotify:track:7aQVdAAfLbrut46qytrex3   \n",
       "57623  7BDQBKhg7XNX6WcHPZ1a0J  spotify:track:7BDQBKhg7XNX6WcHPZ1a0J   \n",
       "57624  0WQ6xcKJJf8Jg9DxroD73U  spotify:track:0WQ6xcKJJf8Jg9DxroD73U   \n",
       "57625  7DrfGD4NPjngZAvsKBS4tC  spotify:track:7DrfGD4NPjngZAvsKBS4tC   \n",
       "\n",
       "                               audio_features.track_href  \\\n",
       "0      https://api.spotify.com/v1/tracks/5QxbGa4K41SP...   \n",
       "1      https://api.spotify.com/v1/tracks/4y0Lt1KOuyhK...   \n",
       "2      https://api.spotify.com/v1/tracks/265yhmmWClZf...   \n",
       "3      https://api.spotify.com/v1/tracks/4ibj6HRTdzkf...   \n",
       "4      https://api.spotify.com/v1/tracks/6ZJyUCbGB4FF...   \n",
       "...                                                  ...   \n",
       "57621  https://api.spotify.com/v1/tracks/1P4nMPtBDRWo...   \n",
       "57622  https://api.spotify.com/v1/tracks/7aQVdAAfLbru...   \n",
       "57623  https://api.spotify.com/v1/tracks/7BDQBKhg7XNX...   \n",
       "57624  https://api.spotify.com/v1/tracks/0WQ6xcKJJf8J...   \n",
       "57625  https://api.spotify.com/v1/tracks/7DrfGD4NPjng...   \n",
       "\n",
       "                             audio_features.analysis_url  \\\n",
       "0      https://api.spotify.com/v1/audio-analysis/5Qxb...   \n",
       "1      https://api.spotify.com/v1/audio-analysis/4y0L...   \n",
       "2      https://api.spotify.com/v1/audio-analysis/265y...   \n",
       "3      https://api.spotify.com/v1/audio-analysis/4ibj...   \n",
       "4      https://api.spotify.com/v1/audio-analysis/6ZJy...   \n",
       "...                                                  ...   \n",
       "57621  https://api.spotify.com/v1/audio-analysis/1P4n...   \n",
       "57622  https://api.spotify.com/v1/audio-analysis/7aQV...   \n",
       "57623  https://api.spotify.com/v1/audio-analysis/7BDQ...   \n",
       "57624  https://api.spotify.com/v1/audio-analysis/0WQ6...   \n",
       "57625  https://api.spotify.com/v1/audio-analysis/7Drf...   \n",
       "\n",
       "       audio_features.duration_ms  audio_features.time_signature  \n",
       "0                          227747                              4  \n",
       "1                          205333                              4  \n",
       "2                          195740                              4  \n",
       "3                          211692                              4  \n",
       "4                          307050                              4  \n",
       "...                           ...                            ...  \n",
       "57621                      191893                              3  \n",
       "57622                      135413                              4  \n",
       "57623                      246173                              4  \n",
       "57624                      228733                              4  \n",
       "57625                      201080                              4  \n",
       "\n",
       "[57626 rows x 18 columns]"
      ]
     },
     "execution_count": 22,
     "metadata": {},
     "output_type": "execute_result"
    }
   ],
   "source": [
    "track_info = pd.read_csv('https://github.com/alcazar90/CC5205-3-proyecto/raw/main/data/tracks_features/2000_tracks_sample.csv.gz')\n",
    "#tracks = pd.concat([pd.DataFrame(row, index=[0]) for row in track_info])\n",
    "track_info"
   ]
  },
  {
   "cell_type": "code",
   "execution_count": 25,
   "metadata": {},
   "outputs": [],
   "source": [
    "track_info.columns = [x.replace('audio_features.', '') for x in track_info.columns]"
   ]
  },
  {
   "cell_type": "code",
   "execution_count": 26,
   "metadata": {},
   "outputs": [],
   "source": [
    "# Se obtiene la tabla artista.\n",
    "artist_info = pd.read_csv('https://github.com/alcazar90/CC5205-3-proyecto/raw/main/data/artist/2000_artist_sample.csv.gz')"
   ]
  },
  {
   "cell_type": "code",
   "execution_count": 27,
   "metadata": {
    "colab": {
     "base_uri": "https://localhost:8080/",
     "height": 357
    },
    "id": "aqqQOk2pkmQP",
    "outputId": "56a0c1b9-7419-4e57-e4dc-2ae8570f59e6"
   },
   "outputs": [
    {
     "data": {
      "text/html": [
       "<div>\n",
       "<style scoped>\n",
       "    .dataframe tbody tr th:only-of-type {\n",
       "        vertical-align: middle;\n",
       "    }\n",
       "\n",
       "    .dataframe tbody tr th {\n",
       "        vertical-align: top;\n",
       "    }\n",
       "\n",
       "    .dataframe thead th {\n",
       "        text-align: right;\n",
       "    }\n",
       "</style>\n",
       "<table border=\"1\" class=\"dataframe\">\n",
       "  <thead>\n",
       "    <tr style=\"text-align: right;\">\n",
       "      <th></th>\n",
       "      <th>name</th>\n",
       "      <th>collaborative</th>\n",
       "      <th>pid</th>\n",
       "      <th>modified_at</th>\n",
       "      <th>num_tracks</th>\n",
       "      <th>num_albums</th>\n",
       "      <th>num_followers</th>\n",
       "      <th>num_edits</th>\n",
       "      <th>duration_ms</th>\n",
       "      <th>num_artists</th>\n",
       "      <th>description</th>\n",
       "      <th>pos</th>\n",
       "      <th>artist_name</th>\n",
       "      <th>track_uri</th>\n",
       "      <th>artist_uri</th>\n",
       "      <th>track_name</th>\n",
       "      <th>album_uri</th>\n",
       "      <th>album_name</th>\n",
       "    </tr>\n",
       "  </thead>\n",
       "  <tbody>\n",
       "    <tr>\n",
       "      <th>0</th>\n",
       "      <td>music</td>\n",
       "      <td>False</td>\n",
       "      <td>521</td>\n",
       "      <td>1506643200</td>\n",
       "      <td>127</td>\n",
       "      <td>108</td>\n",
       "      <td>1</td>\n",
       "      <td>45</td>\n",
       "      <td>219480</td>\n",
       "      <td>85</td>\n",
       "      <td>NaN</td>\n",
       "      <td>0.0</td>\n",
       "      <td>Charli XCX</td>\n",
       "      <td>spotify:track:0y8Wf6ltWpGCpgqVa21QNX</td>\n",
       "      <td>spotify:artist:25uiPmTg16RbhZWAqwLBy5</td>\n",
       "      <td>After The Afterparty (feat. Lil Yachty)</td>\n",
       "      <td>spotify:album:4Txd0wc4WAgnoxXx0SLAlw</td>\n",
       "      <td>After The Afterparty (feat. Lil Yachty)</td>\n",
       "    </tr>\n",
       "    <tr>\n",
       "      <th>1</th>\n",
       "      <td>music</td>\n",
       "      <td>False</td>\n",
       "      <td>521</td>\n",
       "      <td>1506643200</td>\n",
       "      <td>127</td>\n",
       "      <td>108</td>\n",
       "      <td>1</td>\n",
       "      <td>45</td>\n",
       "      <td>247160</td>\n",
       "      <td>85</td>\n",
       "      <td>NaN</td>\n",
       "      <td>1.0</td>\n",
       "      <td>The Chainsmokers</td>\n",
       "      <td>spotify:track:6RUKPb4LETWmmr3iAEQktW</td>\n",
       "      <td>spotify:artist:69GGBxA162lTqCwzJG5jLp</td>\n",
       "      <td>Something Just Like This</td>\n",
       "      <td>spotify:album:4JPguzRps3kuWDD5GS6oXr</td>\n",
       "      <td>Memories...Do Not Open</td>\n",
       "    </tr>\n",
       "    <tr>\n",
       "      <th>2</th>\n",
       "      <td>music</td>\n",
       "      <td>False</td>\n",
       "      <td>521</td>\n",
       "      <td>1506643200</td>\n",
       "      <td>127</td>\n",
       "      <td>108</td>\n",
       "      <td>1</td>\n",
       "      <td>45</td>\n",
       "      <td>223846</td>\n",
       "      <td>85</td>\n",
       "      <td>NaN</td>\n",
       "      <td>2.0</td>\n",
       "      <td>MAX</td>\n",
       "      <td>spotify:track:1sYSP7gKa5kdKIfhANfori</td>\n",
       "      <td>spotify:artist:1bqxdqvUtPWZri43cKHac8</td>\n",
       "      <td>Lights Down Low</td>\n",
       "      <td>spotify:album:2qmysBdftCYXRjYHTVK3qo</td>\n",
       "      <td>Hell's Kitchen Angel</td>\n",
       "    </tr>\n",
       "    <tr>\n",
       "      <th>3</th>\n",
       "      <td>music</td>\n",
       "      <td>False</td>\n",
       "      <td>521</td>\n",
       "      <td>1506643200</td>\n",
       "      <td>127</td>\n",
       "      <td>108</td>\n",
       "      <td>1</td>\n",
       "      <td>45</td>\n",
       "      <td>220293</td>\n",
       "      <td>85</td>\n",
       "      <td>NaN</td>\n",
       "      <td>3.0</td>\n",
       "      <td>Post Malone</td>\n",
       "      <td>spotify:track:3a1lNhkSLSkpJE4MSHpDu9</td>\n",
       "      <td>spotify:artist:246dkjvS1zLTtiykXe5h60</td>\n",
       "      <td>Congratulations</td>\n",
       "      <td>spotify:album:5s0rmjP8XOPhP6HhqOhuyC</td>\n",
       "      <td>Stoney</td>\n",
       "    </tr>\n",
       "    <tr>\n",
       "      <th>4</th>\n",
       "      <td>music</td>\n",
       "      <td>False</td>\n",
       "      <td>521</td>\n",
       "      <td>1506643200</td>\n",
       "      <td>127</td>\n",
       "      <td>108</td>\n",
       "      <td>1</td>\n",
       "      <td>45</td>\n",
       "      <td>201160</td>\n",
       "      <td>85</td>\n",
       "      <td>NaN</td>\n",
       "      <td>4.0</td>\n",
       "      <td>AJR</td>\n",
       "      <td>spotify:track:3E2Zh20GDCR9B1EYjfXWyv</td>\n",
       "      <td>spotify:artist:6s22t5Y3prQHyaHWUN1R1C</td>\n",
       "      <td>Weak</td>\n",
       "      <td>spotify:album:7LACXphpLTluKLFqHIZ1Qq</td>\n",
       "      <td>The Click</td>\n",
       "    </tr>\n",
       "  </tbody>\n",
       "</table>\n",
       "</div>"
      ],
      "text/plain": [
       "    name  collaborative  pid  modified_at  num_tracks  num_albums  \\\n",
       "0  music          False  521   1506643200         127         108   \n",
       "1  music          False  521   1506643200         127         108   \n",
       "2  music          False  521   1506643200         127         108   \n",
       "3  music          False  521   1506643200         127         108   \n",
       "4  music          False  521   1506643200         127         108   \n",
       "\n",
       "   num_followers  num_edits  duration_ms  num_artists description  pos  \\\n",
       "0              1         45       219480           85         NaN  0.0   \n",
       "1              1         45       247160           85         NaN  1.0   \n",
       "2              1         45       223846           85         NaN  2.0   \n",
       "3              1         45       220293           85         NaN  3.0   \n",
       "4              1         45       201160           85         NaN  4.0   \n",
       "\n",
       "        artist_name                             track_uri  \\\n",
       "0        Charli XCX  spotify:track:0y8Wf6ltWpGCpgqVa21QNX   \n",
       "1  The Chainsmokers  spotify:track:6RUKPb4LETWmmr3iAEQktW   \n",
       "2               MAX  spotify:track:1sYSP7gKa5kdKIfhANfori   \n",
       "3       Post Malone  spotify:track:3a1lNhkSLSkpJE4MSHpDu9   \n",
       "4               AJR  spotify:track:3E2Zh20GDCR9B1EYjfXWyv   \n",
       "\n",
       "                              artist_uri  \\\n",
       "0  spotify:artist:25uiPmTg16RbhZWAqwLBy5   \n",
       "1  spotify:artist:69GGBxA162lTqCwzJG5jLp   \n",
       "2  spotify:artist:1bqxdqvUtPWZri43cKHac8   \n",
       "3  spotify:artist:246dkjvS1zLTtiykXe5h60   \n",
       "4  spotify:artist:6s22t5Y3prQHyaHWUN1R1C   \n",
       "\n",
       "                                track_name  \\\n",
       "0  After The Afterparty (feat. Lil Yachty)   \n",
       "1                 Something Just Like This   \n",
       "2                          Lights Down Low   \n",
       "3                          Congratulations   \n",
       "4                                     Weak   \n",
       "\n",
       "                              album_uri  \\\n",
       "0  spotify:album:4Txd0wc4WAgnoxXx0SLAlw   \n",
       "1  spotify:album:4JPguzRps3kuWDD5GS6oXr   \n",
       "2  spotify:album:2qmysBdftCYXRjYHTVK3qo   \n",
       "3  spotify:album:5s0rmjP8XOPhP6HhqOhuyC   \n",
       "4  spotify:album:7LACXphpLTluKLFqHIZ1Qq   \n",
       "\n",
       "                                album_name  \n",
       "0  After The Afterparty (feat. Lil Yachty)  \n",
       "1                   Memories...Do Not Open  \n",
       "2                     Hell's Kitchen Angel  \n",
       "3                                   Stoney  \n",
       "4                                The Click  "
      ]
     },
     "execution_count": 27,
     "metadata": {},
     "output_type": "execute_result"
    }
   ],
   "source": [
    "playlists.head()"
   ]
  },
  {
   "cell_type": "code",
   "execution_count": 28,
   "metadata": {
    "colab": {
     "base_uri": "https://localhost:8080/",
     "height": 444
    },
    "id": "jDO0oDbuf34Z",
    "outputId": "3e95194e-0531-4702-8130-4bf694611817"
   },
   "outputs": [
    {
     "data": {
      "text/html": [
       "<div>\n",
       "<style scoped>\n",
       "    .dataframe tbody tr th:only-of-type {\n",
       "        vertical-align: middle;\n",
       "    }\n",
       "\n",
       "    .dataframe tbody tr th {\n",
       "        vertical-align: top;\n",
       "    }\n",
       "\n",
       "    .dataframe thead th {\n",
       "        text-align: right;\n",
       "    }\n",
       "</style>\n",
       "<table border=\"1\" class=\"dataframe\">\n",
       "  <thead>\n",
       "    <tr style=\"text-align: right;\">\n",
       "      <th></th>\n",
       "      <th>danceability</th>\n",
       "      <th>energy</th>\n",
       "      <th>key</th>\n",
       "      <th>loudness</th>\n",
       "      <th>mode</th>\n",
       "      <th>speechiness</th>\n",
       "      <th>acousticness</th>\n",
       "      <th>instrumentalness</th>\n",
       "      <th>liveness</th>\n",
       "      <th>valence</th>\n",
       "      <th>tempo</th>\n",
       "      <th>type</th>\n",
       "      <th>id</th>\n",
       "      <th>uri</th>\n",
       "      <th>track_href</th>\n",
       "      <th>analysis_url</th>\n",
       "      <th>duration_ms</th>\n",
       "      <th>time_signature</th>\n",
       "    </tr>\n",
       "  </thead>\n",
       "  <tbody>\n",
       "    <tr>\n",
       "      <th>0</th>\n",
       "      <td>0.628</td>\n",
       "      <td>0.870</td>\n",
       "      <td>5</td>\n",
       "      <td>-5.752</td>\n",
       "      <td>0</td>\n",
       "      <td>0.1080</td>\n",
       "      <td>0.01970</td>\n",
       "      <td>0.000000</td>\n",
       "      <td>0.118</td>\n",
       "      <td>0.8500</td>\n",
       "      <td>170.686</td>\n",
       "      <td>audio_features</td>\n",
       "      <td>5QxbGa4K41SPmY8zeyRs67</td>\n",
       "      <td>spotify:track:5QxbGa4K41SPmY8zeyRs67</td>\n",
       "      <td>https://api.spotify.com/v1/tracks/5QxbGa4K41SP...</td>\n",
       "      <td>https://api.spotify.com/v1/audio-analysis/5Qxb...</td>\n",
       "      <td>227747</td>\n",
       "      <td>4</td>\n",
       "    </tr>\n",
       "    <tr>\n",
       "      <th>1</th>\n",
       "      <td>0.303</td>\n",
       "      <td>0.401</td>\n",
       "      <td>2</td>\n",
       "      <td>-13.932</td>\n",
       "      <td>1</td>\n",
       "      <td>0.0375</td>\n",
       "      <td>0.02280</td>\n",
       "      <td>0.768000</td>\n",
       "      <td>0.113</td>\n",
       "      <td>0.0974</td>\n",
       "      <td>155.822</td>\n",
       "      <td>audio_features</td>\n",
       "      <td>4y0Lt1KOuyhKGkGKFZjSlS</td>\n",
       "      <td>spotify:track:4y0Lt1KOuyhKGkGKFZjSlS</td>\n",
       "      <td>https://api.spotify.com/v1/tracks/4y0Lt1KOuyhK...</td>\n",
       "      <td>https://api.spotify.com/v1/audio-analysis/4y0L...</td>\n",
       "      <td>205333</td>\n",
       "      <td>4</td>\n",
       "    </tr>\n",
       "    <tr>\n",
       "      <th>2</th>\n",
       "      <td>0.830</td>\n",
       "      <td>0.508</td>\n",
       "      <td>5</td>\n",
       "      <td>-6.070</td>\n",
       "      <td>1</td>\n",
       "      <td>0.0613</td>\n",
       "      <td>0.02910</td>\n",
       "      <td>0.000000</td>\n",
       "      <td>0.240</td>\n",
       "      <td>0.7970</td>\n",
       "      <td>95.051</td>\n",
       "      <td>audio_features</td>\n",
       "      <td>265yhmmWClZfBmgNPzwOMP</td>\n",
       "      <td>spotify:track:265yhmmWClZfBmgNPzwOMP</td>\n",
       "      <td>https://api.spotify.com/v1/tracks/265yhmmWClZf...</td>\n",
       "      <td>https://api.spotify.com/v1/audio-analysis/265y...</td>\n",
       "      <td>195740</td>\n",
       "      <td>4</td>\n",
       "    </tr>\n",
       "    <tr>\n",
       "      <th>3</th>\n",
       "      <td>0.907</td>\n",
       "      <td>0.465</td>\n",
       "      <td>5</td>\n",
       "      <td>-7.123</td>\n",
       "      <td>0</td>\n",
       "      <td>0.2880</td>\n",
       "      <td>0.01750</td>\n",
       "      <td>0.000015</td>\n",
       "      <td>0.117</td>\n",
       "      <td>0.1880</td>\n",
       "      <td>141.957</td>\n",
       "      <td>audio_features</td>\n",
       "      <td>4ibj6HRTdzkfvlDgxSXxCp</td>\n",
       "      <td>spotify:track:4ibj6HRTdzkfvlDgxSXxCp</td>\n",
       "      <td>https://api.spotify.com/v1/tracks/4ibj6HRTdzkf...</td>\n",
       "      <td>https://api.spotify.com/v1/audio-analysis/4ibj...</td>\n",
       "      <td>211692</td>\n",
       "      <td>4</td>\n",
       "    </tr>\n",
       "    <tr>\n",
       "      <th>4</th>\n",
       "      <td>0.296</td>\n",
       "      <td>0.852</td>\n",
       "      <td>4</td>\n",
       "      <td>-5.095</td>\n",
       "      <td>1</td>\n",
       "      <td>0.0439</td>\n",
       "      <td>0.00113</td>\n",
       "      <td>0.678000</td>\n",
       "      <td>0.141</td>\n",
       "      <td>0.5840</td>\n",
       "      <td>160.119</td>\n",
       "      <td>audio_features</td>\n",
       "      <td>6ZJyUCbGB4FFIuI8jiuafp</td>\n",
       "      <td>spotify:track:6ZJyUCbGB4FFIuI8jiuafp</td>\n",
       "      <td>https://api.spotify.com/v1/tracks/6ZJyUCbGB4FF...</td>\n",
       "      <td>https://api.spotify.com/v1/audio-analysis/6ZJy...</td>\n",
       "      <td>307050</td>\n",
       "      <td>4</td>\n",
       "    </tr>\n",
       "  </tbody>\n",
       "</table>\n",
       "</div>"
      ],
      "text/plain": [
       "   danceability  energy  key  loudness  mode  speechiness  acousticness  \\\n",
       "0         0.628   0.870    5    -5.752     0       0.1080       0.01970   \n",
       "1         0.303   0.401    2   -13.932     1       0.0375       0.02280   \n",
       "2         0.830   0.508    5    -6.070     1       0.0613       0.02910   \n",
       "3         0.907   0.465    5    -7.123     0       0.2880       0.01750   \n",
       "4         0.296   0.852    4    -5.095     1       0.0439       0.00113   \n",
       "\n",
       "   instrumentalness  liveness  valence    tempo            type  \\\n",
       "0          0.000000     0.118   0.8500  170.686  audio_features   \n",
       "1          0.768000     0.113   0.0974  155.822  audio_features   \n",
       "2          0.000000     0.240   0.7970   95.051  audio_features   \n",
       "3          0.000015     0.117   0.1880  141.957  audio_features   \n",
       "4          0.678000     0.141   0.5840  160.119  audio_features   \n",
       "\n",
       "                       id                                   uri  \\\n",
       "0  5QxbGa4K41SPmY8zeyRs67  spotify:track:5QxbGa4K41SPmY8zeyRs67   \n",
       "1  4y0Lt1KOuyhKGkGKFZjSlS  spotify:track:4y0Lt1KOuyhKGkGKFZjSlS   \n",
       "2  265yhmmWClZfBmgNPzwOMP  spotify:track:265yhmmWClZfBmgNPzwOMP   \n",
       "3  4ibj6HRTdzkfvlDgxSXxCp  spotify:track:4ibj6HRTdzkfvlDgxSXxCp   \n",
       "4  6ZJyUCbGB4FFIuI8jiuafp  spotify:track:6ZJyUCbGB4FFIuI8jiuafp   \n",
       "\n",
       "                                          track_href  \\\n",
       "0  https://api.spotify.com/v1/tracks/5QxbGa4K41SP...   \n",
       "1  https://api.spotify.com/v1/tracks/4y0Lt1KOuyhK...   \n",
       "2  https://api.spotify.com/v1/tracks/265yhmmWClZf...   \n",
       "3  https://api.spotify.com/v1/tracks/4ibj6HRTdzkf...   \n",
       "4  https://api.spotify.com/v1/tracks/6ZJyUCbGB4FF...   \n",
       "\n",
       "                                        analysis_url  duration_ms  \\\n",
       "0  https://api.spotify.com/v1/audio-analysis/5Qxb...       227747   \n",
       "1  https://api.spotify.com/v1/audio-analysis/4y0L...       205333   \n",
       "2  https://api.spotify.com/v1/audio-analysis/265y...       195740   \n",
       "3  https://api.spotify.com/v1/audio-analysis/4ibj...       211692   \n",
       "4  https://api.spotify.com/v1/audio-analysis/6ZJy...       307050   \n",
       "\n",
       "   time_signature  \n",
       "0               4  \n",
       "1               4  \n",
       "2               4  \n",
       "3               4  \n",
       "4               4  "
      ]
     },
     "execution_count": 28,
     "metadata": {},
     "output_type": "execute_result"
    }
   ],
   "source": [
    "track_info.head()"
   ]
  },
  {
   "cell_type": "code",
   "execution_count": 29,
   "metadata": {},
   "outputs": [
    {
     "data": {
      "text/html": [
       "<div>\n",
       "<style scoped>\n",
       "    .dataframe tbody tr th:only-of-type {\n",
       "        vertical-align: middle;\n",
       "    }\n",
       "\n",
       "    .dataframe tbody tr th {\n",
       "        vertical-align: top;\n",
       "    }\n",
       "\n",
       "    .dataframe thead th {\n",
       "        text-align: right;\n",
       "    }\n",
       "</style>\n",
       "<table border=\"1\" class=\"dataframe\">\n",
       "  <thead>\n",
       "    <tr style=\"text-align: right;\">\n",
       "      <th></th>\n",
       "      <th>index</th>\n",
       "      <th>artists.external_urls.spotify</th>\n",
       "      <th>artists.followers.href</th>\n",
       "      <th>artists.followers.total</th>\n",
       "      <th>artists.genres</th>\n",
       "      <th>artists.href</th>\n",
       "      <th>artists.id</th>\n",
       "      <th>artists.images</th>\n",
       "      <th>artists.name</th>\n",
       "      <th>artists.popularity</th>\n",
       "      <th>artists.type</th>\n",
       "      <th>artists.uri</th>\n",
       "    </tr>\n",
       "  </thead>\n",
       "  <tbody>\n",
       "    <tr>\n",
       "      <th>0</th>\n",
       "      <td>0</td>\n",
       "      <td>https://open.spotify.com/artist/2k5tpM7WrvCytp...</td>\n",
       "      <td>NaN</td>\n",
       "      <td>9220</td>\n",
       "      <td>['boogaloo']</td>\n",
       "      <td>https://api.spotify.com/v1/artists/2k5tpM7WrvC...</td>\n",
       "      <td>2k5tpM7WrvCytpVWO8XTjU</td>\n",
       "      <td>[{'height': 640, 'url': 'https://i.scdn.co/ima...</td>\n",
       "      <td>Boogaloo Assassins</td>\n",
       "      <td>32</td>\n",
       "      <td>artist</td>\n",
       "      <td>spotify:artist:2k5tpM7WrvCytpVWO8XTjU</td>\n",
       "    </tr>\n",
       "    <tr>\n",
       "      <th>1</th>\n",
       "      <td>0</td>\n",
       "      <td>https://open.spotify.com/artist/0ffXAvDlWnqwic...</td>\n",
       "      <td>NaN</td>\n",
       "      <td>25229</td>\n",
       "      <td>['latin jazz', 'mambo', 'salsa', 'tropical']</td>\n",
       "      <td>https://api.spotify.com/v1/artists/0ffXAvDlWnq...</td>\n",
       "      <td>0ffXAvDlWnqwiciaBFek6V</td>\n",
       "      <td>[{'height': 396, 'url': 'https://i.scdn.co/ima...</td>\n",
       "      <td>Africando</td>\n",
       "      <td>40</td>\n",
       "      <td>artist</td>\n",
       "      <td>spotify:artist:0ffXAvDlWnqwiciaBFek6V</td>\n",
       "    </tr>\n",
       "    <tr>\n",
       "      <th>2</th>\n",
       "      <td>0</td>\n",
       "      <td>https://open.spotify.com/artist/1qNctKAgK8LDV3...</td>\n",
       "      <td>NaN</td>\n",
       "      <td>64244</td>\n",
       "      <td>['latin jazz', 'salsa', 'salsa international']</td>\n",
       "      <td>https://api.spotify.com/v1/artists/1qNctKAgK8L...</td>\n",
       "      <td>1qNctKAgK8LDV3agmP8ukS</td>\n",
       "      <td>[{'height': 640, 'url': 'https://i.scdn.co/ima...</td>\n",
       "      <td>Charlie Palmieri</td>\n",
       "      <td>33</td>\n",
       "      <td>artist</td>\n",
       "      <td>spotify:artist:1qNctKAgK8LDV3agmP8ukS</td>\n",
       "    </tr>\n",
       "    <tr>\n",
       "      <th>3</th>\n",
       "      <td>0</td>\n",
       "      <td>https://open.spotify.com/artist/7wIvJyLDNfkgdK...</td>\n",
       "      <td>NaN</td>\n",
       "      <td>47722</td>\n",
       "      <td>['afro-cuban percussion', 'latin jazz', 'salsa']</td>\n",
       "      <td>https://api.spotify.com/v1/artists/7wIvJyLDNfk...</td>\n",
       "      <td>7wIvJyLDNfkgdKFVxJl5tL</td>\n",
       "      <td>[{'height': 640, 'url': 'https://i.scdn.co/ima...</td>\n",
       "      <td>Poncho Sanchez</td>\n",
       "      <td>45</td>\n",
       "      <td>artist</td>\n",
       "      <td>spotify:artist:7wIvJyLDNfkgdKFVxJl5tL</td>\n",
       "    </tr>\n",
       "    <tr>\n",
       "      <th>4</th>\n",
       "      <td>0</td>\n",
       "      <td>https://open.spotify.com/artist/7fvEDuYk5vkKKZ...</td>\n",
       "      <td>NaN</td>\n",
       "      <td>141966</td>\n",
       "      <td>['dominican pop', 'latin', 'merengue', 'mereng...</td>\n",
       "      <td>https://api.spotify.com/v1/artists/7fvEDuYk5vk...</td>\n",
       "      <td>7fvEDuYk5vkKKZGpv6Knus</td>\n",
       "      <td>[{'height': 640, 'url': 'https://i.scdn.co/ima...</td>\n",
       "      <td>Johnny Ventura</td>\n",
       "      <td>46</td>\n",
       "      <td>artist</td>\n",
       "      <td>spotify:artist:7fvEDuYk5vkKKZGpv6Knus</td>\n",
       "    </tr>\n",
       "  </tbody>\n",
       "</table>\n",
       "</div>"
      ],
      "text/plain": [
       "   index                      artists.external_urls.spotify  \\\n",
       "0      0  https://open.spotify.com/artist/2k5tpM7WrvCytp...   \n",
       "1      0  https://open.spotify.com/artist/0ffXAvDlWnqwic...   \n",
       "2      0  https://open.spotify.com/artist/1qNctKAgK8LDV3...   \n",
       "3      0  https://open.spotify.com/artist/7wIvJyLDNfkgdK...   \n",
       "4      0  https://open.spotify.com/artist/7fvEDuYk5vkKKZ...   \n",
       "\n",
       "   artists.followers.href  artists.followers.total  \\\n",
       "0                     NaN                     9220   \n",
       "1                     NaN                    25229   \n",
       "2                     NaN                    64244   \n",
       "3                     NaN                    47722   \n",
       "4                     NaN                   141966   \n",
       "\n",
       "                                      artists.genres  \\\n",
       "0                                       ['boogaloo']   \n",
       "1       ['latin jazz', 'mambo', 'salsa', 'tropical']   \n",
       "2     ['latin jazz', 'salsa', 'salsa international']   \n",
       "3   ['afro-cuban percussion', 'latin jazz', 'salsa']   \n",
       "4  ['dominican pop', 'latin', 'merengue', 'mereng...   \n",
       "\n",
       "                                        artists.href              artists.id  \\\n",
       "0  https://api.spotify.com/v1/artists/2k5tpM7WrvC...  2k5tpM7WrvCytpVWO8XTjU   \n",
       "1  https://api.spotify.com/v1/artists/0ffXAvDlWnq...  0ffXAvDlWnqwiciaBFek6V   \n",
       "2  https://api.spotify.com/v1/artists/1qNctKAgK8L...  1qNctKAgK8LDV3agmP8ukS   \n",
       "3  https://api.spotify.com/v1/artists/7wIvJyLDNfk...  7wIvJyLDNfkgdKFVxJl5tL   \n",
       "4  https://api.spotify.com/v1/artists/7fvEDuYk5vk...  7fvEDuYk5vkKKZGpv6Knus   \n",
       "\n",
       "                                      artists.images        artists.name  \\\n",
       "0  [{'height': 640, 'url': 'https://i.scdn.co/ima...  Boogaloo Assassins   \n",
       "1  [{'height': 396, 'url': 'https://i.scdn.co/ima...           Africando   \n",
       "2  [{'height': 640, 'url': 'https://i.scdn.co/ima...    Charlie Palmieri   \n",
       "3  [{'height': 640, 'url': 'https://i.scdn.co/ima...      Poncho Sanchez   \n",
       "4  [{'height': 640, 'url': 'https://i.scdn.co/ima...      Johnny Ventura   \n",
       "\n",
       "   artists.popularity artists.type                            artists.uri  \n",
       "0                  32       artist  spotify:artist:2k5tpM7WrvCytpVWO8XTjU  \n",
       "1                  40       artist  spotify:artist:0ffXAvDlWnqwiciaBFek6V  \n",
       "2                  33       artist  spotify:artist:1qNctKAgK8LDV3agmP8ukS  \n",
       "3                  45       artist  spotify:artist:7wIvJyLDNfkgdKFVxJl5tL  \n",
       "4                  46       artist  spotify:artist:7fvEDuYk5vkKKZGpv6Knus  "
      ]
     },
     "execution_count": 29,
     "metadata": {},
     "output_type": "execute_result"
    }
   ],
   "source": [
    "artist_info.head()"
   ]
  },
  {
   "cell_type": "markdown",
   "metadata": {
    "id": "y32iXvZhlKRl"
   },
   "source": [
    "Inner join entre la tabla `playlists` y `tracks` para anexar los features de \n",
    "las canciones."
   ]
  },
  {
   "cell_type": "code",
   "execution_count": 864,
   "metadata": {
    "id": "UmSpj_EAkiXz"
   },
   "outputs": [],
   "source": [
    "df = playlists.merge(track_info, left_on='track_uri', right_on='uri', how='inner')"
   ]
  },
  {
   "cell_type": "code",
   "execution_count": 868,
   "metadata": {},
   "outputs": [],
   "source": [
    "df = df.loc[df.duration_ms_y < 900000, :]"
   ]
  },
  {
   "cell_type": "code",
   "execution_count": 958,
   "metadata": {},
   "outputs": [
    {
     "data": {
      "text/html": [
       "<div>\n",
       "<style scoped>\n",
       "    .dataframe tbody tr th:only-of-type {\n",
       "        vertical-align: middle;\n",
       "    }\n",
       "\n",
       "    .dataframe tbody tr th {\n",
       "        vertical-align: top;\n",
       "    }\n",
       "\n",
       "    .dataframe thead th {\n",
       "        text-align: right;\n",
       "    }\n",
       "</style>\n",
       "<table border=\"1\" class=\"dataframe\">\n",
       "  <thead>\n",
       "    <tr style=\"text-align: right;\">\n",
       "      <th></th>\n",
       "      <th>name</th>\n",
       "      <th>collaborative</th>\n",
       "      <th>pid</th>\n",
       "      <th>modified_at</th>\n",
       "      <th>num_tracks</th>\n",
       "      <th>num_albums</th>\n",
       "      <th>num_followers</th>\n",
       "      <th>num_edits</th>\n",
       "      <th>duration_ms_x</th>\n",
       "      <th>num_artists</th>\n",
       "      <th>...</th>\n",
       "      <th>liveness</th>\n",
       "      <th>valence</th>\n",
       "      <th>tempo</th>\n",
       "      <th>type</th>\n",
       "      <th>id</th>\n",
       "      <th>uri</th>\n",
       "      <th>track_href</th>\n",
       "      <th>analysis_url</th>\n",
       "      <th>duration_ms_y</th>\n",
       "      <th>time_signature</th>\n",
       "    </tr>\n",
       "  </thead>\n",
       "  <tbody>\n",
       "    <tr>\n",
       "      <th>0</th>\n",
       "      <td>music</td>\n",
       "      <td>False</td>\n",
       "      <td>521</td>\n",
       "      <td>1506643200</td>\n",
       "      <td>127</td>\n",
       "      <td>108</td>\n",
       "      <td>1</td>\n",
       "      <td>45</td>\n",
       "      <td>219480</td>\n",
       "      <td>85</td>\n",
       "      <td>...</td>\n",
       "      <td>0.3650</td>\n",
       "      <td>0.645</td>\n",
       "      <td>93.008</td>\n",
       "      <td>audio_features</td>\n",
       "      <td>0y8Wf6ltWpGCpgqVa21QNX</td>\n",
       "      <td>spotify:track:0y8Wf6ltWpGCpgqVa21QNX</td>\n",
       "      <td>https://api.spotify.com/v1/tracks/0y8Wf6ltWpGC...</td>\n",
       "      <td>https://api.spotify.com/v1/audio-analysis/0y8W...</td>\n",
       "      <td>219480</td>\n",
       "      <td>4</td>\n",
       "    </tr>\n",
       "    <tr>\n",
       "      <th>1</th>\n",
       "      <td>finds</td>\n",
       "      <td>False</td>\n",
       "      <td>535521</td>\n",
       "      <td>1481328000</td>\n",
       "      <td>48</td>\n",
       "      <td>47</td>\n",
       "      <td>1</td>\n",
       "      <td>27</td>\n",
       "      <td>219480</td>\n",
       "      <td>42</td>\n",
       "      <td>...</td>\n",
       "      <td>0.3650</td>\n",
       "      <td>0.645</td>\n",
       "      <td>93.008</td>\n",
       "      <td>audio_features</td>\n",
       "      <td>0y8Wf6ltWpGCpgqVa21QNX</td>\n",
       "      <td>spotify:track:0y8Wf6ltWpGCpgqVa21QNX</td>\n",
       "      <td>https://api.spotify.com/v1/tracks/0y8Wf6ltWpGC...</td>\n",
       "      <td>https://api.spotify.com/v1/audio-analysis/0y8W...</td>\n",
       "      <td>219480</td>\n",
       "      <td>4</td>\n",
       "    </tr>\n",
       "    <tr>\n",
       "      <th>2</th>\n",
       "      <td>Running</td>\n",
       "      <td>False</td>\n",
       "      <td>820737</td>\n",
       "      <td>1506211200</td>\n",
       "      <td>61</td>\n",
       "      <td>52</td>\n",
       "      <td>1</td>\n",
       "      <td>40</td>\n",
       "      <td>219480</td>\n",
       "      <td>40</td>\n",
       "      <td>...</td>\n",
       "      <td>0.3650</td>\n",
       "      <td>0.645</td>\n",
       "      <td>93.008</td>\n",
       "      <td>audio_features</td>\n",
       "      <td>0y8Wf6ltWpGCpgqVa21QNX</td>\n",
       "      <td>spotify:track:0y8Wf6ltWpGCpgqVa21QNX</td>\n",
       "      <td>https://api.spotify.com/v1/tracks/0y8Wf6ltWpGC...</td>\n",
       "      <td>https://api.spotify.com/v1/audio-analysis/0y8W...</td>\n",
       "      <td>219480</td>\n",
       "      <td>4</td>\n",
       "    </tr>\n",
       "    <tr>\n",
       "      <th>3</th>\n",
       "      <td>snowboarding</td>\n",
       "      <td>False</td>\n",
       "      <td>874521</td>\n",
       "      <td>1483056000</td>\n",
       "      <td>93</td>\n",
       "      <td>51</td>\n",
       "      <td>1</td>\n",
       "      <td>2</td>\n",
       "      <td>219480</td>\n",
       "      <td>30</td>\n",
       "      <td>...</td>\n",
       "      <td>0.3650</td>\n",
       "      <td>0.645</td>\n",
       "      <td>93.008</td>\n",
       "      <td>audio_features</td>\n",
       "      <td>0y8Wf6ltWpGCpgqVa21QNX</td>\n",
       "      <td>spotify:track:0y8Wf6ltWpGCpgqVa21QNX</td>\n",
       "      <td>https://api.spotify.com/v1/tracks/0y8Wf6ltWpGC...</td>\n",
       "      <td>https://api.spotify.com/v1/audio-analysis/0y8W...</td>\n",
       "      <td>219480</td>\n",
       "      <td>4</td>\n",
       "    </tr>\n",
       "    <tr>\n",
       "      <th>4</th>\n",
       "      <td>music</td>\n",
       "      <td>False</td>\n",
       "      <td>521</td>\n",
       "      <td>1506643200</td>\n",
       "      <td>127</td>\n",
       "      <td>108</td>\n",
       "      <td>1</td>\n",
       "      <td>45</td>\n",
       "      <td>247160</td>\n",
       "      <td>85</td>\n",
       "      <td>...</td>\n",
       "      <td>0.1640</td>\n",
       "      <td>0.446</td>\n",
       "      <td>103.019</td>\n",
       "      <td>audio_features</td>\n",
       "      <td>6RUKPb4LETWmmr3iAEQktW</td>\n",
       "      <td>spotify:track:6RUKPb4LETWmmr3iAEQktW</td>\n",
       "      <td>https://api.spotify.com/v1/tracks/6RUKPb4LETWm...</td>\n",
       "      <td>https://api.spotify.com/v1/audio-analysis/6RUK...</td>\n",
       "      <td>247160</td>\n",
       "      <td>4</td>\n",
       "    </tr>\n",
       "    <tr>\n",
       "      <th>...</th>\n",
       "      <td>...</td>\n",
       "      <td>...</td>\n",
       "      <td>...</td>\n",
       "      <td>...</td>\n",
       "      <td>...</td>\n",
       "      <td>...</td>\n",
       "      <td>...</td>\n",
       "      <td>...</td>\n",
       "      <td>...</td>\n",
       "      <td>...</td>\n",
       "      <td>...</td>\n",
       "      <td>...</td>\n",
       "      <td>...</td>\n",
       "      <td>...</td>\n",
       "      <td>...</td>\n",
       "      <td>...</td>\n",
       "      <td>...</td>\n",
       "      <td>...</td>\n",
       "      <td>...</td>\n",
       "      <td>...</td>\n",
       "      <td>...</td>\n",
       "    </tr>\n",
       "    <tr>\n",
       "      <th>131675</th>\n",
       "      <td>Spanish songs</td>\n",
       "      <td>False</td>\n",
       "      <td>999521</td>\n",
       "      <td>1508457600</td>\n",
       "      <td>121</td>\n",
       "      <td>92</td>\n",
       "      <td>1</td>\n",
       "      <td>51</td>\n",
       "      <td>178760</td>\n",
       "      <td>53</td>\n",
       "      <td>...</td>\n",
       "      <td>0.3360</td>\n",
       "      <td>0.971</td>\n",
       "      <td>112.433</td>\n",
       "      <td>audio_features</td>\n",
       "      <td>0zjW4c0nPCrsaQA3q9yjml</td>\n",
       "      <td>spotify:track:0zjW4c0nPCrsaQA3q9yjml</td>\n",
       "      <td>https://api.spotify.com/v1/tracks/0zjW4c0nPCrs...</td>\n",
       "      <td>https://api.spotify.com/v1/audio-analysis/0zjW...</td>\n",
       "      <td>178760</td>\n",
       "      <td>3</td>\n",
       "    </tr>\n",
       "    <tr>\n",
       "      <th>131676</th>\n",
       "      <td>Spanish songs</td>\n",
       "      <td>False</td>\n",
       "      <td>999521</td>\n",
       "      <td>1508457600</td>\n",
       "      <td>121</td>\n",
       "      <td>92</td>\n",
       "      <td>1</td>\n",
       "      <td>51</td>\n",
       "      <td>214726</td>\n",
       "      <td>53</td>\n",
       "      <td>...</td>\n",
       "      <td>0.0802</td>\n",
       "      <td>0.858</td>\n",
       "      <td>104.968</td>\n",
       "      <td>audio_features</td>\n",
       "      <td>6tNrSTWNn4oUkoupn1ITJd</td>\n",
       "      <td>spotify:track:6tNrSTWNn4oUkoupn1ITJd</td>\n",
       "      <td>https://api.spotify.com/v1/tracks/6tNrSTWNn4oU...</td>\n",
       "      <td>https://api.spotify.com/v1/audio-analysis/6tNr...</td>\n",
       "      <td>214727</td>\n",
       "      <td>4</td>\n",
       "    </tr>\n",
       "    <tr>\n",
       "      <th>131677</th>\n",
       "      <td>Spanish songs</td>\n",
       "      <td>False</td>\n",
       "      <td>999521</td>\n",
       "      <td>1508457600</td>\n",
       "      <td>121</td>\n",
       "      <td>92</td>\n",
       "      <td>1</td>\n",
       "      <td>51</td>\n",
       "      <td>213440</td>\n",
       "      <td>53</td>\n",
       "      <td>...</td>\n",
       "      <td>0.3520</td>\n",
       "      <td>0.914</td>\n",
       "      <td>99.960</td>\n",
       "      <td>audio_features</td>\n",
       "      <td>7KXL3yfanDowu6shK3Vl0d</td>\n",
       "      <td>spotify:track:7KXL3yfanDowu6shK3Vl0d</td>\n",
       "      <td>https://api.spotify.com/v1/tracks/7KXL3yfanDow...</td>\n",
       "      <td>https://api.spotify.com/v1/audio-analysis/7KXL...</td>\n",
       "      <td>213440</td>\n",
       "      <td>1</td>\n",
       "    </tr>\n",
       "    <tr>\n",
       "      <th>131678</th>\n",
       "      <td>Spanish songs</td>\n",
       "      <td>False</td>\n",
       "      <td>999521</td>\n",
       "      <td>1508457600</td>\n",
       "      <td>121</td>\n",
       "      <td>92</td>\n",
       "      <td>1</td>\n",
       "      <td>51</td>\n",
       "      <td>175026</td>\n",
       "      <td>53</td>\n",
       "      <td>...</td>\n",
       "      <td>0.2210</td>\n",
       "      <td>0.767</td>\n",
       "      <td>139.859</td>\n",
       "      <td>audio_features</td>\n",
       "      <td>6c5ghmeB5B3eUwO9Gr4Dgx</td>\n",
       "      <td>spotify:track:6c5ghmeB5B3eUwO9Gr4Dgx</td>\n",
       "      <td>https://api.spotify.com/v1/tracks/6c5ghmeB5B3e...</td>\n",
       "      <td>https://api.spotify.com/v1/audio-analysis/6c5g...</td>\n",
       "      <td>175027</td>\n",
       "      <td>4</td>\n",
       "    </tr>\n",
       "    <tr>\n",
       "      <th>131679</th>\n",
       "      <td>Fresh</td>\n",
       "      <td>False</td>\n",
       "      <td>999737</td>\n",
       "      <td>1505347200</td>\n",
       "      <td>9</td>\n",
       "      <td>9</td>\n",
       "      <td>1</td>\n",
       "      <td>6</td>\n",
       "      <td>222426</td>\n",
       "      <td>6</td>\n",
       "      <td>...</td>\n",
       "      <td>0.1090</td>\n",
       "      <td>0.717</td>\n",
       "      <td>105.965</td>\n",
       "      <td>audio_features</td>\n",
       "      <td>4AEVXHznFXkJEtFamkYwlr</td>\n",
       "      <td>spotify:track:4AEVXHznFXkJEtFamkYwlr</td>\n",
       "      <td>https://api.spotify.com/v1/tracks/4AEVXHznFXkJ...</td>\n",
       "      <td>https://api.spotify.com/v1/audio-analysis/4AEV...</td>\n",
       "      <td>222427</td>\n",
       "      <td>4</td>\n",
       "    </tr>\n",
       "  </tbody>\n",
       "</table>\n",
       "<p>131602 rows × 36 columns</p>\n",
       "</div>"
      ],
      "text/plain": [
       "                  name  collaborative     pid  modified_at  num_tracks  \\\n",
       "0                music          False     521   1506643200         127   \n",
       "1                finds          False  535521   1481328000          48   \n",
       "2              Running          False  820737   1506211200          61   \n",
       "3        snowboarding           False  874521   1483056000          93   \n",
       "4                music          False     521   1506643200         127   \n",
       "...                ...            ...     ...          ...         ...   \n",
       "131675  Spanish songs           False  999521   1508457600         121   \n",
       "131676  Spanish songs           False  999521   1508457600         121   \n",
       "131677  Spanish songs           False  999521   1508457600         121   \n",
       "131678  Spanish songs           False  999521   1508457600         121   \n",
       "131679           Fresh          False  999737   1505347200           9   \n",
       "\n",
       "        num_albums  num_followers  num_edits  duration_ms_x  num_artists  ...  \\\n",
       "0              108              1         45         219480           85  ...   \n",
       "1               47              1         27         219480           42  ...   \n",
       "2               52              1         40         219480           40  ...   \n",
       "3               51              1          2         219480           30  ...   \n",
       "4              108              1         45         247160           85  ...   \n",
       "...            ...            ...        ...            ...          ...  ...   \n",
       "131675          92              1         51         178760           53  ...   \n",
       "131676          92              1         51         214726           53  ...   \n",
       "131677          92              1         51         213440           53  ...   \n",
       "131678          92              1         51         175026           53  ...   \n",
       "131679           9              1          6         222426            6  ...   \n",
       "\n",
       "       liveness  valence    tempo            type                      id  \\\n",
       "0        0.3650    0.645   93.008  audio_features  0y8Wf6ltWpGCpgqVa21QNX   \n",
       "1        0.3650    0.645   93.008  audio_features  0y8Wf6ltWpGCpgqVa21QNX   \n",
       "2        0.3650    0.645   93.008  audio_features  0y8Wf6ltWpGCpgqVa21QNX   \n",
       "3        0.3650    0.645   93.008  audio_features  0y8Wf6ltWpGCpgqVa21QNX   \n",
       "4        0.1640    0.446  103.019  audio_features  6RUKPb4LETWmmr3iAEQktW   \n",
       "...         ...      ...      ...             ...                     ...   \n",
       "131675   0.3360    0.971  112.433  audio_features  0zjW4c0nPCrsaQA3q9yjml   \n",
       "131676   0.0802    0.858  104.968  audio_features  6tNrSTWNn4oUkoupn1ITJd   \n",
       "131677   0.3520    0.914   99.960  audio_features  7KXL3yfanDowu6shK3Vl0d   \n",
       "131678   0.2210    0.767  139.859  audio_features  6c5ghmeB5B3eUwO9Gr4Dgx   \n",
       "131679   0.1090    0.717  105.965  audio_features  4AEVXHznFXkJEtFamkYwlr   \n",
       "\n",
       "                                         uri  \\\n",
       "0       spotify:track:0y8Wf6ltWpGCpgqVa21QNX   \n",
       "1       spotify:track:0y8Wf6ltWpGCpgqVa21QNX   \n",
       "2       spotify:track:0y8Wf6ltWpGCpgqVa21QNX   \n",
       "3       spotify:track:0y8Wf6ltWpGCpgqVa21QNX   \n",
       "4       spotify:track:6RUKPb4LETWmmr3iAEQktW   \n",
       "...                                      ...   \n",
       "131675  spotify:track:0zjW4c0nPCrsaQA3q9yjml   \n",
       "131676  spotify:track:6tNrSTWNn4oUkoupn1ITJd   \n",
       "131677  spotify:track:7KXL3yfanDowu6shK3Vl0d   \n",
       "131678  spotify:track:6c5ghmeB5B3eUwO9Gr4Dgx   \n",
       "131679  spotify:track:4AEVXHznFXkJEtFamkYwlr   \n",
       "\n",
       "                                               track_href  \\\n",
       "0       https://api.spotify.com/v1/tracks/0y8Wf6ltWpGC...   \n",
       "1       https://api.spotify.com/v1/tracks/0y8Wf6ltWpGC...   \n",
       "2       https://api.spotify.com/v1/tracks/0y8Wf6ltWpGC...   \n",
       "3       https://api.spotify.com/v1/tracks/0y8Wf6ltWpGC...   \n",
       "4       https://api.spotify.com/v1/tracks/6RUKPb4LETWm...   \n",
       "...                                                   ...   \n",
       "131675  https://api.spotify.com/v1/tracks/0zjW4c0nPCrs...   \n",
       "131676  https://api.spotify.com/v1/tracks/6tNrSTWNn4oU...   \n",
       "131677  https://api.spotify.com/v1/tracks/7KXL3yfanDow...   \n",
       "131678  https://api.spotify.com/v1/tracks/6c5ghmeB5B3e...   \n",
       "131679  https://api.spotify.com/v1/tracks/4AEVXHznFXkJ...   \n",
       "\n",
       "                                             analysis_url  duration_ms_y  \\\n",
       "0       https://api.spotify.com/v1/audio-analysis/0y8W...         219480   \n",
       "1       https://api.spotify.com/v1/audio-analysis/0y8W...         219480   \n",
       "2       https://api.spotify.com/v1/audio-analysis/0y8W...         219480   \n",
       "3       https://api.spotify.com/v1/audio-analysis/0y8W...         219480   \n",
       "4       https://api.spotify.com/v1/audio-analysis/6RUK...         247160   \n",
       "...                                                   ...            ...   \n",
       "131675  https://api.spotify.com/v1/audio-analysis/0zjW...         178760   \n",
       "131676  https://api.spotify.com/v1/audio-analysis/6tNr...         214727   \n",
       "131677  https://api.spotify.com/v1/audio-analysis/7KXL...         213440   \n",
       "131678  https://api.spotify.com/v1/audio-analysis/6c5g...         175027   \n",
       "131679  https://api.spotify.com/v1/audio-analysis/4AEV...         222427   \n",
       "\n",
       "        time_signature  \n",
       "0                    4  \n",
       "1                    4  \n",
       "2                    4  \n",
       "3                    4  \n",
       "4                    4  \n",
       "...                ...  \n",
       "131675               3  \n",
       "131676               4  \n",
       "131677               1  \n",
       "131678               4  \n",
       "131679               4  \n",
       "\n",
       "[131602 rows x 36 columns]"
      ]
     },
     "execution_count": 958,
     "metadata": {},
     "output_type": "execute_result"
    }
   ],
   "source": [
    "df"
   ]
  },
  {
   "cell_type": "code",
   "execution_count": 869,
   "metadata": {},
   "outputs": [
    {
     "data": {
      "text/html": [
       "<div>\n",
       "<style scoped>\n",
       "    .dataframe tbody tr th:only-of-type {\n",
       "        vertical-align: middle;\n",
       "    }\n",
       "\n",
       "    .dataframe tbody tr th {\n",
       "        vertical-align: top;\n",
       "    }\n",
       "\n",
       "    .dataframe thead th {\n",
       "        text-align: right;\n",
       "    }\n",
       "</style>\n",
       "<table border=\"1\" class=\"dataframe\">\n",
       "  <thead>\n",
       "    <tr style=\"text-align: right;\">\n",
       "      <th></th>\n",
       "      <th>name</th>\n",
       "      <th>collaborative</th>\n",
       "      <th>pid</th>\n",
       "      <th>modified_at</th>\n",
       "      <th>num_tracks</th>\n",
       "      <th>num_albums</th>\n",
       "      <th>num_followers</th>\n",
       "      <th>num_edits</th>\n",
       "      <th>duration_ms_x</th>\n",
       "      <th>num_artists</th>\n",
       "      <th>...</th>\n",
       "      <th>liveness</th>\n",
       "      <th>valence</th>\n",
       "      <th>tempo</th>\n",
       "      <th>type</th>\n",
       "      <th>id</th>\n",
       "      <th>uri</th>\n",
       "      <th>track_href</th>\n",
       "      <th>analysis_url</th>\n",
       "      <th>duration_ms_y</th>\n",
       "      <th>time_signature</th>\n",
       "    </tr>\n",
       "  </thead>\n",
       "  <tbody>\n",
       "    <tr>\n",
       "      <th>0</th>\n",
       "      <td>music</td>\n",
       "      <td>False</td>\n",
       "      <td>521</td>\n",
       "      <td>1506643200</td>\n",
       "      <td>127</td>\n",
       "      <td>108</td>\n",
       "      <td>1</td>\n",
       "      <td>45</td>\n",
       "      <td>219480</td>\n",
       "      <td>85</td>\n",
       "      <td>...</td>\n",
       "      <td>0.365</td>\n",
       "      <td>0.645</td>\n",
       "      <td>93.008</td>\n",
       "      <td>audio_features</td>\n",
       "      <td>0y8Wf6ltWpGCpgqVa21QNX</td>\n",
       "      <td>spotify:track:0y8Wf6ltWpGCpgqVa21QNX</td>\n",
       "      <td>https://api.spotify.com/v1/tracks/0y8Wf6ltWpGC...</td>\n",
       "      <td>https://api.spotify.com/v1/audio-analysis/0y8W...</td>\n",
       "      <td>219480</td>\n",
       "      <td>4</td>\n",
       "    </tr>\n",
       "    <tr>\n",
       "      <th>1</th>\n",
       "      <td>finds</td>\n",
       "      <td>False</td>\n",
       "      <td>535521</td>\n",
       "      <td>1481328000</td>\n",
       "      <td>48</td>\n",
       "      <td>47</td>\n",
       "      <td>1</td>\n",
       "      <td>27</td>\n",
       "      <td>219480</td>\n",
       "      <td>42</td>\n",
       "      <td>...</td>\n",
       "      <td>0.365</td>\n",
       "      <td>0.645</td>\n",
       "      <td>93.008</td>\n",
       "      <td>audio_features</td>\n",
       "      <td>0y8Wf6ltWpGCpgqVa21QNX</td>\n",
       "      <td>spotify:track:0y8Wf6ltWpGCpgqVa21QNX</td>\n",
       "      <td>https://api.spotify.com/v1/tracks/0y8Wf6ltWpGC...</td>\n",
       "      <td>https://api.spotify.com/v1/audio-analysis/0y8W...</td>\n",
       "      <td>219480</td>\n",
       "      <td>4</td>\n",
       "    </tr>\n",
       "    <tr>\n",
       "      <th>2</th>\n",
       "      <td>Running</td>\n",
       "      <td>False</td>\n",
       "      <td>820737</td>\n",
       "      <td>1506211200</td>\n",
       "      <td>61</td>\n",
       "      <td>52</td>\n",
       "      <td>1</td>\n",
       "      <td>40</td>\n",
       "      <td>219480</td>\n",
       "      <td>40</td>\n",
       "      <td>...</td>\n",
       "      <td>0.365</td>\n",
       "      <td>0.645</td>\n",
       "      <td>93.008</td>\n",
       "      <td>audio_features</td>\n",
       "      <td>0y8Wf6ltWpGCpgqVa21QNX</td>\n",
       "      <td>spotify:track:0y8Wf6ltWpGCpgqVa21QNX</td>\n",
       "      <td>https://api.spotify.com/v1/tracks/0y8Wf6ltWpGC...</td>\n",
       "      <td>https://api.spotify.com/v1/audio-analysis/0y8W...</td>\n",
       "      <td>219480</td>\n",
       "      <td>4</td>\n",
       "    </tr>\n",
       "    <tr>\n",
       "      <th>3</th>\n",
       "      <td>snowboarding</td>\n",
       "      <td>False</td>\n",
       "      <td>874521</td>\n",
       "      <td>1483056000</td>\n",
       "      <td>93</td>\n",
       "      <td>51</td>\n",
       "      <td>1</td>\n",
       "      <td>2</td>\n",
       "      <td>219480</td>\n",
       "      <td>30</td>\n",
       "      <td>...</td>\n",
       "      <td>0.365</td>\n",
       "      <td>0.645</td>\n",
       "      <td>93.008</td>\n",
       "      <td>audio_features</td>\n",
       "      <td>0y8Wf6ltWpGCpgqVa21QNX</td>\n",
       "      <td>spotify:track:0y8Wf6ltWpGCpgqVa21QNX</td>\n",
       "      <td>https://api.spotify.com/v1/tracks/0y8Wf6ltWpGC...</td>\n",
       "      <td>https://api.spotify.com/v1/audio-analysis/0y8W...</td>\n",
       "      <td>219480</td>\n",
       "      <td>4</td>\n",
       "    </tr>\n",
       "    <tr>\n",
       "      <th>4</th>\n",
       "      <td>music</td>\n",
       "      <td>False</td>\n",
       "      <td>521</td>\n",
       "      <td>1506643200</td>\n",
       "      <td>127</td>\n",
       "      <td>108</td>\n",
       "      <td>1</td>\n",
       "      <td>45</td>\n",
       "      <td>247160</td>\n",
       "      <td>85</td>\n",
       "      <td>...</td>\n",
       "      <td>0.164</td>\n",
       "      <td>0.446</td>\n",
       "      <td>103.019</td>\n",
       "      <td>audio_features</td>\n",
       "      <td>6RUKPb4LETWmmr3iAEQktW</td>\n",
       "      <td>spotify:track:6RUKPb4LETWmmr3iAEQktW</td>\n",
       "      <td>https://api.spotify.com/v1/tracks/6RUKPb4LETWm...</td>\n",
       "      <td>https://api.spotify.com/v1/audio-analysis/6RUK...</td>\n",
       "      <td>247160</td>\n",
       "      <td>4</td>\n",
       "    </tr>\n",
       "  </tbody>\n",
       "</table>\n",
       "<p>5 rows × 36 columns</p>\n",
       "</div>"
      ],
      "text/plain": [
       "            name  collaborative     pid  modified_at  num_tracks  num_albums  \\\n",
       "0          music          False     521   1506643200         127         108   \n",
       "1          finds          False  535521   1481328000          48          47   \n",
       "2        Running          False  820737   1506211200          61          52   \n",
       "3  snowboarding           False  874521   1483056000          93          51   \n",
       "4          music          False     521   1506643200         127         108   \n",
       "\n",
       "   num_followers  num_edits  duration_ms_x  num_artists  ... liveness  \\\n",
       "0              1         45         219480           85  ...    0.365   \n",
       "1              1         27         219480           42  ...    0.365   \n",
       "2              1         40         219480           40  ...    0.365   \n",
       "3              1          2         219480           30  ...    0.365   \n",
       "4              1         45         247160           85  ...    0.164   \n",
       "\n",
       "   valence    tempo            type                      id  \\\n",
       "0    0.645   93.008  audio_features  0y8Wf6ltWpGCpgqVa21QNX   \n",
       "1    0.645   93.008  audio_features  0y8Wf6ltWpGCpgqVa21QNX   \n",
       "2    0.645   93.008  audio_features  0y8Wf6ltWpGCpgqVa21QNX   \n",
       "3    0.645   93.008  audio_features  0y8Wf6ltWpGCpgqVa21QNX   \n",
       "4    0.446  103.019  audio_features  6RUKPb4LETWmmr3iAEQktW   \n",
       "\n",
       "                                    uri  \\\n",
       "0  spotify:track:0y8Wf6ltWpGCpgqVa21QNX   \n",
       "1  spotify:track:0y8Wf6ltWpGCpgqVa21QNX   \n",
       "2  spotify:track:0y8Wf6ltWpGCpgqVa21QNX   \n",
       "3  spotify:track:0y8Wf6ltWpGCpgqVa21QNX   \n",
       "4  spotify:track:6RUKPb4LETWmmr3iAEQktW   \n",
       "\n",
       "                                          track_href  \\\n",
       "0  https://api.spotify.com/v1/tracks/0y8Wf6ltWpGC...   \n",
       "1  https://api.spotify.com/v1/tracks/0y8Wf6ltWpGC...   \n",
       "2  https://api.spotify.com/v1/tracks/0y8Wf6ltWpGC...   \n",
       "3  https://api.spotify.com/v1/tracks/0y8Wf6ltWpGC...   \n",
       "4  https://api.spotify.com/v1/tracks/6RUKPb4LETWm...   \n",
       "\n",
       "                                        analysis_url  duration_ms_y  \\\n",
       "0  https://api.spotify.com/v1/audio-analysis/0y8W...         219480   \n",
       "1  https://api.spotify.com/v1/audio-analysis/0y8W...         219480   \n",
       "2  https://api.spotify.com/v1/audio-analysis/0y8W...         219480   \n",
       "3  https://api.spotify.com/v1/audio-analysis/0y8W...         219480   \n",
       "4  https://api.spotify.com/v1/audio-analysis/6RUK...         247160   \n",
       "\n",
       "   time_signature  \n",
       "0               4  \n",
       "1               4  \n",
       "2               4  \n",
       "3               4  \n",
       "4               4  \n",
       "\n",
       "[5 rows x 36 columns]"
      ]
     },
     "execution_count": 869,
     "metadata": {},
     "output_type": "execute_result"
    }
   ],
   "source": [
    "df.head()"
   ]
  },
  {
   "cell_type": "markdown",
   "metadata": {
    "id": "Y5Reg9PFlWPw"
   },
   "source": [
    "Número único de listas:"
   ]
  },
  {
   "cell_type": "code",
   "execution_count": 870,
   "metadata": {
    "colab": {
     "base_uri": "https://localhost:8080/"
    },
    "id": "3JH0coVolT0h",
    "outputId": "72bee2ad-ea14-41a5-e2fc-f2e5a6bf22a8"
   },
   "outputs": [
    {
     "data": {
      "text/plain": [
       "2000"
      ]
     },
     "execution_count": 870,
     "metadata": {},
     "output_type": "execute_result"
    }
   ],
   "source": [
    "len(df.pid.unique())"
   ]
  },
  {
   "cell_type": "markdown",
   "metadata": {
    "id": "QHxPUFxnlenw"
   },
   "source": [
    "Investigar luego esas listas que se perdieron, se supone que inicialmente eran 2000:"
   ]
  },
  {
   "cell_type": "code",
   "execution_count": 871,
   "metadata": {
    "colab": {
     "base_uri": "https://localhost:8080/"
    },
    "id": "L8IISe_Uk96X",
    "outputId": "7d2bc3f9-1082-4c24-9716-97468aa25048"
   },
   "outputs": [
    {
     "data": {
      "text/plain": [
       "2000"
      ]
     },
     "execution_count": 871,
     "metadata": {},
     "output_type": "execute_result"
    }
   ],
   "source": [
    "len(playlists.pid.unique())"
   ]
  },
  {
   "cell_type": "markdown",
   "metadata": {
    "id": "PcvvQ_YXlsCk"
   },
   "source": [
    "**Distribución del número de canciones por lista**"
   ]
  },
  {
   "cell_type": "code",
   "execution_count": 872,
   "metadata": {
    "colab": {
     "base_uri": "https://localhost:8080/",
     "height": 349
    },
    "id": "yjP7jWgOlIGA",
    "outputId": "6da1ebee-563e-4db7-80f6-5206c7f4ef51"
   },
   "outputs": [
    {
     "name": "stderr",
     "output_type": "stream",
     "text": [
      "/home/alkzar/.pyenv/versions/3.8.5/envs/eda/lib/python3.8/site-packages/seaborn/distributions.py:2619: FutureWarning: `distplot` is a deprecated function and will be removed in a future version. Please adapt your code to use either `displot` (a figure-level function with similar flexibility) or `histplot` (an axes-level function for histograms).\n",
      "  warnings.warn(msg, FutureWarning)\n"
     ]
    },
    {
     "data": {
      "text/plain": [
       "<AxesSubplot:xlabel='track_uri', ylabel='Density'>"
      ]
     },
     "execution_count": 872,
     "metadata": {},
     "output_type": "execute_result"
    },
    {
     "data": {
      "image/png": "[encoded data removed]",
      "text/plain": [
       "<Figure size 432x288 with 1 Axes>"
      ]
     },
     "metadata": {
      "needs_background": "light"
     },
     "output_type": "display_data"
    }
   ],
   "source": [
    "sns.distplot(playlists.groupby('pid')['track_uri'].count())"
   ]
  },
  {
   "cell_type": "markdown",
   "metadata": {
    "id": "Wvzd8aS8q28Y"
   },
   "source": [
    "**Distribución de duración (en mín) por lista**"
   ]
  },
  {
   "cell_type": "code",
   "execution_count": 873,
   "metadata": {
    "colab": {
     "base_uri": "https://localhost:8080/",
     "height": 348
    },
    "id": "g3pgxhaZqvT4",
    "outputId": "4c1b3617-a57c-43cf-b9b1-89253a409877"
   },
   "outputs": [
    {
     "name": "stderr",
     "output_type": "stream",
     "text": [
      "/home/alkzar/.pyenv/versions/3.8.5/envs/eda/lib/python3.8/site-packages/seaborn/distributions.py:2619: FutureWarning: `distplot` is a deprecated function and will be removed in a future version. Please adapt your code to use either `displot` (a figure-level function with similar flexibility) or `histplot` (an axes-level function for histograms).\n",
      "  warnings.warn(msg, FutureWarning)\n"
     ]
    },
    {
     "data": {
      "text/plain": [
       "<AxesSubplot:xlabel='duration_ms', ylabel='Density'>"
      ]
     },
     "execution_count": 873,
     "metadata": {},
     "output_type": "execute_result"
    },
    {
     "data": {
      "image/png": "[encoded data removed]",
      "text/plain": [
       "<Figure size 432x288 with 1 Axes>"
      ]
     },
     "metadata": {
      "needs_background": "light"
     },
     "output_type": "display_data"
    }
   ],
   "source": [
    "sns.distplot(playlists.groupby('pid')['duration_ms'].sum()/60000)"
   ]
  },
  {
   "cell_type": "markdown",
   "metadata": {
    "id": "0WM1zAQgsMa3"
   },
   "source": [
    "**Distribución número de seguidos por lista**"
   ]
  },
  {
   "cell_type": "code",
   "execution_count": 874,
   "metadata": {
    "colab": {
     "base_uri": "https://localhost:8080/",
     "height": 301
    },
    "id": "f_mbdgdkrxKj",
    "outputId": "efd01f76-5906-4d45-ab9b-fddb35f26e08"
   },
   "outputs": [
    {
     "data": {
      "text/plain": [
       "<AxesSubplot:xlabel='num_followers', ylabel='Count'>"
      ]
     },
     "execution_count": 874,
     "metadata": {},
     "output_type": "execute_result"
    },
    {
     "data": {
      "image/png": "[encoded data removed]",
      "text/plain": [
       "<Figure size 432x288 with 1 Axes>"
      ]
     },
     "metadata": {
      "needs_background": "light"
     },
     "output_type": "display_data"
    }
   ],
   "source": [
    "sns.histplot(playlists.groupby('pid')['num_followers'].max(), log_scale=True)"
   ]
  },
  {
   "cell_type": "markdown",
   "metadata": {
    "id": "h5hPiC2Ps_yC"
   },
   "source": [
    "Hay una lista con muchos seguidores:\n"
   ]
  },
  {
   "cell_type": "code",
   "execution_count": 875,
   "metadata": {
    "colab": {
     "base_uri": "https://localhost:8080/",
     "height": 359
    },
    "id": "YAjcXWz_tDub",
    "outputId": "c0927bde-7207-45d1-f6ac-b2c2de2db80e"
   },
   "outputs": [
    {
     "data": {
      "text/html": [
       "<div>\n",
       "<style scoped>\n",
       "    .dataframe tbody tr th:only-of-type {\n",
       "        vertical-align: middle;\n",
       "    }\n",
       "\n",
       "    .dataframe tbody tr th {\n",
       "        vertical-align: top;\n",
       "    }\n",
       "\n",
       "    .dataframe thead th {\n",
       "        text-align: right;\n",
       "    }\n",
       "</style>\n",
       "<table border=\"1\" class=\"dataframe\">\n",
       "  <thead>\n",
       "    <tr style=\"text-align: right;\">\n",
       "      <th></th>\n",
       "      <th>name</th>\n",
       "      <th>collaborative</th>\n",
       "      <th>pid</th>\n",
       "      <th>modified_at</th>\n",
       "      <th>num_tracks</th>\n",
       "      <th>num_albums</th>\n",
       "      <th>num_followers</th>\n",
       "      <th>num_edits</th>\n",
       "      <th>duration_ms</th>\n",
       "      <th>num_artists</th>\n",
       "      <th>description</th>\n",
       "      <th>pos</th>\n",
       "      <th>artist_name</th>\n",
       "      <th>track_uri</th>\n",
       "      <th>artist_uri</th>\n",
       "      <th>track_name</th>\n",
       "      <th>album_uri</th>\n",
       "      <th>album_name</th>\n",
       "    </tr>\n",
       "  </thead>\n",
       "  <tbody>\n",
       "    <tr>\n",
       "      <th>130824</th>\n",
       "      <td>Best Songs of 2016</td>\n",
       "      <td>False</td>\n",
       "      <td>993737</td>\n",
       "      <td>1484870400</td>\n",
       "      <td>197</td>\n",
       "      <td>116</td>\n",
       "      <td>692</td>\n",
       "      <td>20</td>\n",
       "      <td>382386</td>\n",
       "      <td>114</td>\n",
       "      <td>NaN</td>\n",
       "      <td>0.0</td>\n",
       "      <td>David Bowie</td>\n",
       "      <td>spotify:track:3Vn9oCZbdI1EMO7jxdz2Rc</td>\n",
       "      <td>spotify:artist:0oSGxfWSnnOXhD2fKuz2Gy</td>\n",
       "      <td>Lazarus</td>\n",
       "      <td>spotify:album:2w1YJXWMIco6EBf0CovvVN</td>\n",
       "      <td>Blackstar</td>\n",
       "    </tr>\n",
       "    <tr>\n",
       "      <th>130825</th>\n",
       "      <td>Best Songs of 2016</td>\n",
       "      <td>False</td>\n",
       "      <td>993737</td>\n",
       "      <td>1484870400</td>\n",
       "      <td>197</td>\n",
       "      <td>116</td>\n",
       "      <td>692</td>\n",
       "      <td>20</td>\n",
       "      <td>291946</td>\n",
       "      <td>114</td>\n",
       "      <td>NaN</td>\n",
       "      <td>1.0</td>\n",
       "      <td>David Bowie</td>\n",
       "      <td>spotify:track:6N9PAf91qP6aJIzT8bVoof</td>\n",
       "      <td>spotify:artist:0oSGxfWSnnOXhD2fKuz2Gy</td>\n",
       "      <td>Girl Loves Me</td>\n",
       "      <td>spotify:album:2w1YJXWMIco6EBf0CovvVN</td>\n",
       "      <td>Blackstar</td>\n",
       "    </tr>\n",
       "    <tr>\n",
       "      <th>130826</th>\n",
       "      <td>Best Songs of 2016</td>\n",
       "      <td>False</td>\n",
       "      <td>993737</td>\n",
       "      <td>1484870400</td>\n",
       "      <td>197</td>\n",
       "      <td>116</td>\n",
       "      <td>692</td>\n",
       "      <td>20</td>\n",
       "      <td>434666</td>\n",
       "      <td>114</td>\n",
       "      <td>NaN</td>\n",
       "      <td>2.0</td>\n",
       "      <td>Eric Prydz</td>\n",
       "      <td>spotify:track:5rQ8WVEKsGEY0voH5s4lzw</td>\n",
       "      <td>spotify:artist:5sm0jQ1mq0dusiLtDJ2b4R</td>\n",
       "      <td>Every Day</td>\n",
       "      <td>spotify:album:3w8nFeEqwsgAoUxodM0NTr</td>\n",
       "      <td>Opus</td>\n",
       "    </tr>\n",
       "  </tbody>\n",
       "</table>\n",
       "</div>"
      ],
      "text/plain": [
       "                      name  collaborative     pid  modified_at  num_tracks  \\\n",
       "130824  Best Songs of 2016          False  993737   1484870400         197   \n",
       "130825  Best Songs of 2016          False  993737   1484870400         197   \n",
       "130826  Best Songs of 2016          False  993737   1484870400         197   \n",
       "\n",
       "        num_albums  num_followers  num_edits  duration_ms  num_artists  \\\n",
       "130824         116            692         20       382386          114   \n",
       "130825         116            692         20       291946          114   \n",
       "130826         116            692         20       434666          114   \n",
       "\n",
       "       description  pos  artist_name                             track_uri  \\\n",
       "130824         NaN  0.0  David Bowie  spotify:track:3Vn9oCZbdI1EMO7jxdz2Rc   \n",
       "130825         NaN  1.0  David Bowie  spotify:track:6N9PAf91qP6aJIzT8bVoof   \n",
       "130826         NaN  2.0   Eric Prydz  spotify:track:5rQ8WVEKsGEY0voH5s4lzw   \n",
       "\n",
       "                                   artist_uri     track_name  \\\n",
       "130824  spotify:artist:0oSGxfWSnnOXhD2fKuz2Gy        Lazarus   \n",
       "130825  spotify:artist:0oSGxfWSnnOXhD2fKuz2Gy  Girl Loves Me   \n",
       "130826  spotify:artist:5sm0jQ1mq0dusiLtDJ2b4R      Every Day   \n",
       "\n",
       "                                   album_uri album_name  \n",
       "130824  spotify:album:2w1YJXWMIco6EBf0CovvVN  Blackstar  \n",
       "130825  spotify:album:2w1YJXWMIco6EBf0CovvVN  Blackstar  \n",
       "130826  spotify:album:3w8nFeEqwsgAoUxodM0NTr       Opus  "
      ]
     },
     "execution_count": 875,
     "metadata": {},
     "output_type": "execute_result"
    }
   ],
   "source": [
    "playlists.loc[playlists.num_followers == playlists.num_followers.max(), :].head(n=3)"
   ]
  },
  {
   "cell_type": "markdown",
   "metadata": {
    "id": "tJMr0_iW_Wzv"
   },
   "source": [
    "## Heatmap de caracterizacion de playlist por la composición de un atributo "
   ]
  },
  {
   "cell_type": "markdown",
   "metadata": {
    "id": "fxd9i62_wF2n"
   },
   "source": [
    "**TODO:** filtrar todas las listas con N canciones y crear mapa de calor por track feature.\n",
    "\n",
    "**OJO:** es interesante ver el orden del track en la posición de la lista,\n",
    "se encuentra alguna relación en la posición que están las canciones en la lista?\n"
   ]
  },
  {
   "cell_type": "markdown",
   "metadata": {
    "id": "tJ2RN9RJ02bJ"
   },
   "source": [
    "Buscar `pid` con igual número de canciones:"
   ]
  },
  {
   "cell_type": "code",
   "execution_count": 876,
   "metadata": {
    "colab": {
     "base_uri": "https://localhost:8080/",
     "height": 140
    },
    "id": "taZcMBIv0A4C",
    "outputId": "67b3c350-11c7-46be-994c-409246f0a17a"
   },
   "outputs": [
    {
     "data": {
      "text/html": [
       "<div>\n",
       "<style scoped>\n",
       "    .dataframe tbody tr th:only-of-type {\n",
       "        vertical-align: middle;\n",
       "    }\n",
       "\n",
       "    .dataframe tbody tr th {\n",
       "        vertical-align: top;\n",
       "    }\n",
       "\n",
       "    .dataframe thead th {\n",
       "        text-align: right;\n",
       "    }\n",
       "</style>\n",
       "<table border=\"1\" class=\"dataframe\">\n",
       "  <thead>\n",
       "    <tr style=\"text-align: right;\">\n",
       "      <th></th>\n",
       "      <th>pid</th>\n",
       "      <th>num_tracks</th>\n",
       "      <th>track_name</th>\n",
       "      <th>loudness</th>\n",
       "    </tr>\n",
       "  </thead>\n",
       "  <tbody>\n",
       "    <tr>\n",
       "      <th>39636</th>\n",
       "      <td>30521</td>\n",
       "      <td>20</td>\n",
       "      <td>Love Yourself</td>\n",
       "      <td>-9.828</td>\n",
       "    </tr>\n",
       "    <tr>\n",
       "      <th>97329</th>\n",
       "      <td>30521</td>\n",
       "      <td>20</td>\n",
       "      <td>Levon</td>\n",
       "      <td>-10.499</td>\n",
       "    </tr>\n",
       "    <tr>\n",
       "      <th>97328</th>\n",
       "      <td>30521</td>\n",
       "      <td>20</td>\n",
       "      <td>Something to Believe In - 2003 - Remaster</td>\n",
       "      <td>-5.009</td>\n",
       "    </tr>\n",
       "  </tbody>\n",
       "</table>\n",
       "</div>"
      ],
      "text/plain": [
       "         pid  num_tracks                                 track_name  loudness\n",
       "39636  30521          20                              Love Yourself    -9.828\n",
       "97329  30521          20                                      Levon   -10.499\n",
       "97328  30521          20  Something to Believe In - 2003 - Remaster    -5.009"
      ]
     },
     "execution_count": 876,
     "metadata": {},
     "output_type": "execute_result"
    }
   ],
   "source": [
    "heatmap = df.loc[df.num_tracks == 20, ['pid', 'num_tracks', 'track_name', 'loudness']].sort_values('pid')\n",
    "heatmap.head(n=3)"
   ]
  },
  {
   "cell_type": "markdown",
   "metadata": {
    "id": "EhVCHPJO85tV"
   },
   "source": [
    "Ordenar los tracks de cada lista por su atributo de menor a mayor:"
   ]
  },
  {
   "cell_type": "code",
   "execution_count": 877,
   "metadata": {
    "id": "_Fk8Hv3G85Ch"
   },
   "outputs": [],
   "source": [
    "heatmap.sort_values(['pid', 'loudness'], inplace=True)"
   ]
  },
  {
   "cell_type": "code",
   "execution_count": 878,
   "metadata": {
    "id": "riZSQ56X2e7O"
   },
   "outputs": [],
   "source": [
    "heatmap['track_pos'] = heatmap.groupby('pid').cumcount()"
   ]
  },
  {
   "cell_type": "code",
   "execution_count": 879,
   "metadata": {
    "colab": {
     "base_uri": "https://localhost:8080/",
     "height": 140
    },
    "id": "LYd-6c_t2tOy",
    "outputId": "771a4f91-9aec-4798-a62b-3a006ab30836"
   },
   "outputs": [
    {
     "data": {
      "text/html": [
       "<div>\n",
       "<style scoped>\n",
       "    .dataframe tbody tr th:only-of-type {\n",
       "        vertical-align: middle;\n",
       "    }\n",
       "\n",
       "    .dataframe tbody tr th {\n",
       "        vertical-align: top;\n",
       "    }\n",
       "\n",
       "    .dataframe thead th {\n",
       "        text-align: right;\n",
       "    }\n",
       "</style>\n",
       "<table border=\"1\" class=\"dataframe\">\n",
       "  <thead>\n",
       "    <tr style=\"text-align: right;\">\n",
       "      <th></th>\n",
       "      <th>pid</th>\n",
       "      <th>num_tracks</th>\n",
       "      <th>track_name</th>\n",
       "      <th>loudness</th>\n",
       "      <th>track_pos</th>\n",
       "    </tr>\n",
       "  </thead>\n",
       "  <tbody>\n",
       "    <tr>\n",
       "      <th>55141</th>\n",
       "      <td>30521</td>\n",
       "      <td>20</td>\n",
       "      <td>Walk On the Wild Side</td>\n",
       "      <td>-16.729</td>\n",
       "      <td>0</td>\n",
       "    </tr>\n",
       "    <tr>\n",
       "      <th>95925</th>\n",
       "      <td>30521</td>\n",
       "      <td>20</td>\n",
       "      <td>Going To California</td>\n",
       "      <td>-15.913</td>\n",
       "      <td>1</td>\n",
       "    </tr>\n",
       "    <tr>\n",
       "      <th>42216</th>\n",
       "      <td>30521</td>\n",
       "      <td>20</td>\n",
       "      <td>Fast Car</td>\n",
       "      <td>-15.523</td>\n",
       "      <td>2</td>\n",
       "    </tr>\n",
       "  </tbody>\n",
       "</table>\n",
       "</div>"
      ],
      "text/plain": [
       "         pid  num_tracks             track_name  loudness  track_pos\n",
       "55141  30521          20  Walk On the Wild Side   -16.729          0\n",
       "95925  30521          20    Going To California   -15.913          1\n",
       "42216  30521          20               Fast Car   -15.523          2"
      ]
     },
     "execution_count": 879,
     "metadata": {},
     "output_type": "execute_result"
    }
   ],
   "source": [
    "heatmap.head(n=3)"
   ]
  },
  {
   "cell_type": "code",
   "execution_count": 880,
   "metadata": {
    "colab": {
     "base_uri": "https://localhost:8080/",
     "height": 140
    },
    "id": "kalxz9j22vpM",
    "outputId": "065b53d0-16ee-46a8-98eb-28b7f32fa53c"
   },
   "outputs": [
    {
     "data": {
      "text/html": [
       "<div>\n",
       "<style scoped>\n",
       "    .dataframe tbody tr th:only-of-type {\n",
       "        vertical-align: middle;\n",
       "    }\n",
       "\n",
       "    .dataframe tbody tr th {\n",
       "        vertical-align: top;\n",
       "    }\n",
       "\n",
       "    .dataframe thead th {\n",
       "        text-align: right;\n",
       "    }\n",
       "</style>\n",
       "<table border=\"1\" class=\"dataframe\">\n",
       "  <thead>\n",
       "    <tr style=\"text-align: right;\">\n",
       "      <th></th>\n",
       "      <th>pid</th>\n",
       "      <th>num_tracks</th>\n",
       "      <th>track_name</th>\n",
       "      <th>loudness</th>\n",
       "      <th>track_pos</th>\n",
       "    </tr>\n",
       "  </thead>\n",
       "  <tbody>\n",
       "    <tr>\n",
       "      <th>97249</th>\n",
       "      <td>945521</td>\n",
       "      <td>20</td>\n",
       "      <td>Call Me a Spaceman - Extended Mix</td>\n",
       "      <td>-3.671</td>\n",
       "      <td>17</td>\n",
       "    </tr>\n",
       "    <tr>\n",
       "      <th>39084</th>\n",
       "      <td>945521</td>\n",
       "      <td>20</td>\n",
       "      <td>When They Fight, They Fight</td>\n",
       "      <td>-1.866</td>\n",
       "      <td>18</td>\n",
       "    </tr>\n",
       "    <tr>\n",
       "      <th>56328</th>\n",
       "      <td>945521</td>\n",
       "      <td>20</td>\n",
       "      <td>Coming Home</td>\n",
       "      <td>-1.844</td>\n",
       "      <td>19</td>\n",
       "    </tr>\n",
       "  </tbody>\n",
       "</table>\n",
       "</div>"
      ],
      "text/plain": [
       "          pid  num_tracks                         track_name  loudness  \\\n",
       "97249  945521          20  Call Me a Spaceman - Extended Mix    -3.671   \n",
       "39084  945521          20        When They Fight, They Fight    -1.866   \n",
       "56328  945521          20                        Coming Home    -1.844   \n",
       "\n",
       "       track_pos  \n",
       "97249         17  \n",
       "39084         18  \n",
       "56328         19  "
      ]
     },
     "execution_count": 880,
     "metadata": {},
     "output_type": "execute_result"
    }
   ],
   "source": [
    "heatmap.tail(n=3)"
   ]
  },
  {
   "cell_type": "markdown",
   "metadata": {
    "id": "3t7Qktto52xV"
   },
   "source": [
    "Crear variable categorica con indicador de la posición de un track en la lista."
   ]
  },
  {
   "cell_type": "code",
   "execution_count": 881,
   "metadata": {
    "id": "jHTBSXmj3edh"
   },
   "outputs": [],
   "source": [
    "heatmap['track_pos'] = pd.Categorical(\n",
    "    heatmap['track_pos'].apply(lambda x: 'T' + str(x)),\n",
    "    categories = ['T' + str(x) for x in range(0, heatmap.num_tracks.max())],\n",
    "    ordered = True\n",
    ")"
   ]
  },
  {
   "cell_type": "code",
   "execution_count": 882,
   "metadata": {
    "colab": {
     "base_uri": "https://localhost:8080/",
     "height": 201
    },
    "id": "HFBAsXgG3vne",
    "outputId": "dfb37084-ebfd-45c2-d5dd-78642dd6f482"
   },
   "outputs": [
    {
     "data": {
      "text/html": [
       "<div>\n",
       "<style scoped>\n",
       "    .dataframe tbody tr th:only-of-type {\n",
       "        vertical-align: middle;\n",
       "    }\n",
       "\n",
       "    .dataframe tbody tr th {\n",
       "        vertical-align: top;\n",
       "    }\n",
       "\n",
       "    .dataframe thead th {\n",
       "        text-align: right;\n",
       "    }\n",
       "</style>\n",
       "<table border=\"1\" class=\"dataframe\">\n",
       "  <thead>\n",
       "    <tr style=\"text-align: right;\">\n",
       "      <th></th>\n",
       "      <th>pid</th>\n",
       "      <th>num_tracks</th>\n",
       "      <th>track_name</th>\n",
       "      <th>loudness</th>\n",
       "      <th>track_pos</th>\n",
       "    </tr>\n",
       "  </thead>\n",
       "  <tbody>\n",
       "    <tr>\n",
       "      <th>55141</th>\n",
       "      <td>30521</td>\n",
       "      <td>20</td>\n",
       "      <td>Walk On the Wild Side</td>\n",
       "      <td>-16.729</td>\n",
       "      <td>T0</td>\n",
       "    </tr>\n",
       "    <tr>\n",
       "      <th>95925</th>\n",
       "      <td>30521</td>\n",
       "      <td>20</td>\n",
       "      <td>Going To California</td>\n",
       "      <td>-15.913</td>\n",
       "      <td>T1</td>\n",
       "    </tr>\n",
       "    <tr>\n",
       "      <th>42216</th>\n",
       "      <td>30521</td>\n",
       "      <td>20</td>\n",
       "      <td>Fast Car</td>\n",
       "      <td>-15.523</td>\n",
       "      <td>T2</td>\n",
       "    </tr>\n",
       "    <tr>\n",
       "      <th>5423</th>\n",
       "      <td>30521</td>\n",
       "      <td>20</td>\n",
       "      <td>I Heard It Through The Grapevine</td>\n",
       "      <td>-13.017</td>\n",
       "      <td>T3</td>\n",
       "    </tr>\n",
       "    <tr>\n",
       "      <th>91393</th>\n",
       "      <td>30521</td>\n",
       "      <td>20</td>\n",
       "      <td>Papa Was A Rollin' Stone - Single Version</td>\n",
       "      <td>-12.915</td>\n",
       "      <td>T4</td>\n",
       "    </tr>\n",
       "  </tbody>\n",
       "</table>\n",
       "</div>"
      ],
      "text/plain": [
       "         pid  num_tracks                                 track_name  loudness  \\\n",
       "55141  30521          20                      Walk On the Wild Side   -16.729   \n",
       "95925  30521          20                        Going To California   -15.913   \n",
       "42216  30521          20                                   Fast Car   -15.523   \n",
       "5423   30521          20           I Heard It Through The Grapevine   -13.017   \n",
       "91393  30521          20  Papa Was A Rollin' Stone - Single Version   -12.915   \n",
       "\n",
       "      track_pos  \n",
       "55141        T0  \n",
       "95925        T1  \n",
       "42216        T2  \n",
       "5423         T3  \n",
       "91393        T4  "
      ]
     },
     "execution_count": 882,
     "metadata": {},
     "output_type": "execute_result"
    }
   ],
   "source": [
    "heatmap.head()"
   ]
  },
  {
   "cell_type": "markdown",
   "metadata": {
    "id": "9iSBogc26q0Z"
   },
   "source": [
    "Pivotear expandiendo el id `track_pos` a través de las columnas, dejando\n",
    "como fila un playlist identificado por `pid`, y cada celda representa\n",
    "un valor del atributo de la canción respectiva (e.g. `loudness`). "
   ]
  },
  {
   "cell_type": "code",
   "execution_count": 883,
   "metadata": {
    "id": "sl04DFst3QPQ"
   },
   "outputs": [],
   "source": [
    "heatmap = heatmap[['pid', 'track_pos', 'loudness']].reindex().pivot('pid', 'track_pos', 'loudness')"
   ]
  },
  {
   "cell_type": "code",
   "execution_count": 884,
   "metadata": {
    "colab": {
     "base_uri": "https://localhost:8080/",
     "height": 170
    },
    "id": "VQeoZp0D4jk_",
    "outputId": "b39d3f70-aaed-4257-c485-6394d275920a"
   },
   "outputs": [
    {
     "data": {
      "text/html": [
       "<div>\n",
       "<style scoped>\n",
       "    .dataframe tbody tr th:only-of-type {\n",
       "        vertical-align: middle;\n",
       "    }\n",
       "\n",
       "    .dataframe tbody tr th {\n",
       "        vertical-align: top;\n",
       "    }\n",
       "\n",
       "    .dataframe thead th {\n",
       "        text-align: right;\n",
       "    }\n",
       "</style>\n",
       "<table border=\"1\" class=\"dataframe\">\n",
       "  <thead>\n",
       "    <tr style=\"text-align: right;\">\n",
       "      <th>track_pos</th>\n",
       "      <th>T0</th>\n",
       "      <th>T1</th>\n",
       "      <th>T2</th>\n",
       "      <th>T3</th>\n",
       "      <th>T4</th>\n",
       "      <th>T5</th>\n",
       "      <th>T6</th>\n",
       "      <th>T7</th>\n",
       "      <th>T8</th>\n",
       "      <th>T9</th>\n",
       "      <th>T10</th>\n",
       "      <th>T11</th>\n",
       "      <th>T12</th>\n",
       "      <th>T13</th>\n",
       "      <th>T14</th>\n",
       "      <th>T15</th>\n",
       "      <th>T16</th>\n",
       "      <th>T17</th>\n",
       "      <th>T18</th>\n",
       "      <th>T19</th>\n",
       "    </tr>\n",
       "    <tr>\n",
       "      <th>pid</th>\n",
       "      <th></th>\n",
       "      <th></th>\n",
       "      <th></th>\n",
       "      <th></th>\n",
       "      <th></th>\n",
       "      <th></th>\n",
       "      <th></th>\n",
       "      <th></th>\n",
       "      <th></th>\n",
       "      <th></th>\n",
       "      <th></th>\n",
       "      <th></th>\n",
       "      <th></th>\n",
       "      <th></th>\n",
       "      <th></th>\n",
       "      <th></th>\n",
       "      <th></th>\n",
       "      <th></th>\n",
       "      <th></th>\n",
       "      <th></th>\n",
       "    </tr>\n",
       "  </thead>\n",
       "  <tbody>\n",
       "    <tr>\n",
       "      <th>30521</th>\n",
       "      <td>-16.729</td>\n",
       "      <td>-15.913</td>\n",
       "      <td>-15.523</td>\n",
       "      <td>-13.017</td>\n",
       "      <td>-12.915</td>\n",
       "      <td>-12.708</td>\n",
       "      <td>-12.584</td>\n",
       "      <td>-12.575</td>\n",
       "      <td>-11.226</td>\n",
       "      <td>-10.749</td>\n",
       "      <td>-10.499</td>\n",
       "      <td>-9.828</td>\n",
       "      <td>-9.700</td>\n",
       "      <td>-9.280</td>\n",
       "      <td>-7.726</td>\n",
       "      <td>-6.897</td>\n",
       "      <td>-5.653</td>\n",
       "      <td>-5.631</td>\n",
       "      <td>-5.009</td>\n",
       "      <td>-4.679</td>\n",
       "    </tr>\n",
       "    <tr>\n",
       "      <th>57521</th>\n",
       "      <td>-13.222</td>\n",
       "      <td>-9.850</td>\n",
       "      <td>-8.388</td>\n",
       "      <td>-8.235</td>\n",
       "      <td>-7.519</td>\n",
       "      <td>-6.903</td>\n",
       "      <td>-6.284</td>\n",
       "      <td>-6.042</td>\n",
       "      <td>-5.973</td>\n",
       "      <td>-5.935</td>\n",
       "      <td>-5.880</td>\n",
       "      <td>-5.724</td>\n",
       "      <td>-5.569</td>\n",
       "      <td>-5.473</td>\n",
       "      <td>-5.075</td>\n",
       "      <td>-5.070</td>\n",
       "      <td>-4.874</td>\n",
       "      <td>-4.831</td>\n",
       "      <td>-4.452</td>\n",
       "      <td>-3.269</td>\n",
       "    </tr>\n",
       "    <tr>\n",
       "      <th>182521</th>\n",
       "      <td>-14.436</td>\n",
       "      <td>-13.790</td>\n",
       "      <td>-13.637</td>\n",
       "      <td>-13.014</td>\n",
       "      <td>-12.529</td>\n",
       "      <td>-10.480</td>\n",
       "      <td>-10.276</td>\n",
       "      <td>-9.724</td>\n",
       "      <td>-8.867</td>\n",
       "      <td>-8.124</td>\n",
       "      <td>-6.780</td>\n",
       "      <td>-6.677</td>\n",
       "      <td>-5.830</td>\n",
       "      <td>-4.952</td>\n",
       "      <td>-4.532</td>\n",
       "      <td>-4.520</td>\n",
       "      <td>-3.783</td>\n",
       "      <td>-3.051</td>\n",
       "      <td>-2.969</td>\n",
       "      <td>-2.276</td>\n",
       "    </tr>\n",
       "  </tbody>\n",
       "</table>\n",
       "</div>"
      ],
      "text/plain": [
       "track_pos      T0      T1      T2      T3      T4      T5      T6      T7  \\\n",
       "pid                                                                         \n",
       "30521     -16.729 -15.913 -15.523 -13.017 -12.915 -12.708 -12.584 -12.575   \n",
       "57521     -13.222  -9.850  -8.388  -8.235  -7.519  -6.903  -6.284  -6.042   \n",
       "182521    -14.436 -13.790 -13.637 -13.014 -12.529 -10.480 -10.276  -9.724   \n",
       "\n",
       "track_pos      T8      T9     T10    T11    T12    T13    T14    T15    T16  \\\n",
       "pid                                                                           \n",
       "30521     -11.226 -10.749 -10.499 -9.828 -9.700 -9.280 -7.726 -6.897 -5.653   \n",
       "57521      -5.973  -5.935  -5.880 -5.724 -5.569 -5.473 -5.075 -5.070 -4.874   \n",
       "182521     -8.867  -8.124  -6.780 -6.677 -5.830 -4.952 -4.532 -4.520 -3.783   \n",
       "\n",
       "track_pos    T17    T18    T19  \n",
       "pid                             \n",
       "30521     -5.631 -5.009 -4.679  \n",
       "57521     -4.831 -4.452 -3.269  \n",
       "182521    -3.051 -2.969 -2.276  "
      ]
     },
     "execution_count": 884,
     "metadata": {},
     "output_type": "execute_result"
    }
   ],
   "source": [
    "heatmap.head(n=3)"
   ]
  },
  {
   "cell_type": "markdown",
   "metadata": {
    "id": "IypNefxz7buZ"
   },
   "source": [
    "De esta manera, podemos visualizar las listas por atributo con un mapa de calor:"
   ]
  },
  {
   "cell_type": "code",
   "execution_count": 885,
   "metadata": {
    "colab": {
     "base_uri": "https://localhost:8080/",
     "height": 558
    },
    "id": "oNRKH0XW7X_o",
    "outputId": "ebdbf70f-e1ca-451d-bfd1-929b6c1f38a5"
   },
   "outputs": [
    {
     "data": {
      "text/plain": [
       "Text(0.1, 0.046, 'Figura 1.00: Composición de loudness por playlist, medido por cada una de sus tracks. Los tracks fueron ordenados de menor a mayor según el atributo loudness.\\nFuente: Spotify 1M playlist dataset')"
      ]
     },
     "execution_count": 885,
     "metadata": {},
     "output_type": "execute_result"
    },
    {
     "data": {
      "image/png": "[encoded data removed]",
      "text/plain": [
       "<Figure size 1022.4x619.2 with 2 Axes>"
      ]
     },
     "metadata": {
      "needs_background": "light"
     },
     "output_type": "display_data"
    }
   ],
   "source": [
    "fig, ax = plt.subplots(figsize=(14.2, 8.6))\n",
    "\n",
    "# shrink: parametro para compactar el tamaño del colorbar\n",
    "sns.heatmap(heatmap,\n",
    "            linewidths=.01,\n",
    "            # Otros cmap: https://seaborn.pydata.org/tutorial/color_palettes.html\n",
    "            cmap=sns.color_palette(\"RdPu\", as_cmap=True),\n",
    "#            cmap=sns.diverging_palette(220, 20, as_cmap=True),\n",
    "#            cmap=sns.cubehelix_palette(start=.5, rot=-.5, as_cmap=True),\n",
    "            cbar_kws={\n",
    "                      'label':'loudness',\n",
    "                      'shrink': .375,\n",
    "                      # importante cambiar los dos parametros en conjunto\n",
    "                      'use_gridspec': False,\n",
    "                      'location':'top'\n",
    "                      })\n",
    "\n",
    "\n",
    "# 'apagar' el eje vertical izquierdo y 'encender' el derecho\n",
    "# argumento labelrotation=0 etiquetas de manera horizontal \n",
    "ax.tick_params(axis='both', \n",
    "                length=0,\n",
    "                left=False,\n",
    "                right=True,\n",
    "                labelleft=False, \n",
    "                labelright=True,\n",
    "                labelrotation=0,\n",
    "                )\n",
    "\n",
    "# eliminar títulos de los ejes x e y\n",
    "ax.set_xlabel(None)\n",
    "ax.set_ylabel(None)\n",
    "\n",
    "# Agregar texto descriptivo en la parte inferior del grá\ba\n",
    "fig.text(0.10, .046, \n",
    "         'Figura 1.00: Composición de loudness por playlist, medido por cada una de sus tracks. Los tracks fueron ordenados de menor a mayor según el atributo loudness.\\nFuente: Spotify 1M playlist dataset',\n",
    "         ha='left',\n",
    "         size=10)"
   ]
  },
  {
   "cell_type": "markdown",
   "metadata": {
    "id": "S6HH5pR__lPz"
   },
   "source": [
    "### Función para automatizar el gráfico\n",
    "\n",
    "**TODO:** wrappear en una función el procedimiento anterior."
   ]
  },
  {
   "cell_type": "code",
   "execution_count": 886,
   "metadata": {
    "id": "bZndsJqB7nqm"
   },
   "outputs": [],
   "source": [
    "def heatmap_playlist_atributo(df: pd.DataFrame, atributo: str, num_tracks: int,\n",
    "                              footer: bool = False) -> None:\n",
    "  '''Describir brevemente esto...'''\n",
    "\n",
    "  # 1. Preprocesar data\n",
    "  heatmap = df.loc[df.num_tracks == num_tracks, ['pid', 'num_tracks', 'track_name', atributo]]\n",
    "  heatmap.sort_values(['pid', atributo], inplace=True)\n",
    "  heatmap['track_pos'] = heatmap.groupby('pid').cumcount()\n",
    "  heatmap['track_pos'] = pd.Categorical(\n",
    "    heatmap['track_pos'].apply(lambda x: 'T' + str(x)),\n",
    "    categories = ['T' + str(x) for x in range(0, heatmap.num_tracks.max())],\n",
    "    ordered = True\n",
    "  )\n",
    "  heatmap = heatmap[['pid', 'track_pos', atributo]].reindex().pivot('pid', 'track_pos', atributo)\n",
    "\n",
    "  # 2. Crear visualización del heatmap\n",
    "  #fig, ax = plt.subplots(figsize=(14.2, 8.6))\n",
    "\n",
    "  # shrink: parametro para compactar el tamaño del colorbar\n",
    "  sns.heatmap(heatmap,\n",
    "              linewidths=.01,\n",
    "              # Otros cmap: https://seaborn.pydata.org/tutorial/color_palettes.html\n",
    "              cmap=sns.color_palette(\"RdPu\", as_cmap=True),\n",
    "              cbar_kws={\n",
    "                        'label': atributo,\n",
    "                        'shrink': .375,\n",
    "                        # importante cambiar los dos parametros en conjunto\n",
    "                        'use_gridspec': False,\n",
    "                        'location':'top'\n",
    "                        })\n",
    "\n",
    "\n",
    "  # 'apagar' el eje vertical izquierdo y 'encender' el derecho\n",
    "  # argumento labelrotation=0 etiquetas de manera horizontal \n",
    "  ax.tick_params(axis='both', \n",
    "                  length=0,\n",
    "                  left=False,\n",
    "                  right=True,\n",
    "                  labelleft=False, \n",
    "                  labelright=True,\n",
    "                  labelrotation=0,\n",
    "                  )\n",
    "\n",
    "  # eliminar títulos de los ejes x e y\n",
    "  ax.set_xlabel(None)\n",
    "  ax.set_ylabel(None)\n",
    "\n",
    "  if footer:\n",
    "    # Agregar texto descriptivo en la parte inferior del grá\ba\n",
    "    fig.text(0.10, .046, \n",
    "            f'Figura 1.00: Composición de {atributo} por playlist, medido por cada una de sus tracks. Los tracks fueron ordenados de menor a mayor según el atributo {atributo}.\\nFuente: Spotify 1M playlist dataset',\n",
    "            ha='left',\n",
    "            size=10)"
   ]
  },
  {
   "cell_type": "code",
   "execution_count": 887,
   "metadata": {
    "colab": {
     "base_uri": "https://localhost:8080/",
     "height": 290
    },
    "id": "m4hLYtrtAAEV",
    "outputId": "50c928d5-4acf-478e-91bc-5c7c77472ac1"
   },
   "outputs": [
    {
     "data": {
      "image/png": "[encoded data removed]",
      "text/plain": [
       "<Figure size 432x288 with 2 Axes>"
      ]
     },
     "metadata": {
      "needs_background": "light"
     },
     "output_type": "display_data"
    }
   ],
   "source": [
    "heatmap_playlist_atributo(df, 'loudness', 40, footer=True)"
   ]
  },
  {
   "cell_type": "code",
   "execution_count": 888,
   "metadata": {
    "colab": {
     "base_uri": "https://localhost:8080/",
     "height": 290
    },
    "id": "y7YUaqYtB-vU",
    "outputId": "97885e7e-c23d-4d73-8f3f-1860a7c65b8f"
   },
   "outputs": [
    {
     "data": {
      "image/png": "[encoded data removed]",
      "text/plain": [
       "<Figure size 432x288 with 2 Axes>"
      ]
     },
     "metadata": {
      "needs_background": "light"
     },
     "output_type": "display_data"
    }
   ],
   "source": [
    "heatmap_playlist_atributo(df, 'valence', 40, footer=True)"
   ]
  },
  {
   "cell_type": "code",
   "execution_count": 889,
   "metadata": {
    "colab": {
     "base_uri": "https://localhost:8080/"
    },
    "id": "KLp-5Nk8BUVF",
    "outputId": "678cd26c-1dad-41b3-8047-c5a750e0a404"
   },
   "outputs": [
    {
     "data": {
      "text/plain": [
       "Index(['name', 'collaborative', 'pid', 'modified_at', 'num_tracks',\n",
       "       'num_albums', 'num_followers', 'num_edits', 'duration_ms_x',\n",
       "       'num_artists', 'description', 'pos', 'artist_name', 'track_uri',\n",
       "       'artist_uri', 'track_name', 'album_uri', 'album_name', 'danceability',\n",
       "       'energy', 'key', 'loudness', 'mode', 'speechiness', 'acousticness',\n",
       "       'instrumentalness', 'liveness', 'valence', 'tempo', 'type', 'id', 'uri',\n",
       "       'track_href', 'analysis_url', 'duration_ms_y', 'time_signature'],\n",
       "      dtype='object')"
      ]
     },
     "execution_count": 889,
     "metadata": {},
     "output_type": "execute_result"
    }
   ],
   "source": [
    "df.columns"
   ]
  },
  {
   "cell_type": "markdown",
   "metadata": {
    "id": "0hoX6rBIIhVR"
   },
   "source": [
    "Crear una grilla con todas las caracterizaciones por track features:"
   ]
  },
  {
   "cell_type": "code",
   "execution_count": 890,
   "metadata": {
    "id": "BzsNx0agBa33"
   },
   "outputs": [],
   "source": [
    "track_features = ['danceability', 'energy', 'tempo', 'loudness', 'mode', 'speechiness',\\\n",
    "                  'acousticness', 'instrumentalness', 'liveness', 'valence']"
   ]
  },
  {
   "cell_type": "markdown",
   "metadata": {
    "id": "ojWUpeeTInxE"
   },
   "source": [
    "Antes de correr la siguiente línea, comentar la línea de código en\n",
    "`heatmap_playlist_atributo` que establece el tamaño de la figura."
   ]
  },
  {
   "cell_type": "code",
   "execution_count": 891,
   "metadata": {
    "colab": {
     "base_uri": "https://localhost:8080/",
     "height": 1000
    },
    "id": "c4e3R6NIE6Jh",
    "outputId": "2f40b9c0-d5fe-45bb-840b-5b2761ae1ca5"
   },
   "outputs": [
    {
     "data": {
      "image/png": "[encoded data removed]",
      "text/plain": [
       "<Figure size 1800x1584 with 20 Axes>"
      ]
     },
     "metadata": {
      "needs_background": "light"
     },
     "output_type": "display_data"
    }
   ],
   "source": [
    "fig = plt.figure(figsize=(25, 22))\n",
    "fig.subplots_adjust(hspace=0.4, wspace=0.2)\n",
    "for i in range(1, 11):\n",
    "    ax = fig.add_subplot(5, 2, i)\n",
    "    heatmap_playlist_atributo(df, track_features[i-1], 40, footer=False)\n",
    "\n",
    "#fig.suptitle('Caracterización de playlists por atributo de sus tracks')\n",
    "fig.text(0.10, .046, \n",
    "         f'Figura 1.00: Composición de atributo por playlist, medido por cada una de sus tracks. Los tracks fueron ordenados de menor a mayor según el atributo.\\nFuente: Spotify 1M playlist dataset',\n",
    "         ha='left',\n",
    "         size=10)\n",
    "fig.savefig('heatmap_features.png', dpi=320, bbox_inches='tight')"
   ]
  },
  {
   "cell_type": "markdown",
   "metadata": {
    "id": "hBnkGIglQZ3L"
   },
   "source": [
    "## Distancias entre listas\n",
    "\n",
    "Una forma directa de recomendar canciones respecto\n",
    "a una _playlist_ es encontrar un conjunto de canciones candidatas basadas\n",
    "en las Nth _playlist_ más cercanas.\n",
    "\n",
    "**Objetivo:** crear una matriz de proximidad entre todas las listas en base\n",
    "a los atributos de las canciones que las componen.\n",
    "\n",
    "1. Se propone compactar los atributos de todas las canciones que pertenecen\n",
    "a una _playlist_ en una vector de atributos agregados (e.g. media).\n",
    "1. Computar las distancias según los vectores agregados entre todas las\n",
    "_playlists_.\n",
    "1. Seleccionar para cada _playlist_ los N _playlists_ más cercanas y\n",
    "obtener sus id's.\n",
    "1. Agregar una posible capa de filtros, i.e. canciones de esas listas\n",
    "más cercanas que definitivamente no queremos recomendar.\n",
    "1. Rankear las canciones restantes en base algún modelo o mécanismo para escoger\n",
    "las primeras N canciones.\n",
    "\n",
    "\n",
    "Nota: el sistema no requiere ningún entrenamiento, pero se debe\n",
    "almacenar toda la data de entrenamiento para computa la matriz de\n",
    "proximidad para una nueva lista.\n",
    "Revisar algoritmos _approximate nearest neighbors_ los que seleccionnan\n",
    "un subdominio antes de computar los vecinos más cercanos."
   ]
  },
  {
   "cell_type": "code",
   "execution_count": 892,
   "metadata": {
    "colab": {
     "base_uri": "https://localhost:8080/"
    },
    "id": "ckH_6T38hBPm",
    "outputId": "ed406499-3d76-4542-e7db-d6291edeee70"
   },
   "outputs": [
    {
     "data": {
      "text/plain": [
       "Index(['name', 'collaborative', 'pid', 'modified_at', 'num_tracks',\n",
       "       'num_albums', 'num_followers', 'num_edits', 'duration_ms_x',\n",
       "       'num_artists', 'description', 'pos', 'artist_name', 'track_uri',\n",
       "       'artist_uri', 'track_name', 'album_uri', 'album_name', 'danceability',\n",
       "       'energy', 'key', 'loudness', 'mode', 'speechiness', 'acousticness',\n",
       "       'instrumentalness', 'liveness', 'valence', 'tempo', 'type', 'id', 'uri',\n",
       "       'track_href', 'analysis_url', 'duration_ms_y', 'time_signature'],\n",
       "      dtype='object')"
      ]
     },
     "execution_count": 892,
     "metadata": {},
     "output_type": "execute_result"
    }
   ],
   "source": [
    "df.columns"
   ]
  },
  {
   "cell_type": "markdown",
   "metadata": {
    "id": "Kc8LB2kxhS5l"
   },
   "source": [
    "Agrupar todas las características de las canciones por identificador\n",
    "de las _playlists_ (i.e. `pid`):\n",
    "\n",
    "* Utilizar el promedio\n",
    "* Probar con otro tipo de metricas si cambian los set de listas más cercanas"
   ]
  },
  {
   "cell_type": "code",
   "execution_count": 893,
   "metadata": {
    "id": "7OJMMdEhhJn3"
   },
   "outputs": [],
   "source": [
    "features_by_pid = df[['pid','danceability', 'energy', 'key', 'loudness', 'mode',\n",
    "                      'speechiness', 'acousticness', 'instrumentalness', 'liveness',\n",
    "                      'valence', 'tempo']]"
   ]
  },
  {
   "cell_type": "code",
   "execution_count": 894,
   "metadata": {
    "colab": {
     "base_uri": "https://localhost:8080/",
     "height": 206
    },
    "id": "ZemrffC1hfHe",
    "outputId": "c9e0845a-0a44-4d0c-b2d3-3cbd0991e738"
   },
   "outputs": [
    {
     "data": {
      "text/html": [
       "<div>\n",
       "<style scoped>\n",
       "    .dataframe tbody tr th:only-of-type {\n",
       "        vertical-align: middle;\n",
       "    }\n",
       "\n",
       "    .dataframe tbody tr th {\n",
       "        vertical-align: top;\n",
       "    }\n",
       "\n",
       "    .dataframe thead th {\n",
       "        text-align: right;\n",
       "    }\n",
       "</style>\n",
       "<table border=\"1\" class=\"dataframe\">\n",
       "  <thead>\n",
       "    <tr style=\"text-align: right;\">\n",
       "      <th></th>\n",
       "      <th>pid</th>\n",
       "      <th>danceability</th>\n",
       "      <th>energy</th>\n",
       "      <th>key</th>\n",
       "      <th>loudness</th>\n",
       "      <th>mode</th>\n",
       "      <th>speechiness</th>\n",
       "      <th>acousticness</th>\n",
       "      <th>instrumentalness</th>\n",
       "      <th>liveness</th>\n",
       "      <th>valence</th>\n",
       "      <th>tempo</th>\n",
       "    </tr>\n",
       "  </thead>\n",
       "  <tbody>\n",
       "    <tr>\n",
       "      <th>0</th>\n",
       "      <td>521</td>\n",
       "      <td>0.571929</td>\n",
       "      <td>0.603583</td>\n",
       "      <td>5.622047</td>\n",
       "      <td>-6.723984</td>\n",
       "      <td>0.645669</td>\n",
       "      <td>0.078784</td>\n",
       "      <td>0.265756</td>\n",
       "      <td>0.004983</td>\n",
       "      <td>0.165848</td>\n",
       "      <td>0.424082</td>\n",
       "      <td>121.238457</td>\n",
       "    </tr>\n",
       "    <tr>\n",
       "      <th>1</th>\n",
       "      <td>737</td>\n",
       "      <td>0.734743</td>\n",
       "      <td>0.700514</td>\n",
       "      <td>4.685714</td>\n",
       "      <td>-5.318743</td>\n",
       "      <td>0.514286</td>\n",
       "      <td>0.116509</td>\n",
       "      <td>0.231363</td>\n",
       "      <td>0.005657</td>\n",
       "      <td>0.168220</td>\n",
       "      <td>0.564543</td>\n",
       "      <td>121.309914</td>\n",
       "    </tr>\n",
       "    <tr>\n",
       "      <th>2</th>\n",
       "      <td>1521</td>\n",
       "      <td>0.571094</td>\n",
       "      <td>0.495594</td>\n",
       "      <td>5.593750</td>\n",
       "      <td>-9.276594</td>\n",
       "      <td>0.531250</td>\n",
       "      <td>0.053484</td>\n",
       "      <td>0.427185</td>\n",
       "      <td>0.181054</td>\n",
       "      <td>0.163422</td>\n",
       "      <td>0.375644</td>\n",
       "      <td>123.958344</td>\n",
       "    </tr>\n",
       "    <tr>\n",
       "      <th>3</th>\n",
       "      <td>1737</td>\n",
       "      <td>0.639841</td>\n",
       "      <td>0.560682</td>\n",
       "      <td>4.840909</td>\n",
       "      <td>-7.329977</td>\n",
       "      <td>0.568182</td>\n",
       "      <td>0.215809</td>\n",
       "      <td>0.283882</td>\n",
       "      <td>0.009141</td>\n",
       "      <td>0.194118</td>\n",
       "      <td>0.403686</td>\n",
       "      <td>119.328409</td>\n",
       "    </tr>\n",
       "    <tr>\n",
       "      <th>4</th>\n",
       "      <td>2521</td>\n",
       "      <td>0.725965</td>\n",
       "      <td>0.826105</td>\n",
       "      <td>5.771930</td>\n",
       "      <td>-4.143842</td>\n",
       "      <td>0.543860</td>\n",
       "      <td>0.079498</td>\n",
       "      <td>0.163493</td>\n",
       "      <td>0.001273</td>\n",
       "      <td>0.177870</td>\n",
       "      <td>0.725211</td>\n",
       "      <td>112.510000</td>\n",
       "    </tr>\n",
       "  </tbody>\n",
       "</table>\n",
       "</div>"
      ],
      "text/plain": [
       "    pid  danceability    energy       key  loudness      mode  speechiness  \\\n",
       "0   521      0.571929  0.603583  5.622047 -6.723984  0.645669     0.078784   \n",
       "1   737      0.734743  0.700514  4.685714 -5.318743  0.514286     0.116509   \n",
       "2  1521      0.571094  0.495594  5.593750 -9.276594  0.531250     0.053484   \n",
       "3  1737      0.639841  0.560682  4.840909 -7.329977  0.568182     0.215809   \n",
       "4  2521      0.725965  0.826105  5.771930 -4.143842  0.543860     0.079498   \n",
       "\n",
       "   acousticness  instrumentalness  liveness   valence       tempo  \n",
       "0      0.265756          0.004983  0.165848  0.424082  121.238457  \n",
       "1      0.231363          0.005657  0.168220  0.564543  121.309914  \n",
       "2      0.427185          0.181054  0.163422  0.375644  123.958344  \n",
       "3      0.283882          0.009141  0.194118  0.403686  119.328409  \n",
       "4      0.163493          0.001273  0.177870  0.725211  112.510000  "
      ]
     },
     "execution_count": 894,
     "metadata": {},
     "output_type": "execute_result"
    }
   ],
   "source": [
    "avg_features_by_pid = features_by_pid.groupby('pid').mean().reset_index()\n",
    "avg_features_by_pid.head(n=5)"
   ]
  },
  {
   "cell_type": "code",
   "execution_count": 895,
   "metadata": {
    "id": "BaaC5wDUWsPP"
   },
   "outputs": [],
   "source": [
    "y_pid = np.array(avg_features_by_pid.pid)"
   ]
  },
  {
   "cell_type": "markdown",
   "metadata": {
    "id": "q-gDx3p-kO1h"
   },
   "source": [
    "### Contruir Matriz de proximidad"
   ]
  },
  {
   "cell_type": "markdown",
   "metadata": {
    "id": "btoCyik6kby9"
   },
   "source": [
    "Una vez que tengamos la matriz con los vectores promedios\n",
    "de los atributos de canciones según _playlist_, es posible crear una matriz de proximidad fácilmente con `scipy.spatial.distancia_matrix`."
   ]
  },
  {
   "cell_type": "code",
   "execution_count": 896,
   "metadata": {
    "colab": {
     "base_uri": "https://localhost:8080/",
     "height": 277
    },
    "id": "o5gQbR-ydRwd",
    "outputId": "22b5f345-9349-4d21-d640-d922c02a2626",
    "scrolled": true
   },
   "outputs": [
    {
     "data": {
      "text/plain": [
       "<matplotlib.colorbar.Colorbar at 0x7f3998c9f340>"
      ]
     },
     "execution_count": 896,
     "metadata": {},
     "output_type": "execute_result"
    },
    {
     "data": {
      "image/png": "[encoded data removed]",
      "text/plain": [
       "<Figure size 288x288 with 2 Axes>"
      ]
     },
     "metadata": {
      "needs_background": "light"
     },
     "output_type": "display_data"
    }
   ],
   "source": [
    "# Calcular matriz de distancia entre features promedio de cada playlist\n",
    "from scipy.spatial import distance_matrix\n",
    "playlists_similarity = distance_matrix(avg_features_by_pid, avg_features_by_pid)\n",
    "plt.matshow(playlists_similarity)\n",
    "plt.colorbar()"
   ]
  },
  {
   "cell_type": "markdown",
   "metadata": {
    "id": "D5rBFGa3k7dz"
   },
   "source": [
    "Dado el indice que representa una lista, obtenemos información acerca\n",
    "de sus N listas más cercanas:"
   ]
  },
  {
   "cell_type": "code",
   "execution_count": 897,
   "metadata": {
    "colab": {
     "base_uri": "https://localhost:8080/",
     "height": 224
    },
    "id": "S7--pbw6du8o",
    "outputId": "5090d44c-b723-49e3-92dd-5b3cd50d1420",
    "scrolled": true
   },
   "outputs": [
    {
     "name": "stdout",
     "output_type": "stream",
     "text": [
      "[1521 2521  737 2737  521]\n"
     ]
    },
    {
     "data": {
      "text/html": [
       "<div>\n",
       "<style scoped>\n",
       "    .dataframe tbody tr th:only-of-type {\n",
       "        vertical-align: middle;\n",
       "    }\n",
       "\n",
       "    .dataframe tbody tr th {\n",
       "        vertical-align: top;\n",
       "    }\n",
       "\n",
       "    .dataframe thead th {\n",
       "        text-align: right;\n",
       "    }\n",
       "</style>\n",
       "<table border=\"1\" class=\"dataframe\">\n",
       "  <thead>\n",
       "    <tr style=\"text-align: right;\">\n",
       "      <th></th>\n",
       "      <th>pid</th>\n",
       "      <th>danceability</th>\n",
       "      <th>energy</th>\n",
       "      <th>key</th>\n",
       "      <th>loudness</th>\n",
       "      <th>mode</th>\n",
       "      <th>speechiness</th>\n",
       "      <th>acousticness</th>\n",
       "      <th>instrumentalness</th>\n",
       "      <th>liveness</th>\n",
       "      <th>valence</th>\n",
       "      <th>tempo</th>\n",
       "    </tr>\n",
       "  </thead>\n",
       "  <tbody>\n",
       "    <tr>\n",
       "      <th>2</th>\n",
       "      <td>1521</td>\n",
       "      <td>0.571094</td>\n",
       "      <td>0.495594</td>\n",
       "      <td>5.593750</td>\n",
       "      <td>-9.276594</td>\n",
       "      <td>0.531250</td>\n",
       "      <td>0.053484</td>\n",
       "      <td>0.427185</td>\n",
       "      <td>0.181054</td>\n",
       "      <td>0.163422</td>\n",
       "      <td>0.375644</td>\n",
       "      <td>123.958344</td>\n",
       "    </tr>\n",
       "    <tr>\n",
       "      <th>4</th>\n",
       "      <td>2521</td>\n",
       "      <td>0.725965</td>\n",
       "      <td>0.826105</td>\n",
       "      <td>5.771930</td>\n",
       "      <td>-4.143842</td>\n",
       "      <td>0.543860</td>\n",
       "      <td>0.079498</td>\n",
       "      <td>0.163493</td>\n",
       "      <td>0.001273</td>\n",
       "      <td>0.177870</td>\n",
       "      <td>0.725211</td>\n",
       "      <td>112.510000</td>\n",
       "    </tr>\n",
       "    <tr>\n",
       "      <th>1</th>\n",
       "      <td>737</td>\n",
       "      <td>0.734743</td>\n",
       "      <td>0.700514</td>\n",
       "      <td>4.685714</td>\n",
       "      <td>-5.318743</td>\n",
       "      <td>0.514286</td>\n",
       "      <td>0.116509</td>\n",
       "      <td>0.231363</td>\n",
       "      <td>0.005657</td>\n",
       "      <td>0.168220</td>\n",
       "      <td>0.564543</td>\n",
       "      <td>121.309914</td>\n",
       "    </tr>\n",
       "    <tr>\n",
       "      <th>5</th>\n",
       "      <td>2737</td>\n",
       "      <td>0.584560</td>\n",
       "      <td>0.405120</td>\n",
       "      <td>4.720000</td>\n",
       "      <td>-8.506720</td>\n",
       "      <td>0.880000</td>\n",
       "      <td>0.038796</td>\n",
       "      <td>0.503012</td>\n",
       "      <td>0.000498</td>\n",
       "      <td>0.157072</td>\n",
       "      <td>0.388872</td>\n",
       "      <td>114.178680</td>\n",
       "    </tr>\n",
       "    <tr>\n",
       "      <th>0</th>\n",
       "      <td>521</td>\n",
       "      <td>0.571929</td>\n",
       "      <td>0.603583</td>\n",
       "      <td>5.622047</td>\n",
       "      <td>-6.723984</td>\n",
       "      <td>0.645669</td>\n",
       "      <td>0.078784</td>\n",
       "      <td>0.265756</td>\n",
       "      <td>0.004983</td>\n",
       "      <td>0.165848</td>\n",
       "      <td>0.424082</td>\n",
       "      <td>121.238457</td>\n",
       "    </tr>\n",
       "  </tbody>\n",
       "</table>\n",
       "</div>"
      ],
      "text/plain": [
       "    pid  danceability    energy       key  loudness      mode  speechiness  \\\n",
       "2  1521      0.571094  0.495594  5.593750 -9.276594  0.531250     0.053484   \n",
       "4  2521      0.725965  0.826105  5.771930 -4.143842  0.543860     0.079498   \n",
       "1   737      0.734743  0.700514  4.685714 -5.318743  0.514286     0.116509   \n",
       "5  2737      0.584560  0.405120  4.720000 -8.506720  0.880000     0.038796   \n",
       "0   521      0.571929  0.603583  5.622047 -6.723984  0.645669     0.078784   \n",
       "\n",
       "   acousticness  instrumentalness  liveness   valence       tempo  \n",
       "2      0.427185          0.181054  0.163422  0.375644  123.958344  \n",
       "4      0.163493          0.001273  0.177870  0.725211  112.510000  \n",
       "1      0.231363          0.005657  0.168220  0.564543  121.309914  \n",
       "5      0.503012          0.000498  0.157072  0.388872  114.178680  \n",
       "0      0.265756          0.004983  0.165848  0.424082  121.238457  "
      ]
     },
     "execution_count": 897,
     "metadata": {},
     "output_type": "execute_result"
    }
   ],
   "source": [
    "L_idx=3\n",
    "N=5\n",
    "\n",
    "closest_N_index = np.argsort(playlists_similarity[L_idx, :])[1:N+1]\n",
    "closest_pid = y_pid[closest_N_index]\n",
    "print(closest_pid)\n",
    "avg_features_by_pid.iloc[closest_N_index, :]"
   ]
  },
  {
   "cell_type": "code",
   "execution_count": 898,
   "metadata": {},
   "outputs": [
    {
     "data": {
      "text/plain": [
       "pid                 1737.000000\n",
       "danceability           0.639841\n",
       "energy                 0.560682\n",
       "key                    4.840909\n",
       "loudness              -7.329977\n",
       "mode                   0.568182\n",
       "speechiness            0.215809\n",
       "acousticness           0.283882\n",
       "instrumentalness       0.009141\n",
       "liveness               0.194118\n",
       "valence                0.403686\n",
       "tempo                119.328409\n",
       "Name: 3, dtype: float64"
      ]
     },
     "execution_count": 898,
     "metadata": {},
     "output_type": "execute_result"
    }
   ],
   "source": [
    "avg_features_by_pid.iloc[L_idx, :]"
   ]
  },
  {
   "cell_type": "markdown",
   "metadata": {
    "id": "kFFrQwORi4la"
   },
   "source": [
    "A modo de verificar que una lista no domine la proximidad entre todas,\n",
    "se analiza el número de veces que cada lista aparece en las 5 listas\n",
    "más cercanas de otra."
   ]
  },
  {
   "cell_type": "code",
   "execution_count": 899,
   "metadata": {
    "id": "TkEFSdAEg_YS"
   },
   "outputs": [],
   "source": [
    "counter = np.zeros(playlists_similarity.shape[0])\n",
    "N=5\n",
    "for i in range(playlists_similarity.shape[0]):\n",
    "  closest_N_index = np.argsort(playlists_similarity[i, :])[:N+1][1:]\n",
    "  counter[closest_N_index] += 1"
   ]
  },
  {
   "cell_type": "code",
   "execution_count": 900,
   "metadata": {
    "colab": {
     "base_uri": "https://localhost:8080/",
     "height": 282
    },
    "id": "TlwdPZ1thd74",
    "outputId": "8825971e-e4a2-48d2-eb59-87b6c2ac194f"
   },
   "outputs": [
    {
     "data": {
      "text/plain": [
       "<matplotlib.collections.PathCollection at 0x7f3998b02460>"
      ]
     },
     "execution_count": 900,
     "metadata": {},
     "output_type": "execute_result"
    },
    {
     "data": {
      "image/png": "[encoded data removed]",
      "text/plain": [
       "<Figure size 432x288 with 1 Axes>"
      ]
     },
     "metadata": {
      "needs_background": "light"
     },
     "output_type": "display_data"
    }
   ],
   "source": [
    "plt.scatter(np.arange(playlists_similarity.shape[0]), counter)"
   ]
  },
  {
   "cell_type": "markdown",
   "metadata": {
    "id": "rHmBB8LrjCt7"
   },
   "source": [
    "Ningúna lista esta más de 7 veces en el top 5 de listas cercanas del resto."
   ]
  },
  {
   "cell_type": "markdown",
   "metadata": {
    "id": "FcqsEtC2jnMv"
   },
   "source": [
    "Explorar el número de canciones para una lista en particular respecto\n",
    "al conjunto de canciones en las N-listas más cercanas.\n"
   ]
  },
  {
   "cell_type": "code",
   "execution_count": 901,
   "metadata": {
    "colab": {
     "base_uri": "https://localhost:8080/"
    },
    "id": "xeA6j6h8jLwk",
    "outputId": "0d286254-9efe-4f9c-b8a8-49576e678790"
   },
   "outputs": [
    {
     "name": "stdout",
     "output_type": "stream",
     "text": [
      "Información sobre canciones\n",
      "-----------------------------\n",
      "Número de canciones contenidas en ambos set (playlists):  0\n",
      "Nombre canciones en ambos set:  set()\n",
      "Número de canciones distintas entre ambos set (playlists):  12 \n",
      "\n",
      "Información sobre artista\n",
      "-------------------------------\n",
      "Número de artistas contenidos en ambos set (playlists):  0\n",
      "Nombre artistas en ambos set:  set()\n",
      "Número de artistas distintas entre ambos set (playlists):  3\n"
     ]
    }
   ],
   "source": [
    "L_idx=830\n",
    "N=5\n",
    "closest_N_index = np.argsort(playlists_similarity[L_idx, :])[:N+1][1:]\n",
    "closest_pid = y_pid[closest_N_index]\n",
    "\n",
    "# Obtener información de las canciones de las N listas más cercanas\n",
    "KNP_df = df.loc[np.isin(df.pid, closest_pid), :]\n",
    "possible_tracks = set(KNP_df.loc[:, 'track_name'])\n",
    "possible_artists = set(KNP_df.loc[:, 'artist_name'])\n",
    "current_tracks = set(df.loc[df.pid == y_pid[L_idx], 'track_name'])\n",
    "current_artists = set(df.loc[df.pid == y_pid[L_idx], 'artist_name'])\n",
    "\n",
    "print('Información sobre canciones\\n-----------------------------')\n",
    "print('Número de canciones contenidas en ambos set (playlists): ', len(current_tracks.intersection(possible_tracks)))\n",
    "print('Nombre canciones en ambos set: ', current_tracks.intersection(possible_tracks))\n",
    "print('Número de canciones distintas entre ambos set (playlists): ', len(current_tracks.difference(possible_tracks)), '\\n')\n",
    "print('Información sobre artista\\n-------------------------------')\n",
    "print('Número de artistas contenidos en ambos set (playlists): ', len(current_artists.intersection(possible_artists)))\n",
    "print('Nombre artistas en ambos set: ', current_artists.intersection(possible_artists))\n",
    "print('Número de artistas distintas entre ambos set (playlists): ', len(current_artists.difference(possible_artists)))"
   ]
  },
  {
   "cell_type": "markdown",
   "metadata": {
    "id": "lHdd4vAOl23r"
   },
   "source": [
    "Crear un histograma con el número de canciones que tiene en común con el set\n",
    "de candidatos a proponer."
   ]
  },
  {
   "cell_type": "code",
   "execution_count": 902,
   "metadata": {
    "id": "V2veTvtSl-d6"
   },
   "outputs": [],
   "source": [
    "num_common_tracks = np.zeros(playlists_similarity.shape[0])\n",
    "num_common_artists = np.zeros(playlists_similarity.shape[0])\n",
    "\n",
    "N=5\n",
    "\n",
    "for i in range(playlists_similarity.shape[0]):\n",
    "  closest_N_index = np.argsort(playlists_similarity[i, :])[:N+1][1:]\n",
    "  closest_pid = y_pid[closest_N_index]\n",
    "\n",
    "  KNP_df = df.loc[np.isin(df.pid, closest_pid), :]\n",
    "  possible_tracks = set(KNP_df.loc[:, 'track_name'])\n",
    "  current_tracks = set(df.loc[df.pid == y_pid[i], 'track_name'])\n",
    "  possible_artists = set(KNP_df.loc[:, 'artist_name'])\n",
    "  current_artists = set(df.loc[df.pid == y_pid[i], 'artist_name'])\n",
    "\n",
    "  num_common_tracks[i] = len(current_tracks.intersection(possible_tracks))\n",
    "  num_common_artists[i] = len(current_artists.intersection(possible_artists))"
   ]
  },
  {
   "cell_type": "code",
   "execution_count": 903,
   "metadata": {
    "colab": {
     "base_uri": "https://localhost:8080/",
     "height": 390
    },
    "id": "UreMv6d9mbF3",
    "outputId": "3df773fe-df74-48d3-ffd9-b977a9560eca",
    "scrolled": true
   },
   "outputs": [
    {
     "data": {
      "image/png": "[encoded data removed]",
      "text/plain": [
       "<Figure size 720x432 with 4 Axes>"
      ]
     },
     "metadata": {
      "needs_background": "light"
     },
     "output_type": "display_data"
    }
   ],
   "source": [
    "plt.figure(figsize=(10, 6));\n",
    "plt.subplot(2,2,1);\n",
    "plt.plot(num_common_tracks, 'o', alpha=.4)\n",
    "plt.title('Canciones en común por PID');\n",
    "\n",
    "plt.subplot(2,2,2);\n",
    "plt.hist(num_common_tracks);\n",
    "plt.title('Histograma de # canciones en común');\n",
    "\n",
    "plt.subplot(2,2,3);\n",
    "plt.plot(num_common_artists, 'o', alpha=.5);\n",
    "plt.title('Artistas en común por PID');\n",
    "\n",
    "plt.subplot(2,2,4);\n",
    "plt.hist(num_common_artists);\n",
    "plt.title('Histograma de # artistas en común');"
   ]
  },
  {
   "cell_type": "markdown",
   "metadata": {},
   "source": [
    "### Se crea un Dataframe con las features de los audios + artist_uri"
   ]
  },
  {
   "cell_type": "code",
   "execution_count": 904,
   "metadata": {},
   "outputs": [
    {
     "data": {
      "text/html": [
       "<div>\n",
       "<style scoped>\n",
       "    .dataframe tbody tr th:only-of-type {\n",
       "        vertical-align: middle;\n",
       "    }\n",
       "\n",
       "    .dataframe tbody tr th {\n",
       "        vertical-align: top;\n",
       "    }\n",
       "\n",
       "    .dataframe thead th {\n",
       "        text-align: right;\n",
       "    }\n",
       "</style>\n",
       "<table border=\"1\" class=\"dataframe\">\n",
       "  <thead>\n",
       "    <tr style=\"text-align: right;\">\n",
       "      <th></th>\n",
       "      <th>pid</th>\n",
       "      <th>artist_uri</th>\n",
       "      <th>uri</th>\n",
       "      <th>danceability</th>\n",
       "      <th>energy</th>\n",
       "      <th>key</th>\n",
       "      <th>loudness</th>\n",
       "      <th>mode</th>\n",
       "      <th>speechiness</th>\n",
       "      <th>acousticness</th>\n",
       "      <th>instrumentalness</th>\n",
       "      <th>liveness</th>\n",
       "      <th>valence</th>\n",
       "      <th>tempo</th>\n",
       "      <th>artists.popularity</th>\n",
       "    </tr>\n",
       "  </thead>\n",
       "  <tbody>\n",
       "    <tr>\n",
       "      <th>0</th>\n",
       "      <td>521</td>\n",
       "      <td>spotify:artist:25uiPmTg16RbhZWAqwLBy5</td>\n",
       "      <td>spotify:track:0y8Wf6ltWpGCpgqVa21QNX</td>\n",
       "      <td>0.653</td>\n",
       "      <td>0.794</td>\n",
       "      <td>7</td>\n",
       "      <td>-3.828</td>\n",
       "      <td>1</td>\n",
       "      <td>0.0894</td>\n",
       "      <td>0.1210</td>\n",
       "      <td>0.000000</td>\n",
       "      <td>0.3650</td>\n",
       "      <td>0.645</td>\n",
       "      <td>93.008</td>\n",
       "      <td>83.0</td>\n",
       "    </tr>\n",
       "    <tr>\n",
       "      <th>1</th>\n",
       "      <td>535521</td>\n",
       "      <td>spotify:artist:25uiPmTg16RbhZWAqwLBy5</td>\n",
       "      <td>spotify:track:0y8Wf6ltWpGCpgqVa21QNX</td>\n",
       "      <td>0.653</td>\n",
       "      <td>0.794</td>\n",
       "      <td>7</td>\n",
       "      <td>-3.828</td>\n",
       "      <td>1</td>\n",
       "      <td>0.0894</td>\n",
       "      <td>0.1210</td>\n",
       "      <td>0.000000</td>\n",
       "      <td>0.3650</td>\n",
       "      <td>0.645</td>\n",
       "      <td>93.008</td>\n",
       "      <td>83.0</td>\n",
       "    </tr>\n",
       "    <tr>\n",
       "      <th>2</th>\n",
       "      <td>820737</td>\n",
       "      <td>spotify:artist:25uiPmTg16RbhZWAqwLBy5</td>\n",
       "      <td>spotify:track:0y8Wf6ltWpGCpgqVa21QNX</td>\n",
       "      <td>0.653</td>\n",
       "      <td>0.794</td>\n",
       "      <td>7</td>\n",
       "      <td>-3.828</td>\n",
       "      <td>1</td>\n",
       "      <td>0.0894</td>\n",
       "      <td>0.1210</td>\n",
       "      <td>0.000000</td>\n",
       "      <td>0.3650</td>\n",
       "      <td>0.645</td>\n",
       "      <td>93.008</td>\n",
       "      <td>83.0</td>\n",
       "    </tr>\n",
       "    <tr>\n",
       "      <th>3</th>\n",
       "      <td>874521</td>\n",
       "      <td>spotify:artist:25uiPmTg16RbhZWAqwLBy5</td>\n",
       "      <td>spotify:track:0y8Wf6ltWpGCpgqVa21QNX</td>\n",
       "      <td>0.653</td>\n",
       "      <td>0.794</td>\n",
       "      <td>7</td>\n",
       "      <td>-3.828</td>\n",
       "      <td>1</td>\n",
       "      <td>0.0894</td>\n",
       "      <td>0.1210</td>\n",
       "      <td>0.000000</td>\n",
       "      <td>0.3650</td>\n",
       "      <td>0.645</td>\n",
       "      <td>93.008</td>\n",
       "      <td>83.0</td>\n",
       "    </tr>\n",
       "    <tr>\n",
       "      <th>4</th>\n",
       "      <td>521</td>\n",
       "      <td>spotify:artist:69GGBxA162lTqCwzJG5jLp</td>\n",
       "      <td>spotify:track:6RUKPb4LETWmmr3iAEQktW</td>\n",
       "      <td>0.617</td>\n",
       "      <td>0.635</td>\n",
       "      <td>11</td>\n",
       "      <td>-6.769</td>\n",
       "      <td>0</td>\n",
       "      <td>0.0317</td>\n",
       "      <td>0.0498</td>\n",
       "      <td>0.000014</td>\n",
       "      <td>0.1640</td>\n",
       "      <td>0.446</td>\n",
       "      <td>103.019</td>\n",
       "      <td>85.0</td>\n",
       "    </tr>\n",
       "    <tr>\n",
       "      <th>...</th>\n",
       "      <td>...</td>\n",
       "      <td>...</td>\n",
       "      <td>...</td>\n",
       "      <td>...</td>\n",
       "      <td>...</td>\n",
       "      <td>...</td>\n",
       "      <td>...</td>\n",
       "      <td>...</td>\n",
       "      <td>...</td>\n",
       "      <td>...</td>\n",
       "      <td>...</td>\n",
       "      <td>...</td>\n",
       "      <td>...</td>\n",
       "      <td>...</td>\n",
       "      <td>...</td>\n",
       "    </tr>\n",
       "    <tr>\n",
       "      <th>132758</th>\n",
       "      <td>999521</td>\n",
       "      <td>spotify:artist:610tJqABwgZWaRvtJoJQF0</td>\n",
       "      <td>spotify:track:0zjW4c0nPCrsaQA3q9yjml</td>\n",
       "      <td>0.739</td>\n",
       "      <td>0.604</td>\n",
       "      <td>8</td>\n",
       "      <td>-2.573</td>\n",
       "      <td>1</td>\n",
       "      <td>0.0751</td>\n",
       "      <td>0.6660</td>\n",
       "      <td>0.000000</td>\n",
       "      <td>0.3360</td>\n",
       "      <td>0.971</td>\n",
       "      <td>112.433</td>\n",
       "      <td>57.0</td>\n",
       "    </tr>\n",
       "    <tr>\n",
       "      <th>132759</th>\n",
       "      <td>999521</td>\n",
       "      <td>spotify:artist:63zgw9LU9aqnuHnvHr3ZUZ</td>\n",
       "      <td>spotify:track:6tNrSTWNn4oUkoupn1ITJd</td>\n",
       "      <td>0.757</td>\n",
       "      <td>0.421</td>\n",
       "      <td>5</td>\n",
       "      <td>-6.768</td>\n",
       "      <td>1</td>\n",
       "      <td>0.0396</td>\n",
       "      <td>0.7470</td>\n",
       "      <td>0.000000</td>\n",
       "      <td>0.0802</td>\n",
       "      <td>0.858</td>\n",
       "      <td>104.968</td>\n",
       "      <td>50.0</td>\n",
       "    </tr>\n",
       "    <tr>\n",
       "      <th>132760</th>\n",
       "      <td>999521</td>\n",
       "      <td>spotify:artist:1gW6pz5n1aK249L0GvfQCC</td>\n",
       "      <td>spotify:track:7KXL3yfanDowu6shK3Vl0d</td>\n",
       "      <td>0.730</td>\n",
       "      <td>0.565</td>\n",
       "      <td>4</td>\n",
       "      <td>-4.501</td>\n",
       "      <td>1</td>\n",
       "      <td>0.0285</td>\n",
       "      <td>0.2870</td>\n",
       "      <td>0.000000</td>\n",
       "      <td>0.3520</td>\n",
       "      <td>0.914</td>\n",
       "      <td>99.960</td>\n",
       "      <td>74.0</td>\n",
       "    </tr>\n",
       "    <tr>\n",
       "      <th>132761</th>\n",
       "      <td>999521</td>\n",
       "      <td>spotify:artist:4J13m9IZh03PEhoxAxRhXO</td>\n",
       "      <td>spotify:track:6c5ghmeB5B3eUwO9Gr4Dgx</td>\n",
       "      <td>0.661</td>\n",
       "      <td>0.423</td>\n",
       "      <td>7</td>\n",
       "      <td>-7.107</td>\n",
       "      <td>1</td>\n",
       "      <td>0.0260</td>\n",
       "      <td>0.5830</td>\n",
       "      <td>0.000000</td>\n",
       "      <td>0.2210</td>\n",
       "      <td>0.767</td>\n",
       "      <td>139.859</td>\n",
       "      <td>78.0</td>\n",
       "    </tr>\n",
       "    <tr>\n",
       "      <th>132762</th>\n",
       "      <td>999737</td>\n",
       "      <td>spotify:artist:5yG7ZAZafVaAlMTeBybKAL</td>\n",
       "      <td>spotify:track:4AEVXHznFXkJEtFamkYwlr</td>\n",
       "      <td>0.877</td>\n",
       "      <td>0.763</td>\n",
       "      <td>9</td>\n",
       "      <td>-5.453</td>\n",
       "      <td>1</td>\n",
       "      <td>0.2660</td>\n",
       "      <td>0.0118</td>\n",
       "      <td>0.000000</td>\n",
       "      <td>0.1090</td>\n",
       "      <td>0.717</td>\n",
       "      <td>105.965</td>\n",
       "      <td>75.0</td>\n",
       "    </tr>\n",
       "  </tbody>\n",
       "</table>\n",
       "<p>132763 rows × 15 columns</p>\n",
       "</div>"
      ],
      "text/plain": [
       "           pid                             artist_uri  \\\n",
       "0          521  spotify:artist:25uiPmTg16RbhZWAqwLBy5   \n",
       "1       535521  spotify:artist:25uiPmTg16RbhZWAqwLBy5   \n",
       "2       820737  spotify:artist:25uiPmTg16RbhZWAqwLBy5   \n",
       "3       874521  spotify:artist:25uiPmTg16RbhZWAqwLBy5   \n",
       "4          521  spotify:artist:69GGBxA162lTqCwzJG5jLp   \n",
       "...        ...                                    ...   \n",
       "132758  999521  spotify:artist:610tJqABwgZWaRvtJoJQF0   \n",
       "132759  999521  spotify:artist:63zgw9LU9aqnuHnvHr3ZUZ   \n",
       "132760  999521  spotify:artist:1gW6pz5n1aK249L0GvfQCC   \n",
       "132761  999521  spotify:artist:4J13m9IZh03PEhoxAxRhXO   \n",
       "132762  999737  spotify:artist:5yG7ZAZafVaAlMTeBybKAL   \n",
       "\n",
       "                                         uri  danceability  energy  key  \\\n",
       "0       spotify:track:0y8Wf6ltWpGCpgqVa21QNX         0.653   0.794    7   \n",
       "1       spotify:track:0y8Wf6ltWpGCpgqVa21QNX         0.653   0.794    7   \n",
       "2       spotify:track:0y8Wf6ltWpGCpgqVa21QNX         0.653   0.794    7   \n",
       "3       spotify:track:0y8Wf6ltWpGCpgqVa21QNX         0.653   0.794    7   \n",
       "4       spotify:track:6RUKPb4LETWmmr3iAEQktW         0.617   0.635   11   \n",
       "...                                      ...           ...     ...  ...   \n",
       "132758  spotify:track:0zjW4c0nPCrsaQA3q9yjml         0.739   0.604    8   \n",
       "132759  spotify:track:6tNrSTWNn4oUkoupn1ITJd         0.757   0.421    5   \n",
       "132760  spotify:track:7KXL3yfanDowu6shK3Vl0d         0.730   0.565    4   \n",
       "132761  spotify:track:6c5ghmeB5B3eUwO9Gr4Dgx         0.661   0.423    7   \n",
       "132762  spotify:track:4AEVXHznFXkJEtFamkYwlr         0.877   0.763    9   \n",
       "\n",
       "        loudness  mode  speechiness  acousticness  instrumentalness  liveness  \\\n",
       "0         -3.828     1       0.0894        0.1210          0.000000    0.3650   \n",
       "1         -3.828     1       0.0894        0.1210          0.000000    0.3650   \n",
       "2         -3.828     1       0.0894        0.1210          0.000000    0.3650   \n",
       "3         -3.828     1       0.0894        0.1210          0.000000    0.3650   \n",
       "4         -6.769     0       0.0317        0.0498          0.000014    0.1640   \n",
       "...          ...   ...          ...           ...               ...       ...   \n",
       "132758    -2.573     1       0.0751        0.6660          0.000000    0.3360   \n",
       "132759    -6.768     1       0.0396        0.7470          0.000000    0.0802   \n",
       "132760    -4.501     1       0.0285        0.2870          0.000000    0.3520   \n",
       "132761    -7.107     1       0.0260        0.5830          0.000000    0.2210   \n",
       "132762    -5.453     1       0.2660        0.0118          0.000000    0.1090   \n",
       "\n",
       "        valence    tempo  artists.popularity  \n",
       "0         0.645   93.008                83.0  \n",
       "1         0.645   93.008                83.0  \n",
       "2         0.645   93.008                83.0  \n",
       "3         0.645   93.008                83.0  \n",
       "4         0.446  103.019                85.0  \n",
       "...         ...      ...                 ...  \n",
       "132758    0.971  112.433                57.0  \n",
       "132759    0.858  104.968                50.0  \n",
       "132760    0.914   99.960                74.0  \n",
       "132761    0.767  139.859                78.0  \n",
       "132762    0.717  105.965                75.0  \n",
       "\n",
       "[132763 rows x 15 columns]"
      ]
     },
     "execution_count": 904,
     "metadata": {},
     "output_type": "execute_result"
    }
   ],
   "source": [
    "features_by_pid_and_artist = df[['pid', 'artist_uri', 'uri', 'danceability', 'energy', 'key', 'loudness', 'mode',\n",
    "                      'speechiness', 'acousticness', 'instrumentalness', 'liveness',\n",
    "                      'valence', 'tempo']]\n",
    "features_by_pid_and_artist.drop_duplicates(subset=['artist_uri'])\n",
    "features_by_pid_plus_artist = features_by_pid_and_artist.merge(artist_info[['artists.uri', 'artists.popularity']], left_on='artist_uri', right_on='artists.uri', how='left')\n",
    "features_by_pid_plus_artist = features_by_pid_plus_artist.drop(['artists.uri'], axis=1)\n",
    "features_by_pid_plus_artist"
   ]
  },
  {
   "cell_type": "code",
   "execution_count": 905,
   "metadata": {},
   "outputs": [
    {
     "data": {
      "text/plain": [
       "array([[ 5.71929134e-01,  6.03582677e-01,  5.62204724e+00,\n",
       "        -6.72398425e+00,  6.45669291e-01,  7.87842520e-02,\n",
       "         2.65756169e-01,  4.98320630e-03,  1.65848031e-01,\n",
       "         4.24081890e-01,  1.21238457e+02]])"
      ]
     },
     "execution_count": 905,
     "metadata": {},
     "output_type": "execute_result"
    }
   ],
   "source": [
    "features_by_pid_plus_artist[features_by_pid_plus_artist['pid'] == 521].groupby('pid').mean().iloc[:,:-1].to_numpy()"
   ]
  },
  {
   "cell_type": "code",
   "execution_count": 906,
   "metadata": {},
   "outputs": [
    {
     "data": {
      "text/plain": [
       "(2001, 2001)"
      ]
     },
     "execution_count": 906,
     "metadata": {},
     "output_type": "execute_result"
    }
   ],
   "source": [
    "recSys.proximity_matrix.shape"
   ]
  },
  {
   "cell_type": "markdown",
   "metadata": {
    "id": "8fFA926g_FVG"
   },
   "source": [
    "### Clase `RecommendNearest`"
   ]
  },
  {
   "cell_type": "code",
   "execution_count": 907,
   "metadata": {
    "id": "IEGdFk_W_EwS"
   },
   "outputs": [],
   "source": [
    "class RecommendNearest:\n",
    "    \n",
    "  def __init__(self):\n",
    "    self.proximity_matrix=None\n",
    "    self.obs_labels=None\n",
    "    self.N_nearest=None\n",
    "    self.artist=None\n",
    "    self.pid_id=None\n",
    "    self.avg_features_by_pid=None\n",
    "\n",
    "  def fit(self, X, y, artist):\n",
    "    '''Almacena la matriz de proximidad y guarda los PID en self.obs_labels'''\n",
    "    self.avg_features_by_pid = X\n",
    "    self.obs_labels = y\n",
    "    self.proximity_matrix = distance_matrix(X, X)\n",
    "    self.artist = artist\n",
    "    \n",
    "  def refit(self):\n",
    "    '''Actualiza la matriz de distancia en base a self.avg_features_by_pid'''\n",
    "    self.proximity_matrix = distance_matrix(self.avg_features_by_pid, self.avg_features_by_pid)\n",
    "    \n",
    "  def get_N_nearest(self, pid_id, N=5):\n",
    "    '''Retorna una lista de los N pid_id más cercanos al pid_id entregado'''\n",
    "    try:\n",
    "        pid_position = int(np.where(self.obs_labels == pid_id)[0])\n",
    "        self.pid_id = pid_id\n",
    "    except TypeError:\n",
    "        print('PID no se encuentra en datos de entrenamiento')\n",
    "    nearest_index = np.argsort(self.proximity_matrix[pid_position, :])[:N+1][1:]\n",
    "    # Se actualizar estado de esta variable para recomendar canciones en\n",
    "    # base a las playlist mas cercanas\n",
    "    self.N_nearest = self.obs_labels[nearest_index]\n",
    "    return self.obs_labels[nearest_index]\n",
    "\n",
    "  def retrieveAll_N_nearest(self, N=5):\n",
    "    '''Retorna un np.array con N playlist con posibles candidatos a recomendar.\n",
    "       La primera columna contiene el PID con respecto al cual se buscaron\n",
    "       las siguientes N-PID columnas de playlist más cercanas.\n",
    "    '''\n",
    "    output = np.c_[self.obs_labels, np.zeros((self.obs_labels.shape[0], N), dtype='int32')]\n",
    "    for idx, pid in enumerate(self.obs_labels):\n",
    "        output[idx, 1:] = self.get_N_nearest(pid, N=N)\n",
    "    return output\n",
    "\n",
    "  def recommend_given_track_set(self, track_features_set, N=10):\n",
    "    '''\n",
    "       Recibe un set de canciones sin PID con sus track_features (track_feature_set).\n",
    "       Se recomputa self.proximity_matrix agregando el nuevo set de canciones\n",
    "       como PID \"pivote\"\n",
    "       Se deja reservado el PID 0 para este set de canciones\n",
    "    '''\n",
    "    track_set = pd.concat([pd.DataFrame({'PID': np.zeros(track_features_set.shape[0], 'int32')}),\n",
    "                           track_features_set], axis=1)\n",
    "    \n",
    "    track_set = track_set.groupby('PID').mean().reset_index()\n",
    "   \n",
    "    # Concatenar al principio del atributo self.avg_features_by_pid y self.obs_labels\n",
    "    #self.avg_features_by_pid = pd.concat([track_set.iloc[:, 1:], self.avg_features_by_pid], axis=0)\n",
    "    self.avg_features_by_pid = np.r_[track_set.iloc[:, 1:], self.avg_features_by_pid]\n",
    "    self.obs_labels = np.r_[0, self.obs_labels]\n",
    "    \n",
    "    # Actualizar matriz de distancia\n",
    "    self.refit()\n",
    "    \n",
    "    # Actualizar listas mas cercanas (siempre es el PID en la posición 0)\n",
    "    nearest_index = np.argsort(self.proximity_matrix[0, :])[:N+1][1:]\n",
    "    self.N_nearest = self.obs_labels[nearest_index]\n",
    "    self.pid_id = 0\n",
    "    \n",
    "    # Entregar recomendaciones\n",
    "    return self.get_recommendations()\n",
    "    \n",
    "  def get_recommendations(self, num_tracks=20):\n",
    "    '''Dado un track de canciones arbitarias, se utiliza por el método\n",
    "       recommend_given_track_set\n",
    "    '''\n",
    "    recommended_songs_list = self.artist[self.artist.pid.isin(self.N_nearest)].copy()\n",
    "    recommended_songs_list = recommended_songs_list.drop_duplicates(subset=['artist_uri'])\n",
    "    \n",
    "    # Seleccionar solo los features de las canciones\n",
    "    features_columns = ['danceability', 'energy', 'key', 'loudness', 'mode', \n",
    "     'speechiness', 'acousticness', 'instrumentalness', \n",
    "     'liveness', 'valence', 'tempo']\n",
    "\n",
    "    recommended_songs_list['similarity'] = np.dot(recommended_songs_list[features_columns].to_numpy(), \n",
    "                                                  self.avg_features_by_pid[0, :].reshape(11, 1))\n",
    "    \n",
    "    recommended_songs_list = recommended_songs_list.sort_values(by=['similarity'], ascending=True)\n",
    "    \n",
    "    # Seleccionar de 0 hasta num_tracks\n",
    "    return recommended_songs_list.iloc[:num_tracks]\n",
    "    \n",
    "  def get_gt_N_candidates(self, min_tracks=50):\n",
    "    '''\n",
    "       Retorna tantos pid_id sean necesarios para tener al menos 50 candidatos\n",
    "       de canciones a sugerir.\n",
    "    '''\n",
    "    # Se obtienen un dataframe que contiene todas las canciones de las listas recomendadas.\n",
    "    recommended_songs_list = self.artist[self.artist.pid.isin(self.N_nearest)].copy()\n",
    "    \n",
    "    # Se calcula el promedio de las features de la playlist ingresada en \"recSys.obs_labels[X]\"\n",
    "    \n",
    "    features_mean = self.artist[self.artist['pid'] == self.pid_id].\\\n",
    "                                                                            groupby('pid').\\\n",
    "                                                                            mean().\\\n",
    "                                                                            iloc[:,:-1]\n",
    "    \n",
    "    # Se calcula la similitud coseno y se multiplica por la popularidad del artista.\n",
    "    recommended_songs_list['similarity'] = recommended_songs_list.apply(\n",
    "                                                lambda x: cosine_similarity(x.iloc[3:-1].\\\n",
    "                                                                              to_numpy().reshape(1, -1), \n",
    "                                                features_mean.to_numpy().reshape(1, -1))[0][0], \n",
    "                                                axis=1) * (0.01+recommended_songs_list['artists.popularity']/100)\n",
    "    \n",
    "    # Se eliminan los duplicados.\n",
    "    recommended_songs_list = recommended_songs_list.drop_duplicates(subset=['artist_uri'])\n",
    "    \n",
    "    #print(recommended_songs_list)\n",
    "    # Se ordena la lista...\n",
    "    recommended_songs_list = recommended_songs_list.sort_values(by=['similarity'], ascending=False)\n",
    "    \n",
    "    return recommended_songs_list.iloc[:min_tracks].to_numpy()\n",
    "\n",
    "  def plot_proximity_matrix(self):\n",
    "        \n",
    "    if isinstance(self.proximity_matrix, np.ndarray):\n",
    "        plt.matshow(self.proximity_matrix);\n",
    "        plt.colorbar();"
   ]
  },
  {
   "cell_type": "code",
   "execution_count": 908,
   "metadata": {},
   "outputs": [
    {
     "data": {
      "text/plain": [
       "(2000, 12)"
      ]
     },
     "execution_count": 908,
     "metadata": {},
     "output_type": "execute_result"
    }
   ],
   "source": [
    "avg_features_by_pid.shape"
   ]
  },
  {
   "cell_type": "code",
   "execution_count": 909,
   "metadata": {
    "id": "kGcf2jljCL59"
   },
   "outputs": [],
   "source": [
    "recSys = RecommendNearest()\n",
    "recSys.fit(avg_features_by_pid.iloc[:, 1:].to_numpy(), \n",
    "           avg_features_by_pid.iloc[:, 0].to_numpy(), \n",
    "           features_by_pid_plus_artist)"
   ]
  },
  {
   "cell_type": "code",
   "execution_count": 910,
   "metadata": {},
   "outputs": [
    {
     "data": {
      "text/plain": [
       "(2000, 11)"
      ]
     },
     "execution_count": 910,
     "metadata": {},
     "output_type": "execute_result"
    }
   ],
   "source": [
    "recSys.avg_features_by_pid.shape"
   ]
  },
  {
   "cell_type": "markdown",
   "metadata": {
    "id": "r6L-9MZzEeQw"
   },
   "source": [
    "Utilizar el método PID para obtener los PID de\n",
    "las N-_playlists_ más cercanas:"
   ]
  },
  {
   "cell_type": "code",
   "execution_count": 911,
   "metadata": {
    "colab": {
     "base_uri": "https://localhost:8080/"
    },
    "id": "o493Ti3BKSq-",
    "outputId": "b97f0b8c-419a-4e8c-ec25-8dd79ddcdf4b"
   },
   "outputs": [
    {
     "name": "stdout",
     "output_type": "stream",
     "text": [
      "737\n"
     ]
    }
   ],
   "source": [
    "PID = recSys.obs_labels[1]\n",
    "print(PID)"
   ]
  },
  {
   "cell_type": "code",
   "execution_count": 912,
   "metadata": {
    "colab": {
     "base_uri": "https://localhost:8080/"
    },
    "id": "PE4rOoQiI6VF",
    "outputId": "830987bc-20de-42b5-c4cb-4606b0d8fd49",
    "scrolled": true
   },
   "outputs": [
    {
     "data": {
      "text/plain": [
       "array([ 85521,  78737, 279521, 691737, 311737, 532737, 869737, 267521,\n",
       "        98521, 668737])"
      ]
     },
     "execution_count": 912,
     "metadata": {},
     "output_type": "execute_result"
    }
   ],
   "source": [
    "# Por ejemplo, obtener las 10 listas más cercanas del PID=550737\n",
    "recSys.get_N_nearest(PID, N=10)"
   ]
  },
  {
   "cell_type": "code",
   "execution_count": 913,
   "metadata": {},
   "outputs": [
    {
     "data": {
      "text/plain": [
       "(2000, 11)"
      ]
     },
     "execution_count": 913,
     "metadata": {},
     "output_type": "execute_result"
    }
   ],
   "source": [
    "recSys.avg_features_by_pid.shape"
   ]
  },
  {
   "cell_type": "code",
   "execution_count": 914,
   "metadata": {},
   "outputs": [
    {
     "data": {
      "text/plain": [
       "8350     spotify:track:0rM7aAHE16zBRXvuOrvGdh\n",
       "16940    spotify:track:43LnmNOAtqFhG0pSrnMgct\n",
       "36900    spotify:track:1yJZwBqTyGTB7mz8nZyiel\n",
       "38219    spotify:track:6yIHGmQLJxWAUZ1ZkENemN\n",
       "39037    spotify:track:25J4d78ESH2MgAJoIakB8O\n",
       "39170    spotify:track:2zH8blq2DmO9c8305A2iFB\n",
       "Name: track_uri, dtype: object"
      ]
     },
     "execution_count": 914,
     "metadata": {},
     "output_type": "execute_result"
    }
   ],
   "source": [
    "# Obtener el id de algunas canciones dentro de la lista\n",
    "df.loc[df.pid == 550737, 'track_uri'][:6]"
   ]
  },
  {
   "cell_type": "markdown",
   "metadata": {},
   "source": [
    "El método `RecommendNearest.get_gt_N_candidates` entrega un número de canciones\n",
    "basadas en las listas más cercanas de arriba y rankeadas según popularidad:"
   ]
  },
  {
   "cell_type": "code",
   "execution_count": 915,
   "metadata": {
    "scrolled": true
   },
   "outputs": [
    {
     "data": {
      "text/plain": [
       "array([[78737, 'spotify:artist:06HL4z0CvFAxyc27GXpf02',\n",
       "        'spotify:track:6uFsE1JgZ20EXyU0JQZbUR', 0.773, 0.68, 9, -6.378,\n",
       "        0, 0.141, 0.213, 1.57e-05, 0.122, 0.497, 128.062, 98.0,\n",
       "        0.9894818561634169],\n",
       "       [267521, 'spotify:artist:3TVXtAsR1Inumwj472S9r4',\n",
       "        'spotify:track:3fyMH1t6UPeR5croea9PrR', 0.427, 0.861, 1, -4.874,\n",
       "        1, 0.376, 0.219, 0.0, 0.277, 0.581, 161.776, 98.0,\n",
       "        0.9893785629656784],\n",
       "       [85521, 'spotify:artist:1Xyo4u8uXC1ZmMpatF05PJ',\n",
       "        'spotify:track:25khomWgBVamSdKw7hzm3l', 0.356, 0.567, 0, -7.011,\n",
       "        0, 0.0798, 0.0861, 0.0, 0.137, 0.109, 135.553, 97.0,\n",
       "        0.9792170484041592],\n",
       "       [85521, 'spotify:artist:6eUKZXaKkcviH0Ku9w2n3V',\n",
       "        'spotify:track:6u0oHknFYrnUd42A6rvFly', 0.818, 0.67, 8, -4.451,\n",
       "        0, 0.0472, 0.304, 1.22e-06, 0.0601, 0.939, 119.988, 96.0,\n",
       "        0.9695844489226593],\n",
       "       [691737, 'spotify:artist:1uNFoZAHBGtllmzznpCI3s',\n",
       "        'spotify:track:7ET8LMtOv8XyBPKzr2Pgrr', 0.737, 0.813, 7, -5.027,\n",
       "        1, 0.0825, 0.0193, 0.0, 0.245, 0.589, 97.036, 96.0,\n",
       "        0.9694053329639927],\n",
       "       [267521, 'spotify:artist:5K4W6rqBFWDnAN6FQUkS6x',\n",
       "        'spotify:track:6C7RJEIUDqKkJRZVWdkfkH', 0.625, 0.726, 10, -7.731,\n",
       "        0, 0.155, 0.00728, 0.0, 0.318, 0.483, 103.98, 96.0,\n",
       "        0.9679642016903341],\n",
       "       [532737, 'spotify:artist:7dGJo4pcD2V6oG8kP0tJRR',\n",
       "        'spotify:track:7w9bgPAmPTtrkt2v16QWvQ', 0.701, 0.728, 2, -4.554,\n",
       "        1, 0.255, 0.00971, 0.00115, 0.361, 0.0591, 171.388, 95.0,\n",
       "        0.9594947994963208],\n",
       "       [311737, 'spotify:artist:66CXWjxzNUsdJxJ2JdwvnR',\n",
       "        'spotify:track:1KT0xdIjm7t053xByACrrg', 0.512, 0.532, 6, -6.821,\n",
       "        1, 0.0266, 0.126, 0.0, 0.103, 0.283, 81.353, 93.0,\n",
       "        0.9386571189655476],\n",
       "       [85521, 'spotify:artist:1vyhD5VmyZ7KMfW5gqLgo5',\n",
       "        'spotify:track:2rb5MvYT7ZIxbKW5hfcHx8', 0.543, 0.677, 11, -4.915,\n",
       "        0, 0.0993, 0.0148, 6.21e-06, 0.13, 0.294, 103.809, 93.0,\n",
       "        0.937880780124303],\n",
       "       [279521, 'spotify:artist:1RyvyyTE3xzB2ZywiAwp0i',\n",
       "        'spotify:track:7EiZI6JVHllARrX9PUvAdX', 0.722, 0.331, 8, -7.789,\n",
       "        1, 0.0726, 0.337, 0.282, 0.146, 0.102, 143.961, 92.0,\n",
       "        0.9298005464498216],\n",
       "       [267521, 'spotify:artist:0Y5tJX1MQlPlqiwlOH1tJY',\n",
       "        'spotify:track:6gBFPUFcJLzWGx4lenP6h2', 0.841, 0.728, 7, -3.37,\n",
       "        1, 0.0484, 0.0847, 0.0, 0.149, 0.43, 130.049, 92.0,\n",
       "        0.9297366259244318],\n",
       "       [869737, 'spotify:artist:0du5cEVh5yTK9QJze8zA0C',\n",
       "        'spotify:track:0KKkJNfGyhkQ5aFogxQAPU', 0.853, 0.56, 1, -4.961,\n",
       "        1, 0.0406, 0.013, 0.0, 0.0944, 0.86, 134.066, 92.0,\n",
       "        0.9295187880644664],\n",
       "       [85521, 'spotify:artist:5pKCCKE2ajJHZ9KAiaK11H',\n",
       "        'spotify:track:5XzmZjXhMjDHr7ZfJ6DELQ', 0.579, 0.268, 2, -5.65,\n",
       "        1, 0.0442, 0.868, 0.0, 0.12, 0.321, 205.903, 92.0,\n",
       "        0.9294662733383217],\n",
       "       [691737, 'spotify:artist:4gzpq5DPGxSnKTe4SA8HAU',\n",
       "        'spotify:track:1OAiWI2oPmglaOiv9fdioU', 0.564, 0.849, 0, -3.516,\n",
       "        0, 0.0517, 0.00868, 4.68e-06, 0.12, 0.427, 102.028, 92.0,\n",
       "        0.9292544054462055],\n",
       "       [311737, 'spotify:artist:53XhwfbYqKCa1cC15pYq2q',\n",
       "        'spotify:track:0CcQNd8CINkwQfe1RDtGV6', 0.779, 0.787, 10, -4.305,\n",
       "        0, 0.108, 0.0524, 0.0, 0.14, 0.708, 124.982, 92.0,\n",
       "        0.9291591728779001],\n",
       "       [279521, 'spotify:artist:246dkjvS1zLTtiykXe5h60',\n",
       "        'spotify:track:3a1lNhkSLSkpJE4MSHpDu9', 0.63, 0.804, 6, -4.183,\n",
       "        1, 0.0363, 0.215, 0.0, 0.253, 0.492, 123.146, 91.0,\n",
       "        0.9199003793137306],\n",
       "       [279521, 'spotify:artist:55Aa2cqylxrFIXC767Z865',\n",
       "        'spotify:track:1kMuU3TNQvHbqvXCWBodmP', 0.376, 0.841, 3, -4.348,\n",
       "        0, 0.356, 0.0435, 0.0, 0.578, 0.463, 76.052, 91.0,\n",
       "        0.9198712483597277],\n",
       "       [85521, 'spotify:artist:2YZyLoL8N0Wb9xBt1NhZWg',\n",
       "        'spotify:track:7KXjTSCq5nL1LoYtL7XAwS', 0.908, 0.621, 1, -6.638,\n",
       "        0, 0.102, 0.000282, 5.39e-05, 0.0958, 0.421, 150.011, 91.0,\n",
       "        0.9195186285675949],\n",
       "       [267521, 'spotify:artist:7bXgB6jMjp9ATFy66eO08Z',\n",
       "        'spotify:track:1CdkNxTlkUWR4ZnXcKES3b', 0.662, 0.693, 3, -4.298,\n",
       "        1, 0.0698, 0.134, 0.0, 0.145, 0.655, 86.009, 90.0,\n",
       "        0.9099442498802609],\n",
       "       [267521, 'spotify:artist:1Cs0zKBU1kc0i8ypK3B9ai',\n",
       "        'spotify:track:77V0TWycxV4wuhcip5LF3X', 0.814, 0.626, 11, -5.019,\n",
       "        0, 0.0447, 0.0757, 0.000739, 0.111, 0.816, 130.028, 90.0,\n",
       "        0.9090240631209624]], dtype=object)"
      ]
     },
     "execution_count": 915,
     "metadata": {},
     "output_type": "execute_result"
    }
   ],
   "source": [
    "recSys.get_gt_N_candidates(min_tracks=20)"
   ]
  },
  {
   "cell_type": "code",
   "execution_count": 916,
   "metadata": {},
   "outputs": [
    {
     "data": {
      "text/plain": [
       "(2000, 11)"
      ]
     },
     "execution_count": 916,
     "metadata": {},
     "output_type": "execute_result"
    }
   ],
   "source": [
    "recSys.avg_features_by_pid.shape"
   ]
  },
  {
   "cell_type": "markdown",
   "metadata": {
    "id": "qklH5AsvJCeV"
   },
   "source": [
    "Los `pid` deben estar en los datos que se pasaron por\n",
    "el método `RecommendNearest.fit()`, sino tira un error:"
   ]
  },
  {
   "cell_type": "markdown",
   "metadata": {
    "id": "BqExLnSgNrf9"
   },
   "source": [
    "Se pueden obtener las N-_playlists_ más cercanas de\n",
    "todo el conjunto de entrenamiento, donde la primera\n",
    "columna es el PID respecto al cual se están recomendando\n",
    "las siguientes N _playlists_:"
   ]
  },
  {
   "cell_type": "code",
   "execution_count": 917,
   "metadata": {
    "colab": {
     "base_uri": "https://localhost:8080/"
    },
    "id": "M8T5n4MuMqwu",
    "outputId": "21378dff-6ea8-4328-ec0c-5a8579991def"
   },
   "outputs": [
    {
     "data": {
      "text/plain": [
       "array([[   521,  49521, 107737, 497521],\n",
       "       [   737,  85521,  78737, 279521],\n",
       "       [  1521, 956737, 609737, 183737],\n",
       "       ...,\n",
       "       [998737, 105737,  79521, 901521],\n",
       "       [999521, 531521, 604737, 586521],\n",
       "       [999737, 808521, 135521, 260521]])"
      ]
     },
     "execution_count": 917,
     "metadata": {},
     "output_type": "execute_result"
    }
   ],
   "source": [
    "rec_df = recSys.retrieveAll_N_nearest(N=3)\n",
    "rec_df"
   ]
  },
  {
   "cell_type": "code",
   "execution_count": 918,
   "metadata": {},
   "outputs": [
    {
     "data": {
      "text/plain": [
       "(2000, 11)"
      ]
     },
     "execution_count": 918,
     "metadata": {},
     "output_type": "execute_result"
    }
   ],
   "source": [
    "recSys.avg_features_by_pid.shape"
   ]
  },
  {
   "cell_type": "markdown",
   "metadata": {},
   "source": [
    "Es posible ver los conjunto de intersección y diferencia entre una lista y sus N listas más cercanas\n",
    "\n",
    "```python\n",
    "set(df.loc[df.pid==521, 'track_name']).intersection(set(df.loc[df.pid==497521, 'track_name']))\n",
    "set(df.loc[df.pid==521, 'track_name']).difference(set(df.loc[df.pid==497521, 'track_name']))\n",
    "```"
   ]
  },
  {
   "cell_type": "markdown",
   "metadata": {},
   "source": [
    "Dado un set de canciones con sus track features recomendar canciones en base\n",
    "a las PID más cercanas que encuentre:"
   ]
  },
  {
   "cell_type": "code",
   "execution_count": 970,
   "metadata": {},
   "outputs": [],
   "source": [
    "test_set = pd.read_csv('./10_canciones_features_azar.csv')"
   ]
  },
  {
   "cell_type": "code",
   "execution_count": 971,
   "metadata": {},
   "outputs": [
    {
     "data": {
      "text/plain": [
       "Index(['playlist_name', 'collaborative', 'pid', 'num_tracks', 'num_albums',\n",
       "       'num_artists', 'pos', 'track_uri', 'artist_uri', 'track_name',\n",
       "       'album_name', 'danceability', 'energy', 'key', 'loudness', 'mode',\n",
       "       'speechiness', 'acousticness', 'instrumentalness', 'liveness',\n",
       "       'valence', 'tempo', 'type', 'id', 'track_href', 'analysis_url',\n",
       "       'duration_ms', 'time_signature'],\n",
       "      dtype='object')"
      ]
     },
     "execution_count": 971,
     "metadata": {},
     "output_type": "execute_result"
    }
   ],
   "source": [
    "test_set.columns"
   ]
  },
  {
   "cell_type": "code",
   "execution_count": 972,
   "metadata": {},
   "outputs": [],
   "source": [
    "features_columns = ['danceability', 'energy', 'key', 'loudness', 'mode', \n",
    " 'speechiness', 'acousticness', 'instrumentalness', \n",
    " 'liveness', 'valence', 'tempo']"
   ]
  },
  {
   "cell_type": "code",
   "execution_count": 973,
   "metadata": {
    "scrolled": true
   },
   "outputs": [],
   "source": [
    "test_set = test_set[features_columns]"
   ]
  },
  {
   "cell_type": "code",
   "execution_count": 974,
   "metadata": {},
   "outputs": [
    {
     "data": {
      "text/html": [
       "<div>\n",
       "<style scoped>\n",
       "    .dataframe tbody tr th:only-of-type {\n",
       "        vertical-align: middle;\n",
       "    }\n",
       "\n",
       "    .dataframe tbody tr th {\n",
       "        vertical-align: top;\n",
       "    }\n",
       "\n",
       "    .dataframe thead th {\n",
       "        text-align: right;\n",
       "    }\n",
       "</style>\n",
       "<table border=\"1\" class=\"dataframe\">\n",
       "  <thead>\n",
       "    <tr style=\"text-align: right;\">\n",
       "      <th></th>\n",
       "      <th>danceability</th>\n",
       "      <th>energy</th>\n",
       "      <th>key</th>\n",
       "      <th>loudness</th>\n",
       "      <th>mode</th>\n",
       "      <th>speechiness</th>\n",
       "      <th>acousticness</th>\n",
       "      <th>instrumentalness</th>\n",
       "      <th>liveness</th>\n",
       "      <th>valence</th>\n",
       "      <th>tempo</th>\n",
       "    </tr>\n",
       "  </thead>\n",
       "  <tbody>\n",
       "    <tr>\n",
       "      <th>0</th>\n",
       "      <td>0.511</td>\n",
       "      <td>0.846</td>\n",
       "      <td>2.0</td>\n",
       "      <td>-6.967</td>\n",
       "      <td>1.0</td>\n",
       "      <td>0.0607</td>\n",
       "      <td>0.29800</td>\n",
       "      <td>0.000742</td>\n",
       "      <td>0.3850</td>\n",
       "      <td>0.619</td>\n",
       "      <td>174.946</td>\n",
       "    </tr>\n",
       "    <tr>\n",
       "      <th>1</th>\n",
       "      <td>0.752</td>\n",
       "      <td>0.853</td>\n",
       "      <td>8.0</td>\n",
       "      <td>-5.222</td>\n",
       "      <td>1.0</td>\n",
       "      <td>0.0491</td>\n",
       "      <td>0.13300</td>\n",
       "      <td>0.000000</td>\n",
       "      <td>0.0238</td>\n",
       "      <td>0.859</td>\n",
       "      <td>104.003</td>\n",
       "    </tr>\n",
       "    <tr>\n",
       "      <th>2</th>\n",
       "      <td>0.592</td>\n",
       "      <td>0.985</td>\n",
       "      <td>10.0</td>\n",
       "      <td>-2.859</td>\n",
       "      <td>1.0</td>\n",
       "      <td>0.0546</td>\n",
       "      <td>0.00522</td>\n",
       "      <td>0.038900</td>\n",
       "      <td>0.4000</td>\n",
       "      <td>0.459</td>\n",
       "      <td>129.936</td>\n",
       "    </tr>\n",
       "    <tr>\n",
       "      <th>3</th>\n",
       "      <td>0.656</td>\n",
       "      <td>0.291</td>\n",
       "      <td>2.0</td>\n",
       "      <td>-10.572</td>\n",
       "      <td>1.0</td>\n",
       "      <td>0.0293</td>\n",
       "      <td>0.87200</td>\n",
       "      <td>0.000000</td>\n",
       "      <td>0.1140</td>\n",
       "      <td>0.298</td>\n",
       "      <td>103.971</td>\n",
       "    </tr>\n",
       "    <tr>\n",
       "      <th>4</th>\n",
       "      <td>0.592</td>\n",
       "      <td>0.416</td>\n",
       "      <td>1.0</td>\n",
       "      <td>-9.794</td>\n",
       "      <td>1.0</td>\n",
       "      <td>0.0246</td>\n",
       "      <td>0.88200</td>\n",
       "      <td>0.000586</td>\n",
       "      <td>0.1120</td>\n",
       "      <td>0.417</td>\n",
       "      <td>96.002</td>\n",
       "    </tr>\n",
       "    <tr>\n",
       "      <th>5</th>\n",
       "      <td>0.445</td>\n",
       "      <td>0.598</td>\n",
       "      <td>2.0</td>\n",
       "      <td>-11.264</td>\n",
       "      <td>0.0</td>\n",
       "      <td>0.0363</td>\n",
       "      <td>0.01120</td>\n",
       "      <td>0.000000</td>\n",
       "      <td>0.0570</td>\n",
       "      <td>0.778</td>\n",
       "      <td>124.250</td>\n",
       "    </tr>\n",
       "    <tr>\n",
       "      <th>6</th>\n",
       "      <td>0.480</td>\n",
       "      <td>0.928</td>\n",
       "      <td>4.0</td>\n",
       "      <td>-5.501</td>\n",
       "      <td>1.0</td>\n",
       "      <td>0.0899</td>\n",
       "      <td>0.16900</td>\n",
       "      <td>0.000000</td>\n",
       "      <td>0.0479</td>\n",
       "      <td>0.713</td>\n",
       "      <td>167.986</td>\n",
       "    </tr>\n",
       "    <tr>\n",
       "      <th>7</th>\n",
       "      <td>0.532</td>\n",
       "      <td>0.767</td>\n",
       "      <td>7.0</td>\n",
       "      <td>-5.509</td>\n",
       "      <td>1.0</td>\n",
       "      <td>0.0574</td>\n",
       "      <td>0.00287</td>\n",
       "      <td>0.000513</td>\n",
       "      <td>0.3900</td>\n",
       "      <td>0.755</td>\n",
       "      <td>127.361</td>\n",
       "    </tr>\n",
       "    <tr>\n",
       "      <th>8</th>\n",
       "      <td>0.671</td>\n",
       "      <td>0.848</td>\n",
       "      <td>5.0</td>\n",
       "      <td>-4.745</td>\n",
       "      <td>1.0</td>\n",
       "      <td>0.2100</td>\n",
       "      <td>0.24500</td>\n",
       "      <td>0.000000</td>\n",
       "      <td>0.4040</td>\n",
       "      <td>0.536</td>\n",
       "      <td>160.182</td>\n",
       "    </tr>\n",
       "    <tr>\n",
       "      <th>9</th>\n",
       "      <td>0.716</td>\n",
       "      <td>0.879</td>\n",
       "      <td>5.0</td>\n",
       "      <td>-4.462</td>\n",
       "      <td>0.0</td>\n",
       "      <td>0.1820</td>\n",
       "      <td>0.03450</td>\n",
       "      <td>0.000000</td>\n",
       "      <td>0.1210</td>\n",
       "      <td>0.713</td>\n",
       "      <td>93.966</td>\n",
       "    </tr>\n",
       "  </tbody>\n",
       "</table>\n",
       "</div>"
      ],
      "text/plain": [
       "   danceability  energy   key  loudness  mode  speechiness  acousticness  \\\n",
       "0         0.511   0.846   2.0    -6.967   1.0       0.0607       0.29800   \n",
       "1         0.752   0.853   8.0    -5.222   1.0       0.0491       0.13300   \n",
       "2         0.592   0.985  10.0    -2.859   1.0       0.0546       0.00522   \n",
       "3         0.656   0.291   2.0   -10.572   1.0       0.0293       0.87200   \n",
       "4         0.592   0.416   1.0    -9.794   1.0       0.0246       0.88200   \n",
       "5         0.445   0.598   2.0   -11.264   0.0       0.0363       0.01120   \n",
       "6         0.480   0.928   4.0    -5.501   1.0       0.0899       0.16900   \n",
       "7         0.532   0.767   7.0    -5.509   1.0       0.0574       0.00287   \n",
       "8         0.671   0.848   5.0    -4.745   1.0       0.2100       0.24500   \n",
       "9         0.716   0.879   5.0    -4.462   0.0       0.1820       0.03450   \n",
       "\n",
       "   instrumentalness  liveness  valence    tempo  \n",
       "0          0.000742    0.3850    0.619  174.946  \n",
       "1          0.000000    0.0238    0.859  104.003  \n",
       "2          0.038900    0.4000    0.459  129.936  \n",
       "3          0.000000    0.1140    0.298  103.971  \n",
       "4          0.000586    0.1120    0.417   96.002  \n",
       "5          0.000000    0.0570    0.778  124.250  \n",
       "6          0.000000    0.0479    0.713  167.986  \n",
       "7          0.000513    0.3900    0.755  127.361  \n",
       "8          0.000000    0.4040    0.536  160.182  \n",
       "9          0.000000    0.1210    0.713   93.966  "
      ]
     },
     "execution_count": 974,
     "metadata": {},
     "output_type": "execute_result"
    }
   ],
   "source": [
    "test_set"
   ]
  },
  {
   "cell_type": "code",
   "execution_count": 975,
   "metadata": {},
   "outputs": [],
   "source": [
    "recSys = RecommendNearest()\n",
    "recSys.fit(avg_features_by_pid.iloc[:, 1:].to_numpy(), \n",
    "           avg_features_by_pid.iloc[:, 0].to_numpy(), \n",
    "           features_by_pid_plus_artist)\n",
    "recommended_songs = recSys.recommend_given_track_set(test_set)"
   ]
  },
  {
   "cell_type": "code",
   "execution_count": 993,
   "metadata": {},
   "outputs": [
    {
     "data": {
      "text/plain": [
       "50513     spotify:track:1C0vXECyJHUeqOo2Etvrr2\n",
       "45655     spotify:track:2IpGdrWvIZipmaxo1YRxw5\n",
       "97933     spotify:track:2fNkxgImVNczSgpF7OVdIS\n",
       "76765     spotify:track:0aWia6YqI2s9r41bXwnqhX\n",
       "58552     spotify:track:08GujSR7BcjakZUzX0R0nl\n",
       "19096     spotify:track:1tpLxOKuAaRCViAxf2pgNr\n",
       "90641     spotify:track:4WnY4W5KrqglCdIus8X9Bo\n",
       "114759    spotify:track:5UY3Vzkc5INzJ3wBJm5FlD\n",
       "9537      spotify:track:2EEeOnHehOozLq4aS0n6SL\n",
       "47954     spotify:track:07pJdL0L9XDGW0HBj0rIS2\n",
       "Name: uri, dtype: object"
      ]
     },
     "execution_count": 993,
     "metadata": {},
     "output_type": "execute_result"
    }
   ],
   "source": [
    "recommended_songs.uri.iloc[:10]"
   ]
  },
  {
   "cell_type": "code",
   "execution_count": 984,
   "metadata": {},
   "outputs": [
    {
     "data": {
      "text/plain": [
       "<matplotlib.legend.Legend at 0x7f39934dffa0>"
      ]
     },
     "execution_count": 984,
     "metadata": {},
     "output_type": "execute_result"
    },
    {
     "data": {
      "image/png": "[encoded data removed]",
      "text/plain": [
       "<Figure size 432x288 with 1 Axes>"
      ]
     },
     "metadata": {
      "needs_background": "light"
     },
     "output_type": "display_data"
    }
   ],
   "source": [
    "from sklearn.decomposition import PCA\n",
    "from sklearn.preprocessing import StandardScaler\n",
    "\n",
    "features_by_pid_plus_artist\n",
    "pca = PCA(n_components=2)\n",
    "scaler = StandardScaler()\n",
    "\n",
    "X_features_2d = pca.fit_transform(scaler.fit_transform(features_by_pid_plus_artist.drop_duplicates(subset='uri')[features_columns]))\n",
    "plt.scatter(X_features_2d[:, 0], X_features_2d[:, 1], c='midnightblue', s=2, marker='+', alpha=.7,\n",
    "           label='Canciones en el dataset')\n",
    "\n",
    "pca_recommended = pca.fit_transform(scaler.fit_transform(recommended_songs[features_columns]))\n",
    "\n",
    "# Pintar canciones a recomendar\n",
    "plt.scatter(pca_recommended[:, 0], pca_recommended[:, 1], c='gold', marker='x', s=4, label='Canciones recomendadas')\n",
    "\n",
    "test_set_pca = pca.fit_transform(scaler.fit_transform(test_set))\n",
    "# ... \n",
    "plt.scatter(test_set_pca[:, 0], test_set_pca[:, 1], c='red', marker='x', s=10, label='Canciones input')\n",
    "plt.xlabel('PCA1')\n",
    "plt.ylabel('PCA2')\n",
    "plt.legend(frameon=False)\n",
    "#plt.savefig('RecommendNearest20Songs.png', dpi=420)"
   ]
  },
  {
   "cell_type": "code",
   "execution_count": 1009,
   "metadata": {},
   "outputs": [],
   "source": [
    "top10recomendaciones = playlists.loc[np.isin(playlists.track_uri, recommended_songs.uri.iloc[:10]), ['artist_name', 'track_name', 'track_uri']].drop_duplicates()"
   ]
  },
  {
   "cell_type": "code",
   "execution_count": 1013,
   "metadata": {},
   "outputs": [
    {
     "data": {
      "text/html": [
       "<div>\n",
       "<style scoped>\n",
       "    .dataframe tbody tr th:only-of-type {\n",
       "        vertical-align: middle;\n",
       "    }\n",
       "\n",
       "    .dataframe tbody tr th {\n",
       "        vertical-align: top;\n",
       "    }\n",
       "\n",
       "    .dataframe thead th {\n",
       "        text-align: right;\n",
       "    }\n",
       "</style>\n",
       "<table border=\"1\" class=\"dataframe\">\n",
       "  <thead>\n",
       "    <tr style=\"text-align: right;\">\n",
       "      <th></th>\n",
       "      <th>artist_name</th>\n",
       "      <th>track_name</th>\n",
       "      <th>track_uri</th>\n",
       "    </tr>\n",
       "  </thead>\n",
       "  <tbody>\n",
       "    <tr>\n",
       "      <th>1566</th>\n",
       "      <td>KYLE</td>\n",
       "      <td>iSpy (feat. Lil Yachty)</td>\n",
       "      <td>spotify:track:2EEeOnHehOozLq4aS0n6SL</td>\n",
       "    </tr>\n",
       "    <tr>\n",
       "      <th>2896</th>\n",
       "      <td>Brad Paisley</td>\n",
       "      <td>Whiskey Lullaby</td>\n",
       "      <td>spotify:track:1tpLxOKuAaRCViAxf2pgNr</td>\n",
       "    </tr>\n",
       "    <tr>\n",
       "      <th>8434</th>\n",
       "      <td>Trey Songz</td>\n",
       "      <td>Bottoms Up - feat. Nicki Minaj</td>\n",
       "      <td>spotify:track:2IpGdrWvIZipmaxo1YRxw5</td>\n",
       "    </tr>\n",
       "    <tr>\n",
       "      <th>9234</th>\n",
       "      <td>MadeinTYO</td>\n",
       "      <td>Skateboard P (feat. Big Sean)</td>\n",
       "      <td>spotify:track:07pJdL0L9XDGW0HBj0rIS2</td>\n",
       "    </tr>\n",
       "    <tr>\n",
       "      <th>10102</th>\n",
       "      <td>Evanescence</td>\n",
       "      <td>My Immortal</td>\n",
       "      <td>spotify:track:1C0vXECyJHUeqOo2Etvrr2</td>\n",
       "    </tr>\n",
       "    <tr>\n",
       "      <th>13209</th>\n",
       "      <td>Fifth Harmony</td>\n",
       "      <td>Miss Movin' On</td>\n",
       "      <td>spotify:track:08GujSR7BcjakZUzX0R0nl</td>\n",
       "    </tr>\n",
       "    <tr>\n",
       "      <th>26537</th>\n",
       "      <td>Kstylis</td>\n",
       "      <td>Booty Me Down</td>\n",
       "      <td>spotify:track:0aWia6YqI2s9r41bXwnqhX</td>\n",
       "    </tr>\n",
       "    <tr>\n",
       "      <th>41536</th>\n",
       "      <td>Brantley Gilbert</td>\n",
       "      <td>You Don't Know Her Like I Do</td>\n",
       "      <td>spotify:track:4WnY4W5KrqglCdIus8X9Bo</td>\n",
       "    </tr>\n",
       "    <tr>\n",
       "      <th>52516</th>\n",
       "      <td>Lil Bibby</td>\n",
       "      <td>You Ain't Gang</td>\n",
       "      <td>spotify:track:2fNkxgImVNczSgpF7OVdIS</td>\n",
       "    </tr>\n",
       "    <tr>\n",
       "      <th>83769</th>\n",
       "      <td>Craig Morgan</td>\n",
       "      <td>Wake up Lovin' You</td>\n",
       "      <td>spotify:track:5UY3Vzkc5INzJ3wBJm5FlD</td>\n",
       "    </tr>\n",
       "  </tbody>\n",
       "</table>\n",
       "</div>"
      ],
      "text/plain": [
       "            artist_name                      track_name  \\\n",
       "1566               KYLE         iSpy (feat. Lil Yachty)   \n",
       "2896       Brad Paisley                 Whiskey Lullaby   \n",
       "8434         Trey Songz  Bottoms Up - feat. Nicki Minaj   \n",
       "9234          MadeinTYO   Skateboard P (feat. Big Sean)   \n",
       "10102       Evanescence                     My Immortal   \n",
       "13209     Fifth Harmony                  Miss Movin' On   \n",
       "26537           Kstylis                   Booty Me Down   \n",
       "41536  Brantley Gilbert    You Don't Know Her Like I Do   \n",
       "52516         Lil Bibby                  You Ain't Gang   \n",
       "83769      Craig Morgan              Wake up Lovin' You   \n",
       "\n",
       "                                  track_uri  \n",
       "1566   spotify:track:2EEeOnHehOozLq4aS0n6SL  \n",
       "2896   spotify:track:1tpLxOKuAaRCViAxf2pgNr  \n",
       "8434   spotify:track:2IpGdrWvIZipmaxo1YRxw5  \n",
       "9234   spotify:track:07pJdL0L9XDGW0HBj0rIS2  \n",
       "10102  spotify:track:1C0vXECyJHUeqOo2Etvrr2  \n",
       "13209  spotify:track:08GujSR7BcjakZUzX0R0nl  \n",
       "26537  spotify:track:0aWia6YqI2s9r41bXwnqhX  \n",
       "41536  spotify:track:4WnY4W5KrqglCdIus8X9Bo  \n",
       "52516  spotify:track:2fNkxgImVNczSgpF7OVdIS  \n",
       "83769  spotify:track:5UY3Vzkc5INzJ3wBJm5FlD  "
      ]
     },
     "execution_count": 1013,
     "metadata": {},
     "output_type": "execute_result"
    }
   ],
   "source": [
    "top10recomendaciones"
   ]
  },
  {
   "cell_type": "markdown",
   "metadata": {
    "id": "syTTf3UTlpHK"
   },
   "source": [
    "### Features por lista > cluster > PCA"
   ]
  },
  {
   "cell_type": "code",
   "execution_count": 61,
   "metadata": {
    "id": "xVn_umXujffE"
   },
   "outputs": [],
   "source": [
    "from sklearn.cluster import KMeans, DBSCAN\n",
    "from sklearn.decomposition import PCA\n",
    "from sklearn.preprocessing import StandardScaler"
   ]
  },
  {
   "cell_type": "markdown",
   "metadata": {
    "id": "JtogB77ekhEF"
   },
   "source": [
    "Ajustar DBSCAN:"
   ]
  },
  {
   "cell_type": "code",
   "execution_count": 62,
   "metadata": {
    "colab": {
     "base_uri": "https://localhost:8080/"
    },
    "id": "6BMq9tWLhwLy",
    "outputId": "d766db1c-2941-422a-c6d7-94fde2833024"
   },
   "outputs": [
    {
     "ename": "NameError",
     "evalue": "name 'X_features' is not defined",
     "output_type": "error",
     "traceback": [
      "\u001b[0;31m---------------------------------------------------------------------------\u001b[0m",
      "\u001b[0;31mNameError\u001b[0m                                 Traceback (most recent call last)",
      "\u001b[0;32m<ipython-input-62-56a91057cf90>\u001b[0m in \u001b[0;36m<module>\u001b[0;34m\u001b[0m\n\u001b[1;32m      1\u001b[0m \u001b[0mdbs_before_pca\u001b[0m \u001b[0;34m=\u001b[0m \u001b[0mDBSCAN\u001b[0m\u001b[0;34m(\u001b[0m\u001b[0meps\u001b[0m\u001b[0;34m=\u001b[0m\u001b[0;36m0.6\u001b[0m\u001b[0;34m,\u001b[0m \u001b[0mmin_samples\u001b[0m\u001b[0;34m=\u001b[0m\u001b[0;36m7\u001b[0m\u001b[0;34m,\u001b[0m \u001b[0mn_jobs\u001b[0m\u001b[0;34m=\u001b[0m\u001b[0;36m8\u001b[0m\u001b[0;34m)\u001b[0m\u001b[0;34m\u001b[0m\u001b[0;34m\u001b[0m\u001b[0m\n\u001b[0;32m----> 2\u001b[0;31m \u001b[0mdbs_before_pca\u001b[0m\u001b[0;34m.\u001b[0m\u001b[0mfit\u001b[0m\u001b[0;34m(\u001b[0m\u001b[0mX_features\u001b[0m\u001b[0;34m)\u001b[0m\u001b[0;34m\u001b[0m\u001b[0;34m\u001b[0m\u001b[0m\n\u001b[0m",
      "\u001b[0;31mNameError\u001b[0m: name 'X_features' is not defined"
     ]
    }
   ],
   "source": [
    "dbs_before_pca = DBSCAN(eps=0.6, min_samples=7, n_jobs=8)\n",
    "dbs_before_pca.fit(X_features)"
   ]
  },
  {
   "cell_type": "markdown",
   "metadata": {
    "id": "JmoJbL1BkiUV"
   },
   "source": [
    "Agregar método de la rodila..."
   ]
  },
  {
   "cell_type": "markdown",
   "metadata": {
    "id": "Hgr_6-YXkkmT"
   },
   "source": [
    "Visualizar los cluster en 2 dimensiones, luego de reducir con PCA, agregar\n",
    "etiquetas de los cluster encontrados anteriormente."
   ]
  },
  {
   "cell_type": "code",
   "execution_count": 63,
   "metadata": {
    "id": "vavxtjZaip-s"
   },
   "outputs": [
    {
     "ename": "NameError",
     "evalue": "name 'X_features' is not defined",
     "output_type": "error",
     "traceback": [
      "\u001b[0;31m---------------------------------------------------------------------------\u001b[0m",
      "\u001b[0;31mNameError\u001b[0m                                 Traceback (most recent call last)",
      "\u001b[0;32m<ipython-input-63-5f167fddb11d>\u001b[0m in \u001b[0;36m<module>\u001b[0;34m\u001b[0m\n\u001b[1;32m      1\u001b[0m \u001b[0mscaler\u001b[0m \u001b[0;34m=\u001b[0m \u001b[0mStandardScaler\u001b[0m\u001b[0;34m(\u001b[0m\u001b[0;34m)\u001b[0m\u001b[0;34m\u001b[0m\u001b[0;34m\u001b[0m\u001b[0m\n\u001b[1;32m      2\u001b[0m \u001b[0mpca\u001b[0m \u001b[0;34m=\u001b[0m \u001b[0mPCA\u001b[0m\u001b[0;34m(\u001b[0m\u001b[0mn_components\u001b[0m\u001b[0;34m=\u001b[0m\u001b[0;36m2\u001b[0m\u001b[0;34m)\u001b[0m\u001b[0;34m\u001b[0m\u001b[0;34m\u001b[0m\u001b[0m\n\u001b[0;32m----> 3\u001b[0;31m \u001b[0mX_features_2d\u001b[0m \u001b[0;34m=\u001b[0m \u001b[0mpca\u001b[0m\u001b[0;34m.\u001b[0m\u001b[0mfit_transform\u001b[0m\u001b[0;34m(\u001b[0m\u001b[0mscaler\u001b[0m\u001b[0;34m.\u001b[0m\u001b[0mfit_transform\u001b[0m\u001b[0;34m(\u001b[0m\u001b[0mX_features\u001b[0m\u001b[0;34m)\u001b[0m\u001b[0;34m)\u001b[0m\u001b[0;34m\u001b[0m\u001b[0;34m\u001b[0m\u001b[0m\n\u001b[0m",
      "\u001b[0;31mNameError\u001b[0m: name 'X_features' is not defined"
     ]
    }
   ],
   "source": [
    "scaler = StandardScaler()\n",
    "pca = PCA(n_components=2)\n",
    "X_features_2d = pca.fit_transform(scaler.fit_transform(X_features))"
   ]
  },
  {
   "cell_type": "code",
   "execution_count": null,
   "metadata": {
    "colab": {
     "base_uri": "https://localhost:8080/",
     "height": 280
    },
    "id": "Wxo_vpvyjJKT",
    "outputId": "fbe9faf8-10a1-453b-c806-6e906a2c25bd"
   },
   "outputs": [],
   "source": [
    "plt.scatter(X_features_2d[:, 0], X_features_2d[:, 1], c=dbs_before_pca.labels_)"
   ]
  },
  {
   "cell_type": "markdown",
   "metadata": {
    "id": "my_SL9hNkVu2"
   },
   "source": [
    "### Features por lista > PCA > cluster"
   ]
  },
  {
   "cell_type": "code",
   "execution_count": null,
   "metadata": {
    "colab": {
     "base_uri": "https://localhost:8080/",
     "height": 263
    },
    "id": "QqV33KkckqXC",
    "outputId": "40b601c1-e9bb-4b42-a411-aecdf9bafcf1"
   },
   "outputs": [],
   "source": [
    "X_features_2d = pca.fit_transform(scaler.fit_transform(X_features))\n",
    "dbs_after_pca = DBSCAN(eps=0.6, min_samples=7, n_jobs=8)\n",
    "dbs_after_pca .fit(X_features_2d);\n",
    "plt.scatter(X_features_2d[:, 0], X_features_2d[:, 1], c=dbs_after_pca.labels_);"
   ]
  }
 ],
 "metadata": {
  "colab": {
   "collapsed_sections": [
    "tJMr0_iW_Wzv"
   ],
   "name": "CC5205-3_spotify_1m_playlist.ipynb",
   "provenance": [],
   "toc_visible": true
  },
  "kernelspec": {
   "display_name": "eda",
   "language": "python",
   "name": "eda"
  },
  "language_info": {
   "codemirror_mode": {
    "name": "ipython",
    "version": 3
   },
   "file_extension": ".py",
   "mimetype": "text/x-python",
   "name": "python",
   "nbconvert_exporter": "python",
   "pygments_lexer": "ipython3",
   "version": "3.8.5"
  }
 },
 "nbformat": 4,
 "nbformat_minor": 1
}
